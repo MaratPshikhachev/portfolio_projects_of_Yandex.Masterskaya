{
 "cells": [
  {
   "cell_type": "markdown",
   "id": "9877a538",
   "metadata": {},
   "source": [
    "# Анализ вакансий на LinkedIn\n",
    "Итак, на вход есть датасет с вакансиями с сайта LinkedIn, который необходимо обработать для дальнейшей визуализации информации о рынке вакансий для аналитиков (дата аналитики и BI аналитики) в Европе\n",
    "- ознакомиться с данными\n",
    "- провести предобработку (дубликаты, пропуски)\n",
    "- выделить хард-скиллы\n",
    "- отфильтровать нерелевантные вакансии\n",
    "- сформировать датасеты, подходящие для визуализации, только с необходимыми параметрами\n",
    "\n",
    "По итогу, по отобранной информации (в отдельном датасете) требуется собрать дашборд собрать, где будут отражены:\n",
    "- количество вакансий по странам (в относительных значениях)\n",
    "- список нанимающих компаний с указанием количества вакансий \n",
    "- количество вакансий по типу занятости\n",
    "- ТОП-10 сфер деятельности компаний\n",
    "- размер компаний и количество вакансий  \n",
    "Дополнительно должны быть фильтры по странам и типу занятости, а также индикатор по общему количеству вакансий"
   ]
  },
  {
   "cell_type": "code",
   "execution_count": 1,
   "id": "6035ba5a",
   "metadata": {},
   "outputs": [],
   "source": [
    "# pip install Levenshtein"
   ]
  },
  {
   "cell_type": "markdown",
   "id": "1be6fe5a",
   "metadata": {},
   "source": [
    "дополнительно в процессе подгружалась таблица с переводами отдельных фраз и слов на другие языки (довольно грубая). Также загружена на гугл-диск (https://docs.google.com/spreadsheets/d/1F9hM6azZrXjyNl23RrF_P9tKkt-2ILjq/edit?usp=drive_link&ouid=100434527249103277012&rtpof=true&sd=true)\n",
    "\n",
    "ссылка на дашборд\n",
    "(https://public.tableau.com/app/profile/marat.pshikhachev/viz/linkedIn_dashboard/Dashboard_LinkedIn?publish=yes)\n"
   ]
  },
  {
   "cell_type": "code",
   "execution_count": 2,
   "id": "546ba256",
   "metadata": {},
   "outputs": [],
   "source": [
    "import pandas as pd\n",
    "import numpy as np\n",
    "from Levenshtein import distance as lev\n",
    "import re"
   ]
  },
  {
   "cell_type": "code",
   "execution_count": 3,
   "id": "68866b8b",
   "metadata": {
    "scrolled": false
   },
   "outputs": [
    {
     "data": {
      "text/html": [
       "<div>\n",
       "<style scoped>\n",
       "    .dataframe tbody tr th:only-of-type {\n",
       "        vertical-align: middle;\n",
       "    }\n",
       "\n",
       "    .dataframe tbody tr th {\n",
       "        vertical-align: top;\n",
       "    }\n",
       "\n",
       "    .dataframe thead th {\n",
       "        text-align: right;\n",
       "    }\n",
       "</style>\n",
       "<table border=\"1\" class=\"dataframe\">\n",
       "  <thead>\n",
       "    <tr style=\"text-align: right;\">\n",
       "      <th></th>\n",
       "      <th>title</th>\n",
       "      <th>location</th>\n",
       "      <th>country</th>\n",
       "      <th>employment_type</th>\n",
       "      <th>company_name</th>\n",
       "      <th>employee_qty</th>\n",
       "      <th>company_field</th>\n",
       "      <th>skills</th>\n",
       "      <th>job_description</th>\n",
       "      <th>applicants</th>\n",
       "    </tr>\n",
       "  </thead>\n",
       "  <tbody>\n",
       "    <tr>\n",
       "      <th>0</th>\n",
       "      <td>Data Analyst</td>\n",
       "      <td>Basel</td>\n",
       "      <td>Switzerland</td>\n",
       "      <td>On-site</td>\n",
       "      <td>PharmiWeb.Jobs: Global Life Science Jobs</td>\n",
       "      <td>11-50 employees</td>\n",
       "      <td>Staffing and Recruiting</td>\n",
       "      <td>None</td>\n",
       "      <td>What You Will Achi...</td>\n",
       "      <td>47.0</td>\n",
       "    </tr>\n",
       "    <tr>\n",
       "      <th>1</th>\n",
       "      <td>Data Analyst - Logistics</td>\n",
       "      <td>Coventry</td>\n",
       "      <td>United Kingdom</td>\n",
       "      <td>On-site</td>\n",
       "      <td>Resolute Recruitment</td>\n",
       "      <td>not specified</td>\n",
       "      <td>not specified</td>\n",
       "      <td>None</td>\n",
       "      <td></td>\n",
       "      <td>NaN</td>\n",
       "    </tr>\n",
       "    <tr>\n",
       "      <th>2</th>\n",
       "      <td>Data Analyst - Logistics</td>\n",
       "      <td>Coventry</td>\n",
       "      <td>United Kingdom</td>\n",
       "      <td>On-site</td>\n",
       "      <td>Resolute Recruitment</td>\n",
       "      <td>not specified</td>\n",
       "      <td>not specified</td>\n",
       "      <td>None</td>\n",
       "      <td>Data Analyst - Lo...</td>\n",
       "      <td>NaN</td>\n",
       "    </tr>\n",
       "    <tr>\n",
       "      <th>3</th>\n",
       "      <td>Data Analyst (Space &amp; Planning)</td>\n",
       "      <td>South Molton</td>\n",
       "      <td>United Kingdom</td>\n",
       "      <td>On-site</td>\n",
       "      <td>Mole Valley Farmers</td>\n",
       "      <td>not specified</td>\n",
       "      <td>not specified</td>\n",
       "      <td>None</td>\n",
       "      <td>Salary:     To b...</td>\n",
       "      <td>NaN</td>\n",
       "    </tr>\n",
       "    <tr>\n",
       "      <th>4</th>\n",
       "      <td>Data Analyst</td>\n",
       "      <td>Lugano</td>\n",
       "      <td>Switzerland</td>\n",
       "      <td>On-site</td>\n",
       "      <td>FORFIRM</td>\n",
       "      <td>not specified</td>\n",
       "      <td>not specified</td>\n",
       "      <td>None</td>\n",
       "      <td>FORFIRM     is p...</td>\n",
       "      <td>NaN</td>\n",
       "    </tr>\n",
       "    <tr>\n",
       "      <th>5</th>\n",
       "      <td>Data Analyst - Logistics</td>\n",
       "      <td>Southampton</td>\n",
       "      <td>United Kingdom</td>\n",
       "      <td>On-site</td>\n",
       "      <td>Butler, Bridge &amp; May</td>\n",
       "      <td>not specified</td>\n",
       "      <td>not specified</td>\n",
       "      <td>None</td>\n",
       "      <td>Location: Southam...</td>\n",
       "      <td>NaN</td>\n",
       "    </tr>\n",
       "    <tr>\n",
       "      <th>6</th>\n",
       "      <td>Data Analyst</td>\n",
       "      <td>Leeds</td>\n",
       "      <td>United Kingdom</td>\n",
       "      <td>On-site</td>\n",
       "      <td>Maria Mallaband Care Group Ltd</td>\n",
       "      <td>not specified</td>\n",
       "      <td>not specified</td>\n",
       "      <td>None</td>\n",
       "      <td>We’re Maria Malla...</td>\n",
       "      <td>NaN</td>\n",
       "    </tr>\n",
       "    <tr>\n",
       "      <th>7</th>\n",
       "      <td>Data Analyst</td>\n",
       "      <td>Nuneaton</td>\n",
       "      <td>United Kingdom</td>\n",
       "      <td>Hybrid</td>\n",
       "      <td>Kelly Group</td>\n",
       "      <td>not specified</td>\n",
       "      <td>not specified</td>\n",
       "      <td>None</td>\n",
       "      <td>Kelly Group are s...</td>\n",
       "      <td>NaN</td>\n",
       "    </tr>\n",
       "    <tr>\n",
       "      <th>8</th>\n",
       "      <td>Data Analyst</td>\n",
       "      <td>Paris</td>\n",
       "      <td>France</td>\n",
       "      <td>On-site</td>\n",
       "      <td>eXalt</td>\n",
       "      <td>501-1,000 employees</td>\n",
       "      <td>IT Services and IT Consulting</td>\n",
       "      <td>&lt;span class=\"visually-hidden\"&gt;&lt;!-- --&gt;Skills: ...</td>\n",
       "      <td>Qui sont-ils ?   ...</td>\n",
       "      <td>140.0</td>\n",
       "    </tr>\n",
       "    <tr>\n",
       "      <th>9</th>\n",
       "      <td>Data Analyst - Hybrid Working</td>\n",
       "      <td>Cambridge</td>\n",
       "      <td>United Kingdom</td>\n",
       "      <td>On-site</td>\n",
       "      <td>Blue Arrow</td>\n",
       "      <td>not specified</td>\n",
       "      <td>not specified</td>\n",
       "      <td>None</td>\n",
       "      <td>Data Analyst    ...</td>\n",
       "      <td>NaN</td>\n",
       "    </tr>\n",
       "    <tr>\n",
       "      <th>10</th>\n",
       "      <td>Data Analyst</td>\n",
       "      <td>West Midlands</td>\n",
       "      <td>United Kingdom</td>\n",
       "      <td>On-site</td>\n",
       "      <td>Mexa Solutions</td>\n",
       "      <td>not specified</td>\n",
       "      <td>not specified</td>\n",
       "      <td>None</td>\n",
       "      <td>Hybrid - West Mi...</td>\n",
       "      <td>NaN</td>\n",
       "    </tr>\n",
       "    <tr>\n",
       "      <th>11</th>\n",
       "      <td>Commercial Data Analyst</td>\n",
       "      <td>Schiphol</td>\n",
       "      <td>Netherlands</td>\n",
       "      <td>On-site</td>\n",
       "      <td>Royal Schiphol Group</td>\n",
       "      <td>1,001-5,000 employees</td>\n",
       "      <td>Airlines and Aviation</td>\n",
       "      <td>&lt;span class=\"visually-hidden\"&gt;&lt;!-- --&gt;Skills: ...</td>\n",
       "      <td>De functie    Welk...</td>\n",
       "      <td>13.0</td>\n",
       "    </tr>\n",
       "    <tr>\n",
       "      <th>12</th>\n",
       "      <td>Asset Data Analyst</td>\n",
       "      <td>Chester</td>\n",
       "      <td>United Kingdom</td>\n",
       "      <td>On-site</td>\n",
       "      <td>networx | Recruitment Software &amp; Services by IRIS</td>\n",
       "      <td>not specified</td>\n",
       "      <td>not specified</td>\n",
       "      <td>None</td>\n",
       "      <td>Do you have the d...</td>\n",
       "      <td>NaN</td>\n",
       "    </tr>\n",
       "    <tr>\n",
       "      <th>13</th>\n",
       "      <td>Data Analyst - Hybrid</td>\n",
       "      <td>Cambridge</td>\n",
       "      <td>United Kingdom</td>\n",
       "      <td>On-site</td>\n",
       "      <td>Blue Arrow</td>\n",
       "      <td>not specified</td>\n",
       "      <td>not specified</td>\n",
       "      <td>None</td>\n",
       "      <td>Data Analyst    ...</td>\n",
       "      <td>NaN</td>\n",
       "    </tr>\n",
       "    <tr>\n",
       "      <th>14</th>\n",
       "      <td>Data Analyst</td>\n",
       "      <td>Craven Arms</td>\n",
       "      <td>United Kingdom</td>\n",
       "      <td>not specified</td>\n",
       "      <td>networx | Recruitment Software &amp; Services by IRIS</td>\n",
       "      <td>not specified</td>\n",
       "      <td>not specified</td>\n",
       "      <td>None</td>\n",
       "      <td>Are you passionat...</td>\n",
       "      <td>NaN</td>\n",
       "    </tr>\n",
       "    <tr>\n",
       "      <th>15</th>\n",
       "      <td>Data Analyst</td>\n",
       "      <td>Dublin</td>\n",
       "      <td>Ireland</td>\n",
       "      <td>Hybrid</td>\n",
       "      <td>PharmiWeb.Jobs: Global Life Science Jobs</td>\n",
       "      <td>not specified</td>\n",
       "      <td>not specified</td>\n",
       "      <td>None</td>\n",
       "      <td>Data Analyst ...</td>\n",
       "      <td>NaN</td>\n",
       "    </tr>\n",
       "    <tr>\n",
       "      <th>16</th>\n",
       "      <td>Data Analyst (FT)</td>\n",
       "      <td>Belfast</td>\n",
       "      <td>United Kingdom</td>\n",
       "      <td>On-site</td>\n",
       "      <td>Black Fox Solutions</td>\n",
       "      <td>11-50 employees</td>\n",
       "      <td>Staffing and Recruiting</td>\n",
       "      <td>None</td>\n",
       "      <td>Data Analyst - Gr...</td>\n",
       "      <td>7.0</td>\n",
       "    </tr>\n",
       "    <tr>\n",
       "      <th>17</th>\n",
       "      <td>Data Analyst</td>\n",
       "      <td>Sunderland</td>\n",
       "      <td>United Kingdom</td>\n",
       "      <td>Hybrid</td>\n",
       "      <td>tombola</td>\n",
       "      <td>501-1,000 employees</td>\n",
       "      <td>IT Services and IT Consulting</td>\n",
       "      <td>None</td>\n",
       "      <td>Are you a data wi...</td>\n",
       "      <td>NaN</td>\n",
       "    </tr>\n",
       "    <tr>\n",
       "      <th>18</th>\n",
       "      <td>Data Analyst H/F</td>\n",
       "      <td>Montévrain</td>\n",
       "      <td>France</td>\n",
       "      <td>On-site</td>\n",
       "      <td>Fives</td>\n",
       "      <td>not specified</td>\n",
       "      <td>not specified</td>\n",
       "      <td>None</td>\n",
       "      <td>Soyez acteurs d'u...</td>\n",
       "      <td>NaN</td>\n",
       "    </tr>\n",
       "    <tr>\n",
       "      <th>19</th>\n",
       "      <td>Data Analyst</td>\n",
       "      <td>Bristol</td>\n",
       "      <td>United Kingdom</td>\n",
       "      <td>On-site</td>\n",
       "      <td>Babcock</td>\n",
       "      <td>501-1,000 employees</td>\n",
       "      <td>Airlines and Aviation</td>\n",
       "      <td>None</td>\n",
       "      <td>This job is...</td>\n",
       "      <td>53.0</td>\n",
       "    </tr>\n",
       "  </tbody>\n",
       "</table>\n",
       "</div>"
      ],
      "text/plain": [
       "                              title       location          country  \\\n",
       "0                      Data Analyst          Basel      Switzerland   \n",
       "1          Data Analyst - Logistics       Coventry   United Kingdom   \n",
       "2          Data Analyst - Logistics       Coventry   United Kingdom   \n",
       "3   Data Analyst (Space & Planning)   South Molton   United Kingdom   \n",
       "4                      Data Analyst         Lugano      Switzerland   \n",
       "5          Data Analyst - Logistics    Southampton   United Kingdom   \n",
       "6                      Data Analyst          Leeds   United Kingdom   \n",
       "7                      Data Analyst       Nuneaton   United Kingdom   \n",
       "8                      Data Analyst          Paris           France   \n",
       "9     Data Analyst - Hybrid Working      Cambridge   United Kingdom   \n",
       "10                     Data Analyst  West Midlands   United Kingdom   \n",
       "11          Commercial Data Analyst       Schiphol      Netherlands   \n",
       "12               Asset Data Analyst        Chester   United Kingdom   \n",
       "13            Data Analyst - Hybrid      Cambridge   United Kingdom   \n",
       "14                     Data Analyst    Craven Arms   United Kingdom   \n",
       "15                     Data Analyst         Dublin          Ireland   \n",
       "16                Data Analyst (FT)        Belfast   United Kingdom   \n",
       "17                     Data Analyst     Sunderland   United Kingdom   \n",
       "18                 Data Analyst H/F     Montévrain           France   \n",
       "19                     Data Analyst        Bristol   United Kingdom   \n",
       "\n",
       "   employment_type                                       company_name  \\\n",
       "0          On-site           PharmiWeb.Jobs: Global Life Science Jobs   \n",
       "1          On-site                               Resolute Recruitment   \n",
       "2          On-site                               Resolute Recruitment   \n",
       "3          On-site                                Mole Valley Farmers   \n",
       "4          On-site                                            FORFIRM   \n",
       "5          On-site                               Butler, Bridge & May   \n",
       "6          On-site                     Maria Mallaband Care Group Ltd   \n",
       "7           Hybrid                                        Kelly Group   \n",
       "8          On-site                                              eXalt   \n",
       "9          On-site                                         Blue Arrow   \n",
       "10         On-site                                     Mexa Solutions   \n",
       "11         On-site                               Royal Schiphol Group   \n",
       "12         On-site  networx | Recruitment Software & Services by IRIS   \n",
       "13         On-site                                         Blue Arrow   \n",
       "14   not specified  networx | Recruitment Software & Services by IRIS   \n",
       "15          Hybrid           PharmiWeb.Jobs: Global Life Science Jobs   \n",
       "16         On-site                                Black Fox Solutions   \n",
       "17          Hybrid                                            tombola   \n",
       "18         On-site                                              Fives   \n",
       "19         On-site                                            Babcock   \n",
       "\n",
       "             employee_qty                  company_field  \\\n",
       "0         11-50 employees        Staffing and Recruiting   \n",
       "1           not specified                  not specified   \n",
       "2           not specified                  not specified   \n",
       "3           not specified                  not specified   \n",
       "4           not specified                  not specified   \n",
       "5           not specified                  not specified   \n",
       "6           not specified                  not specified   \n",
       "7           not specified                  not specified   \n",
       "8     501-1,000 employees  IT Services and IT Consulting   \n",
       "9           not specified                  not specified   \n",
       "10          not specified                  not specified   \n",
       "11  1,001-5,000 employees          Airlines and Aviation   \n",
       "12          not specified                  not specified   \n",
       "13          not specified                  not specified   \n",
       "14          not specified                  not specified   \n",
       "15          not specified                  not specified   \n",
       "16        11-50 employees        Staffing and Recruiting   \n",
       "17    501-1,000 employees  IT Services and IT Consulting   \n",
       "18          not specified                  not specified   \n",
       "19    501-1,000 employees          Airlines and Aviation   \n",
       "\n",
       "                                               skills  \\\n",
       "0                                                None   \n",
       "1                                                None   \n",
       "2                                                None   \n",
       "3                                                None   \n",
       "4                                                None   \n",
       "5                                                None   \n",
       "6                                                None   \n",
       "7                                                None   \n",
       "8   <span class=\"visually-hidden\"><!-- -->Skills: ...   \n",
       "9                                                None   \n",
       "10                                               None   \n",
       "11  <span class=\"visually-hidden\"><!-- -->Skills: ...   \n",
       "12                                               None   \n",
       "13                                               None   \n",
       "14                                               None   \n",
       "15                                               None   \n",
       "16                                               None   \n",
       "17                                               None   \n",
       "18                                               None   \n",
       "19                                               None   \n",
       "\n",
       "                                      job_description  applicants  \n",
       "0                               What You Will Achi...        47.0  \n",
       "1                                                             NaN  \n",
       "2                                Data Analyst - Lo...         NaN  \n",
       "3                                 Salary:     To b...         NaN  \n",
       "4                                 FORFIRM     is p...         NaN  \n",
       "5                                Location: Southam...         NaN  \n",
       "6                                We’re Maria Malla...         NaN  \n",
       "7                                Kelly Group are s...         NaN  \n",
       "8                                Qui sont-ils ?   ...       140.0  \n",
       "9                                 Data Analyst    ...         NaN  \n",
       "10                                Hybrid - West Mi...         NaN  \n",
       "11                              De functie    Welk...        13.0  \n",
       "12                               Do you have the d...         NaN  \n",
       "13                                Data Analyst    ...         NaN  \n",
       "14                               Are you passionat...         NaN  \n",
       "15                                   Data Analyst ...         NaN  \n",
       "16                               Data Analyst - Gr...         7.0  \n",
       "17                               Are you a data wi...         NaN  \n",
       "18                               Soyez acteurs d'u...         NaN  \n",
       "19                                     This job is...        53.0  "
      ]
     },
     "execution_count": 3,
     "metadata": {},
     "output_type": "execute_result"
    }
   ],
   "source": [
    "# загрузим данные\n",
    "df = pd.read_csv('vacancy_linkedIn.csv')\n",
    "df.head(20)"
   ]
  },
  {
   "cell_type": "code",
   "execution_count": 4,
   "id": "7ee3ad8e",
   "metadata": {},
   "outputs": [
    {
     "name": "stdout",
     "output_type": "stream",
     "text": [
      "<class 'pandas.core.frame.DataFrame'>\n",
      "RangeIndex: 998 entries, 0 to 997\n",
      "Data columns (total 10 columns):\n",
      " #   Column           Non-Null Count  Dtype  \n",
      "---  ------           --------------  -----  \n",
      " 0   title            998 non-null    object \n",
      " 1   location         998 non-null    object \n",
      " 2   country          998 non-null    object \n",
      " 3   employment_type  998 non-null    object \n",
      " 4   company_name     996 non-null    object \n",
      " 5   employee_qty     998 non-null    object \n",
      " 6   company_field    998 non-null    object \n",
      " 7   skills           998 non-null    object \n",
      " 8   job_description  998 non-null    object \n",
      " 9   applicants       838 non-null    float64\n",
      "dtypes: float64(1), object(9)\n",
      "memory usage: 78.1+ KB\n"
     ]
    }
   ],
   "source": [
    "df.info()"
   ]
  },
  {
   "cell_type": "markdown",
   "id": "7a67aea3",
   "metadata": {},
   "source": [
    "Итак, имеется 10 столбцов:\n",
    "- `title` - название вакансии - на этапе предобработки -перевести все наименования в нижний регистр (на всякий случай)\n",
    "- `location` и `country` - пропусков нет. Проверить на наличие неявных дубликатов (особенно в country).\n",
    "- `employment_type` - тип занятости - проверить на дубликаты.\n",
    "-`company_name` - название компании. Проверить на пропуски (как минимум у двух компаний нет названия) и неявные дубликаты\n",
    "- `employee_qty` - количество сотрудников. Проверить сколько компаний не указали количество сотрудников. Проверить категории на неявные дубликаты.\n",
    "- `company_field` - область деятельности. Проверить категории и неявные дубликаты. Посмотреть пропуски.\n",
    "- `skills` и `job_description` - перевести в нижний регистр для дальнейшего поиска скиллов. Проверить сколько пропусков в каждом.\n",
    "- `applicants` - количество кандидатов. Проверить сколько пропусков. и Нет ли аномальных значений.\n"
   ]
  },
  {
   "cell_type": "markdown",
   "id": "ea8a1b7c",
   "metadata": {},
   "source": [
    "## Предобработка"
   ]
  },
  {
   "cell_type": "markdown",
   "id": "4b8dc2ec",
   "metadata": {},
   "source": [
    "### Общая проверка на дубликаты"
   ]
  },
  {
   "cell_type": "code",
   "execution_count": 5,
   "id": "b4bab22b",
   "metadata": {},
   "outputs": [
    {
     "data": {
      "text/plain": [
       "112"
      ]
     },
     "execution_count": 5,
     "metadata": {},
     "output_type": "execute_result"
    }
   ],
   "source": [
    "df.duplicated().sum()"
   ]
  },
  {
   "cell_type": "markdown",
   "id": "daee6e66",
   "metadata": {},
   "source": [
    "Итак, имеется 112 полных дубликатов. Удалим всё лишнее."
   ]
  },
  {
   "cell_type": "code",
   "execution_count": 6,
   "id": "180c7263",
   "metadata": {},
   "outputs": [],
   "source": [
    "df = df.drop_duplicates().reset_index(drop=True) "
   ]
  },
  {
   "cell_type": "code",
   "execution_count": 7,
   "id": "e299a750",
   "metadata": {},
   "outputs": [
    {
     "data": {
      "text/plain": [
       "0"
      ]
     },
     "execution_count": 7,
     "metadata": {},
     "output_type": "execute_result"
    }
   ],
   "source": [
    "df.duplicated().sum()"
   ]
  },
  {
   "cell_type": "markdown",
   "id": "5d7c7ebe",
   "metadata": {},
   "source": [
    "Дубликаты удалены."
   ]
  },
  {
   "cell_type": "markdown",
   "id": "ade49b80",
   "metadata": {},
   "source": [
    "### Столбец `title` название вакансии\n",
    "Чтобы проще было в дальнейшем проверить релевантность вакансий, переведём всё в нижний регистр"
   ]
  },
  {
   "cell_type": "code",
   "execution_count": 8,
   "id": "33e7c60d",
   "metadata": {},
   "outputs": [],
   "source": [
    "df['title'] = df['title'].apply(lambda x: x.lower())"
   ]
  },
  {
   "cell_type": "markdown",
   "id": "d324a835",
   "metadata": {},
   "source": [
    "Сделано. дополнительно заменим все дефисы на пробелы (если такие есть), чтобы было проще потом отбирать релевантные вакансии "
   ]
  },
  {
   "cell_type": "code",
   "execution_count": 9,
   "id": "a5a0a891",
   "metadata": {},
   "outputs": [],
   "source": [
    "df['title'] = df['title'].apply(lambda x: x.replace(\"-\", \" \"))"
   ]
  },
  {
   "cell_type": "markdown",
   "id": "d0b0292d",
   "metadata": {},
   "source": [
    "### Столбец `location` (населенный пункт, регион, локации) и `country` (страна)\n",
    "Проверим, какие  и страны входят в указанные столбцы "
   ]
  },
  {
   "cell_type": "code",
   "execution_count": 10,
   "id": "bcf39331",
   "metadata": {},
   "outputs": [
    {
     "name": "stdout",
     "output_type": "stream",
     "text": [
      "428\n"
     ]
    },
    {
     "data": {
      "text/plain": [
       "[\"'s-Hertogenbosch\",\n",
       " 'Aalborg',\n",
       " 'Ahlen',\n",
       " 'Aix-en-Provence',\n",
       " 'Albuzzano',\n",
       " 'Alsónémedi',\n",
       " 'Amersfoort',\n",
       " 'Amstelveen',\n",
       " 'Amsterdam',\n",
       " 'Amsterdam Area',\n",
       " 'Ancona',\n",
       " 'Arcole',\n",
       " 'Arconate',\n",
       " 'Arluno',\n",
       " 'Arnhem',\n",
       " 'Arrasate / Mondragón',\n",
       " 'Athens',\n",
       " 'Athens Metropolitan Area',\n",
       " 'Augusta',\n",
       " 'Baierbrunn',\n",
       " 'Barcelona',\n",
       " 'Bari',\n",
       " 'Basel',\n",
       " 'Basingstoke',\n",
       " 'Bath',\n",
       " 'Belas',\n",
       " 'Belfast',\n",
       " 'Bellinzago Lombardo',\n",
       " 'Bergamo',\n",
       " 'Bergen op Zoom',\n",
       " 'Bergisch Gladbach',\n",
       " 'Berlin',\n",
       " 'Berlin Metropolitan Area',\n",
       " 'Bernay',\n",
       " 'Bertrange',\n",
       " 'Bilbao-Bilbo',\n",
       " 'Binasco',\n",
       " 'Birkirkara',\n",
       " 'Blackpool',\n",
       " 'Boadilla del Monte',\n",
       " 'Bodelshausen',\n",
       " 'Bois-Colombes',\n",
       " 'Bollate',\n",
       " 'Bologna',\n",
       " 'Bonn',\n",
       " 'Bordeaux',\n",
       " 'Boulogne-Billancourt',\n",
       " 'Bracknell',\n",
       " 'Braine-l’Alleud',\n",
       " 'Bremen',\n",
       " 'Brindisi',\n",
       " 'Bristol',\n",
       " 'Brunswick',\n",
       " 'Brussels',\n",
       " 'Brussels Metropolitan Area',\n",
       " 'Brussels Region',\n",
       " 'Bucharest',\n",
       " 'Buckinghamshire',\n",
       " 'Budapest',\n",
       " 'Bulgaria',\n",
       " 'Busto Arsizio',\n",
       " 'Bègles',\n",
       " 'Cagliari',\n",
       " 'Calvignasco',\n",
       " 'Cambridge',\n",
       " 'Campodarsego',\n",
       " 'Canegrate',\n",
       " 'Carpi',\n",
       " 'Carpiano',\n",
       " \"Cassano d'Adda\",\n",
       " \"Cassina de' Pecchi\",\n",
       " 'Cerdanyola del Vallès',\n",
       " 'Cernusco sul Naviglio',\n",
       " 'Cesate',\n",
       " 'Chappes',\n",
       " 'Charenton-le-Pont',\n",
       " 'Chaucer',\n",
       " 'Chester',\n",
       " 'Chevigny-Saint-Sauveur',\n",
       " 'Clichy',\n",
       " 'Coburg',\n",
       " 'Coimbra',\n",
       " 'Cologne',\n",
       " 'Cologne Bonn Region',\n",
       " 'Colturano',\n",
       " 'Copenhagen',\n",
       " 'Copenhagen Metropolitan Area',\n",
       " 'Cork',\n",
       " 'Cornaredo',\n",
       " 'Corsico',\n",
       " 'County Cork',\n",
       " 'County Dublin',\n",
       " 'Courbevoie',\n",
       " 'Coventry',\n",
       " 'Cracow',\n",
       " 'Craven Arms',\n",
       " 'Croix',\n",
       " 'Crolles',\n",
       " 'Cusago',\n",
       " 'Cusano Milanino',\n",
       " 'Danderyd',\n",
       " 'Debrecen',\n",
       " 'Denmark',\n",
       " 'Derby',\n",
       " 'Dijon',\n",
       " 'Dobříš',\n",
       " 'Doesburg',\n",
       " 'Doncaster',\n",
       " 'Douai',\n",
       " 'Drammen',\n",
       " 'Dresano',\n",
       " 'Dresden',\n",
       " 'Dublin',\n",
       " 'Dublin City',\n",
       " 'Durham',\n",
       " 'Düsseldorf',\n",
       " 'Ede',\n",
       " 'Edinburgh',\n",
       " 'Egham',\n",
       " 'Eindhoven',\n",
       " 'Eindhoven Area',\n",
       " 'Eisenach',\n",
       " 'Elliniko-Argyroupoli',\n",
       " 'Elmshorn',\n",
       " 'Elsbethen',\n",
       " 'Emmen',\n",
       " 'Epsom',\n",
       " 'Erstein',\n",
       " 'Esch-Sur-Alzette',\n",
       " 'Espoo',\n",
       " 'Essen',\n",
       " 'Faenza',\n",
       " 'Farum',\n",
       " 'Finland',\n",
       " 'Flemish Region',\n",
       " 'Florence',\n",
       " 'Fontenay-sous-Bois',\n",
       " 'France',\n",
       " 'Frankfurt',\n",
       " 'Frankfurt am Main',\n",
       " 'Frosinone',\n",
       " 'Fuschl am See',\n",
       " 'Galway',\n",
       " 'Garwolin',\n",
       " 'Gattinara',\n",
       " 'Gaydon',\n",
       " 'Gdańsk',\n",
       " 'Gdynia',\n",
       " 'Gennevilliers',\n",
       " 'Genoa',\n",
       " 'Germany',\n",
       " 'Gessate',\n",
       " 'Getafe',\n",
       " 'Ghent',\n",
       " 'Gießen',\n",
       " 'Gillingham',\n",
       " 'Gloucestershire',\n",
       " \"Granarolo dell'Emilia\",\n",
       " 'Greater Banska Bystrica Area',\n",
       " 'Greater Barcelona Metropolitan Area',\n",
       " 'Greater Dijon Area',\n",
       " 'Greater Lyon Area',\n",
       " 'Greater Madrid Metropolitan Area',\n",
       " 'Greater Milan Metropolitan Area',\n",
       " 'Greater Munich Metropolitan Area',\n",
       " 'Greater Munster Area',\n",
       " 'Greater Nuremberg Metropolitan Area',\n",
       " 'Greater Oslo Region',\n",
       " 'Greater Palma de Mallorca Metropolitan Area',\n",
       " 'Greater Paris Metropolitan Region',\n",
       " 'Greater Pau Area',\n",
       " 'Greater Verona Metropolitan Area',\n",
       " 'Grenzach-Wyhlen',\n",
       " 'Groningen',\n",
       " 'Grünheide',\n",
       " 'Guissona',\n",
       " 'Guyancourt',\n",
       " 'Hamburg',\n",
       " 'Harlestone',\n",
       " 'Hasselt',\n",
       " 'Hatfield',\n",
       " 'Hawthorn',\n",
       " 'Heerlen',\n",
       " 'Heidelberg',\n",
       " 'Helsingborg',\n",
       " 'Helsinki',\n",
       " 'Hereford',\n",
       " 'Hertfordshire',\n",
       " 'Holzwickede',\n",
       " 'Hoofddorp',\n",
       " 'Hook of Holland',\n",
       " 'Hungary',\n",
       " 'Höchberg',\n",
       " 'Hückelhoven',\n",
       " 'Iasi Metropolitan Area',\n",
       " 'Imola',\n",
       " 'Inzago',\n",
       " 'Ireland',\n",
       " 'Iráklion',\n",
       " 'Issy-les-Moulineaux',\n",
       " 'Italy',\n",
       " 'Jena',\n",
       " 'Jonkoping County',\n",
       " 'Kaiserslautern',\n",
       " 'Karlsruhe',\n",
       " 'Karlstad',\n",
       " 'Koerich',\n",
       " 'Kontich',\n",
       " 'Kosice',\n",
       " 'Košice',\n",
       " 'Krakow Metropolitan Area',\n",
       " 'La Défense',\n",
       " 'Lacchiarella',\n",
       " 'Laudio / Llodio',\n",
       " 'Leeds',\n",
       " 'Leiden',\n",
       " 'Leinfelden-Echterdingen',\n",
       " 'Leipzig',\n",
       " 'Lelystad',\n",
       " 'Levallois-Perret',\n",
       " 'Lidköping',\n",
       " 'Liguria',\n",
       " 'Lille',\n",
       " 'Limburg',\n",
       " 'Lindau',\n",
       " 'Lisboa',\n",
       " 'Lisbon',\n",
       " 'Lisbon Metropolitan Area',\n",
       " 'Lithuania',\n",
       " 'Liège',\n",
       " 'Lombardy',\n",
       " 'London',\n",
       " 'Louvain-la-Neuve',\n",
       " 'Lucerne',\n",
       " 'Lugano',\n",
       " 'Luleå',\n",
       " 'Lund',\n",
       " 'Luxembourg',\n",
       " 'Lyon',\n",
       " 'Madrid',\n",
       " 'Mainz',\n",
       " 'Malmö',\n",
       " 'Manchester',\n",
       " 'Manchester Area',\n",
       " 'Mannheim',\n",
       " 'Marcallo con Casone',\n",
       " 'Marlow',\n",
       " 'Marsa',\n",
       " 'Massy',\n",
       " 'Matera',\n",
       " 'Mechelen',\n",
       " 'Meudon',\n",
       " 'Middlesbrough',\n",
       " 'Milan',\n",
       " 'Milton Keynes',\n",
       " 'Monaco',\n",
       " 'Montévrain',\n",
       " 'Monza',\n",
       " 'Moravia-Silesia',\n",
       " 'Moulineaux',\n",
       " 'Munich',\n",
       " 'Mönchengladbach',\n",
       " 'Mülheim an der Ruhr',\n",
       " 'Münster',\n",
       " 'Nanterre',\n",
       " 'Nantes',\n",
       " 'Naples',\n",
       " 'Neckarsulm',\n",
       " 'Netherlands',\n",
       " 'Neuilly-sur-Seine',\n",
       " 'Neuss',\n",
       " 'Newcastle upon Tyne',\n",
       " 'Nice',\n",
       " 'Nitra Region',\n",
       " 'North Holland',\n",
       " 'Nova Milanese',\n",
       " 'Novate Milanese',\n",
       " 'Nuneaton',\n",
       " 'Nuremberg',\n",
       " 'Oeiras',\n",
       " 'Olèrdola',\n",
       " 'Orosháza',\n",
       " 'Oslo',\n",
       " 'Osnabrück',\n",
       " 'Ostellato',\n",
       " 'Ottignies-Louvain-la-Neuve',\n",
       " 'Oudenaarde',\n",
       " 'Oxford',\n",
       " 'Padua',\n",
       " 'Palaiseau',\n",
       " 'Palaión Fáliron',\n",
       " 'Palermo',\n",
       " 'Palma',\n",
       " 'Paris',\n",
       " 'Parma',\n",
       " 'Paterna',\n",
       " 'Pieve Emanuele',\n",
       " 'Pioltello',\n",
       " 'Piraeus',\n",
       " 'Pistoia',\n",
       " 'Plaisir',\n",
       " 'Poissy',\n",
       " 'Poland',\n",
       " 'Pordenone',\n",
       " 'Porto',\n",
       " 'Portugal',\n",
       " 'Prague',\n",
       " 'Prague Metropolitan Area',\n",
       " 'Puteaux',\n",
       " 'Raamsdonksveer',\n",
       " 'Recanati',\n",
       " 'Rethymno',\n",
       " 'Riga',\n",
       " 'Rijswijk',\n",
       " 'Romania',\n",
       " 'Rome',\n",
       " 'Ronda',\n",
       " 'Ronneby',\n",
       " 'Rosate',\n",
       " 'Rotterdam',\n",
       " 'Rotterdam and The Hague',\n",
       " 'Roubaix',\n",
       " 'Rouen',\n",
       " 'Rozzano',\n",
       " 'Salzburg',\n",
       " 'San Colombano al Lambro',\n",
       " 'San Donato Milanese',\n",
       " 'San Zenone al Lambro',\n",
       " 'San Ġiljan',\n",
       " 'Sant Cugat del Vallès',\n",
       " 'Sant Just Desvern',\n",
       " \"Sant'Elpidio a Mare\",\n",
       " 'Savona',\n",
       " 'Schiphol',\n",
       " 'Schwäbisch Gmünd',\n",
       " 'Sedriano',\n",
       " 'Senago',\n",
       " 'Sesto San Giovanni',\n",
       " 'Sintra',\n",
       " 'Sliema',\n",
       " 'Sligo',\n",
       " 'Sofia',\n",
       " 'Solihull',\n",
       " 'Solna',\n",
       " 'South Molton',\n",
       " 'Southampton',\n",
       " 'Spain',\n",
       " 'Sparta',\n",
       " 'Spinea',\n",
       " 'St-Malo',\n",
       " 'St.-Denis',\n",
       " 'St.-Ouen',\n",
       " 'Stockholm',\n",
       " 'Stockholm County',\n",
       " 'Stuttgart',\n",
       " 'Stuttgart Region',\n",
       " 'Sundbyberg',\n",
       " 'Sunderland',\n",
       " 'Sundsvall',\n",
       " 'Suresnes',\n",
       " 'Szczecin',\n",
       " 'Szentendre',\n",
       " 'Szombathely',\n",
       " 'Székesfehérvár',\n",
       " 'Taibon',\n",
       " 'Tallinn',\n",
       " 'Tartu',\n",
       " 'Telde',\n",
       " 'Terranuova Bracciolini',\n",
       " 'Tessenderlo',\n",
       " 'The Hague',\n",
       " 'The Randstad',\n",
       " 'Thessaloniki',\n",
       " 'Timişoara',\n",
       " 'Torremolinos',\n",
       " 'Toulouse',\n",
       " 'Treviso',\n",
       " 'Trezzano Rosa',\n",
       " \"Trezzo sull'Adda\",\n",
       " 'Truccazzano',\n",
       " 'Turin',\n",
       " 'Tussenhausen',\n",
       " 'Ulm',\n",
       " 'Umeå',\n",
       " 'Utrecht',\n",
       " 'Valencia',\n",
       " 'Valladolid',\n",
       " 'Valletta',\n",
       " 'Vannes',\n",
       " 'Vanzaghello',\n",
       " 'Vanzago',\n",
       " \"Vaprio d'Adda\",\n",
       " 'Venlo',\n",
       " 'Vermezzo',\n",
       " 'Vienna',\n",
       " 'Vila Nova de Cerveira',\n",
       " 'Vila do Conde',\n",
       " 'Viladecans',\n",
       " 'Villeneuve-d’Ascq',\n",
       " 'Villes',\n",
       " 'Vilnius',\n",
       " 'Vilvoorde',\n",
       " 'Vitoria-Gasteiz',\n",
       " 'Vitry-sur-Seine',\n",
       " 'Vittuone',\n",
       " 'Waddinxveen',\n",
       " 'Warsaw',\n",
       " 'Warsaw Metropolitan Area',\n",
       " 'Wasserburg (Bodensee)',\n",
       " 'Weinheim',\n",
       " 'West Flanders',\n",
       " 'West Malling',\n",
       " 'West Midlands',\n",
       " 'Wiesbaden',\n",
       " 'Wolfsburg',\n",
       " 'Worksop',\n",
       " 'Wroclaw Metropolitan Area',\n",
       " 'Wrocław',\n",
       " 'Zagreb',\n",
       " 'Zaventem',\n",
       " 'Zeist',\n",
       " 'Ziano di Fiemme',\n",
       " 'Zoetermeer',\n",
       " 'Zwaagdijk-Oost',\n",
       " 'Zwevezele',\n",
       " 'Åre',\n",
       " 'Île-de-France',\n",
       " 'Łódź']"
      ]
     },
     "execution_count": 10,
     "metadata": {},
     "output_type": "execute_result"
    }
   ],
   "source": [
    "print(df['location'].nunique())\n",
    "sorted(df['location'].unique())\n"
   ]
  },
  {
   "cell_type": "code",
   "execution_count": 11,
   "id": "58c81069",
   "metadata": {},
   "outputs": [
    {
     "name": "stdout",
     "output_type": "stream",
     "text": [
      "72\n"
     ]
    },
    {
     "data": {
      "text/plain": [
       "[' Austria',\n",
       " ' Belgium',\n",
       " ' Bulgaria',\n",
       " ' Croatia',\n",
       " ' Czechia',\n",
       " ' Denmark',\n",
       " ' Estonia',\n",
       " ' Finland',\n",
       " ' France',\n",
       " ' Germany',\n",
       " ' Greece',\n",
       " ' Hungary',\n",
       " ' Ireland',\n",
       " ' Italy',\n",
       " ' Latvia',\n",
       " ' Lithuania',\n",
       " ' Luxembourg',\n",
       " ' Malta',\n",
       " ' Monaco',\n",
       " ' Netherlands',\n",
       " ' Norway',\n",
       " ' Poland',\n",
       " ' Portugal',\n",
       " ' Romania',\n",
       " ' Slovakia',\n",
       " ' Spain',\n",
       " ' Sweden',\n",
       " ' Switzerland',\n",
       " ' United Kingdom',\n",
       " 'Amsterdam Area',\n",
       " 'Athens Metropolitan Area',\n",
       " 'Berlin Metropolitan Area',\n",
       " 'Brussels Metropolitan Area',\n",
       " 'Bulgaria',\n",
       " 'Cologne Bonn Region',\n",
       " 'Copenhagen Metropolitan Area',\n",
       " 'Denmark',\n",
       " 'Eindhoven Area',\n",
       " 'Finland',\n",
       " 'France',\n",
       " 'Germany',\n",
       " 'Greater Banska Bystrica Area',\n",
       " 'Greater Barcelona Metropolitan Area',\n",
       " 'Greater Dijon Area',\n",
       " 'Greater Lyon Area',\n",
       " 'Greater Madrid Metropolitan Area',\n",
       " 'Greater Milan Metropolitan Area',\n",
       " 'Greater Munich Metropolitan Area',\n",
       " 'Greater Munster Area',\n",
       " 'Greater Nuremberg Metropolitan Area',\n",
       " 'Greater Oslo Region',\n",
       " 'Greater Palma de Mallorca Metropolitan Area',\n",
       " 'Greater Paris Metropolitan Region',\n",
       " 'Greater Pau Area',\n",
       " 'Greater Verona Metropolitan Area',\n",
       " 'Hungary',\n",
       " 'Iasi Metropolitan Area',\n",
       " 'Ireland',\n",
       " 'Italy',\n",
       " 'Krakow Metropolitan Area',\n",
       " 'Lisbon Metropolitan Area',\n",
       " 'Lithuania',\n",
       " 'Netherlands',\n",
       " 'Poland',\n",
       " 'Portugal',\n",
       " 'Prague Metropolitan Area',\n",
       " 'Romania',\n",
       " 'Rotterdam and The Hague',\n",
       " 'Spain',\n",
       " 'Stuttgart Region',\n",
       " 'Warsaw Metropolitan Area',\n",
       " 'Wroclaw Metropolitan Area']"
      ]
     },
     "execution_count": 11,
     "metadata": {},
     "output_type": "execute_result"
    }
   ],
   "source": [
    "# тоже самое по странам\n",
    "print(df['country'].nunique())\n",
    "sorted(df['country'].unique())"
   ]
  },
  {
   "cell_type": "code",
   "execution_count": 12,
   "id": "4a8df31d",
   "metadata": {},
   "outputs": [],
   "source": [
    "# во-первых пройдёмся по строкам и удалим лишние пробелы (по краям), если они есть (заодно и у стран).\n",
    "df['location'] = df['location'].apply(lambda x: x.strip())\n",
    "df['country'] = df['country'].apply(lambda x: x.strip())"
   ]
  },
  {
   "cell_type": "markdown",
   "id": "fdab04eb",
   "metadata": {},
   "source": [
    "Бросается в глаза, что в столбце со страной есть позиции, которые были и в столбце с локацией. Посчитаем такие строки добавив столбец с индикатором."
   ]
  },
  {
   "cell_type": "code",
   "execution_count": 13,
   "id": "7c2f976d",
   "metadata": {},
   "outputs": [
    {
     "data": {
      "text/plain": [
       "103"
      ]
     },
     "execution_count": 13,
     "metadata": {},
     "output_type": "execute_result"
    }
   ],
   "source": [
    "df['indicator'] = df.apply(lambda x: 1 if x['location'] == x['country'] else 0, axis = 1)\n",
    "df['indicator'].sum()"
   ]
  },
  {
   "cell_type": "markdown",
   "id": "5dd1f6e5",
   "metadata": {},
   "source": [
    "103 - много. Посмотрим, что это за строки."
   ]
  },
  {
   "cell_type": "code",
   "execution_count": 14,
   "id": "40664bd6",
   "metadata": {},
   "outputs": [
    {
     "data": {
      "text/html": [
       "<div>\n",
       "<style scoped>\n",
       "    .dataframe tbody tr th:only-of-type {\n",
       "        vertical-align: middle;\n",
       "    }\n",
       "\n",
       "    .dataframe tbody tr th {\n",
       "        vertical-align: top;\n",
       "    }\n",
       "\n",
       "    .dataframe thead th {\n",
       "        text-align: right;\n",
       "    }\n",
       "</style>\n",
       "<table border=\"1\" class=\"dataframe\">\n",
       "  <thead>\n",
       "    <tr style=\"text-align: right;\">\n",
       "      <th></th>\n",
       "      <th>title</th>\n",
       "      <th>location</th>\n",
       "      <th>country</th>\n",
       "      <th>employment_type</th>\n",
       "      <th>company_name</th>\n",
       "      <th>employee_qty</th>\n",
       "      <th>company_field</th>\n",
       "      <th>skills</th>\n",
       "      <th>job_description</th>\n",
       "      <th>applicants</th>\n",
       "      <th>indicator</th>\n",
       "    </tr>\n",
       "  </thead>\n",
       "  <tbody>\n",
       "    <tr>\n",
       "      <th>31</th>\n",
       "      <td>business intelligence analyst</td>\n",
       "      <td>Italy</td>\n",
       "      <td>Italy</td>\n",
       "      <td>Remote</td>\n",
       "      <td>Nexi Digital</td>\n",
       "      <td>51-200 employees</td>\n",
       "      <td>Financial Services</td>\n",
       "      <td>&lt;span class=\"visually-hidden\"&gt;&lt;!-- --&gt;Skills: ...</td>\n",
       "      <td>Come join us and ...</td>\n",
       "      <td>NaN</td>\n",
       "      <td>1</td>\n",
       "    </tr>\n",
       "    <tr>\n",
       "      <th>39</th>\n",
       "      <td>data analyst</td>\n",
       "      <td>Luxembourg</td>\n",
       "      <td>Luxembourg</td>\n",
       "      <td>On-site</td>\n",
       "      <td>BCEE</td>\n",
       "      <td>1,001-5,000 employees</td>\n",
       "      <td>Banking</td>\n",
       "      <td>&lt;span class=\"visually-hidden\"&gt;&lt;!-- --&gt;Skills: ...</td>\n",
       "      <td>En vue de renforc...</td>\n",
       "      <td>73.0</td>\n",
       "      <td>1</td>\n",
       "    </tr>\n",
       "    <tr>\n",
       "      <th>45</th>\n",
       "      <td>data analyst</td>\n",
       "      <td>Brussels Metropolitan Area</td>\n",
       "      <td>Brussels Metropolitan Area</td>\n",
       "      <td>Hybrid</td>\n",
       "      <td>Nexeo</td>\n",
       "      <td>201-500 employees</td>\n",
       "      <td>IT Services and IT Consulting</td>\n",
       "      <td>&lt;span class=\"visually-hidden\"&gt;&lt;!-- --&gt;Skills: ...</td>\n",
       "      <td>Nexeo is current...</td>\n",
       "      <td>NaN</td>\n",
       "      <td>1</td>\n",
       "    </tr>\n",
       "    <tr>\n",
       "      <th>46</th>\n",
       "      <td>bi analyst</td>\n",
       "      <td>Portugal</td>\n",
       "      <td>Portugal</td>\n",
       "      <td>Remote</td>\n",
       "      <td>Devoteam</td>\n",
       "      <td>5,001-10,000 employees</td>\n",
       "      <td>Information Technology &amp; Services</td>\n",
       "      <td>&lt;span class=\"visually-hidden\"&gt;&lt;!-- --&gt;Skills: ...</td>\n",
       "      <td>About Devoteam  ...</td>\n",
       "      <td>88.0</td>\n",
       "      <td>1</td>\n",
       "    </tr>\n",
       "    <tr>\n",
       "      <th>48</th>\n",
       "      <td>data analyst</td>\n",
       "      <td>Greater Paris Metropolitan Region</td>\n",
       "      <td>Greater Paris Metropolitan Region</td>\n",
       "      <td>Hybrid</td>\n",
       "      <td>Echo Analytics</td>\n",
       "      <td>11-50 employees</td>\n",
       "      <td>Technology, Information and Internet</td>\n",
       "      <td>&lt;span class=\"visually-hidden\"&gt;&lt;!-- --&gt;Skills: ...</td>\n",
       "      <td>We’re on a missio...</td>\n",
       "      <td>NaN</td>\n",
       "      <td>1</td>\n",
       "    </tr>\n",
       "  </tbody>\n",
       "</table>\n",
       "</div>"
      ],
      "text/plain": [
       "                            title                           location  \\\n",
       "31  business intelligence analyst                              Italy   \n",
       "39                   data analyst                         Luxembourg   \n",
       "45                   data analyst         Brussels Metropolitan Area   \n",
       "46                     bi analyst                           Portugal   \n",
       "48                   data analyst  Greater Paris Metropolitan Region   \n",
       "\n",
       "                              country employment_type    company_name  \\\n",
       "31                              Italy          Remote    Nexi Digital   \n",
       "39                         Luxembourg         On-site            BCEE   \n",
       "45         Brussels Metropolitan Area          Hybrid           Nexeo   \n",
       "46                           Portugal          Remote        Devoteam   \n",
       "48  Greater Paris Metropolitan Region          Hybrid  Echo Analytics   \n",
       "\n",
       "              employee_qty                         company_field  \\\n",
       "31        51-200 employees                    Financial Services   \n",
       "39   1,001-5,000 employees                               Banking   \n",
       "45       201-500 employees         IT Services and IT Consulting   \n",
       "46  5,001-10,000 employees     Information Technology & Services   \n",
       "48         11-50 employees  Technology, Information and Internet   \n",
       "\n",
       "                                               skills  \\\n",
       "31  <span class=\"visually-hidden\"><!-- -->Skills: ...   \n",
       "39  <span class=\"visually-hidden\"><!-- -->Skills: ...   \n",
       "45  <span class=\"visually-hidden\"><!-- -->Skills: ...   \n",
       "46  <span class=\"visually-hidden\"><!-- -->Skills: ...   \n",
       "48  <span class=\"visually-hidden\"><!-- -->Skills: ...   \n",
       "\n",
       "                                      job_description  applicants  indicator  \n",
       "31                               Come join us and ...         NaN          1  \n",
       "39                               En vue de renforc...        73.0          1  \n",
       "45                                Nexeo is current...         NaN          1  \n",
       "46                                About Devoteam  ...        88.0          1  \n",
       "48                               We’re on a missio...         NaN          1  "
      ]
     },
     "execution_count": 14,
     "metadata": {},
     "output_type": "execute_result"
    }
   ],
   "source": [
    "df[df['indicator'] == 1].head()"
   ]
  },
  {
   "cell_type": "markdown",
   "id": "f53fc7d5",
   "metadata": {},
   "source": [
    "В некоторых случаях в столбцах дублируется страна, а в некоторых - сама локация. Пойдём по порядку. Сначала пройдёмся по локациям"
   ]
  },
  {
   "cell_type": "markdown",
   "id": "15d6f7af",
   "metadata": {},
   "source": [
    "Бросается в глаза, что в локации в некоторых случаях указан только сам город, а в некоторых регион или агломерация, которая сформирована вокруг города. Возникает вопрос, стоит ли заменить аглмерацию на сам центр - вероятно в масштабах Европы (наш исследуемый регион) - стоит. Поэтому уберём из ячеек слова 'Region', 'Area', 'Metropolitan', 'Greater'"
   ]
  },
  {
   "cell_type": "code",
   "execution_count": 15,
   "id": "3164d06f",
   "metadata": {},
   "outputs": [],
   "source": [
    "def delete_words(string):\n",
    "    list_words = ['Region', 'Area', 'Metropolitan', 'Greater']\n",
    "    for word in list_words:\n",
    "        if word in string:\n",
    "            string = string.replace(word, '')\n",
    "    string = string.strip()\n",
    "    return string"
   ]
  },
  {
   "cell_type": "code",
   "execution_count": 16,
   "id": "d895a37d",
   "metadata": {},
   "outputs": [
    {
     "data": {
      "text/plain": [
       "407"
      ]
     },
     "execution_count": 16,
     "metadata": {},
     "output_type": "execute_result"
    }
   ],
   "source": [
    "# сделаем столбец только с городом (изначальный не трогаем на всякий случай)\n",
    "df['city'] = df['location'].apply(delete_words)\n",
    "df['city'].nunique()"
   ]
  },
  {
   "cell_type": "markdown",
   "id": "f1d8e011",
   "metadata": {},
   "source": [
    "В новом столбце таким образом оказалось обработано 22 наименования локаций.\n",
    "Кроме того, можно заметить, что некоторые города написаны на нескольких языках. А также ещё в некоторых случаях есть разные варианты написаний городов (Франкфурт и Франкфурт-на-Майне).  \n",
    "Но на некоторое время вернёмся в столбец со странами - там дублировались эти агломерации. Попробуем их поправить.\n"
   ]
  },
  {
   "cell_type": "code",
   "execution_count": 17,
   "id": "c5d749db",
   "metadata": {
    "scrolled": true
   },
   "outputs": [],
   "source": [
    "#  сделаем ещё один столбец с индикатором, который отразит наличие изменений в столбце 'city' по сравнению со столбцом 'location', где были пересечения со столбцом 'country'\n",
    "def changed(row):\n",
    "    if row['indicator'] == 1:\n",
    "        if row['location'] != row['city']:\n",
    "            return 1\n",
    "        else:\n",
    "            return 0\n",
    "    else:\n",
    "        return 0 \n",
    "        \n",
    "\n",
    "df['changed_ind'] = df.apply(changed, axis=1)"
   ]
  },
  {
   "cell_type": "code",
   "execution_count": 18,
   "id": "36b93610",
   "metadata": {},
   "outputs": [
    {
     "data": {
      "text/plain": [
       "47"
      ]
     },
     "execution_count": 18,
     "metadata": {},
     "output_type": "execute_result"
    }
   ],
   "source": [
    "df['changed_ind'].sum()"
   ]
  },
  {
   "cell_type": "markdown",
   "id": "85245342",
   "metadata": {},
   "source": [
    "47 строк, где агломерации, регионы и районы указаны вместо стран. Далее выделим из этих строк города, сгруппируем по ним и посмотрим, сколько стран приходится на каждый город."
   ]
  },
  {
   "cell_type": "code",
   "execution_count": 19,
   "id": "92e1e35d",
   "metadata": {},
   "outputs": [
    {
     "data": {
      "text/html": [
       "<div>\n",
       "<style scoped>\n",
       "    .dataframe tbody tr th:only-of-type {\n",
       "        vertical-align: middle;\n",
       "    }\n",
       "\n",
       "    .dataframe tbody tr th {\n",
       "        vertical-align: top;\n",
       "    }\n",
       "\n",
       "    .dataframe thead th {\n",
       "        text-align: right;\n",
       "    }\n",
       "</style>\n",
       "<table border=\"1\" class=\"dataframe\">\n",
       "  <thead>\n",
       "    <tr style=\"text-align: right;\">\n",
       "      <th></th>\n",
       "      <th>city</th>\n",
       "      <th>country</th>\n",
       "    </tr>\n",
       "  </thead>\n",
       "  <tbody>\n",
       "    <tr>\n",
       "      <th>0</th>\n",
       "      <td>Amsterdam</td>\n",
       "      <td>2</td>\n",
       "    </tr>\n",
       "    <tr>\n",
       "      <th>12</th>\n",
       "      <td>Lisbon</td>\n",
       "      <td>2</td>\n",
       "    </tr>\n",
       "    <tr>\n",
       "      <th>26</th>\n",
       "      <td>Warsaw</td>\n",
       "      <td>2</td>\n",
       "    </tr>\n",
       "    <tr>\n",
       "      <th>24</th>\n",
       "      <td>Stuttgart</td>\n",
       "      <td>2</td>\n",
       "    </tr>\n",
       "    <tr>\n",
       "      <th>23</th>\n",
       "      <td>Prague</td>\n",
       "      <td>2</td>\n",
       "    </tr>\n",
       "    <tr>\n",
       "      <th>21</th>\n",
       "      <td>Paris</td>\n",
       "      <td>2</td>\n",
       "    </tr>\n",
       "    <tr>\n",
       "      <th>19</th>\n",
       "      <td>Oslo</td>\n",
       "      <td>2</td>\n",
       "    </tr>\n",
       "    <tr>\n",
       "      <th>18</th>\n",
       "      <td>Nuremberg</td>\n",
       "      <td>2</td>\n",
       "    </tr>\n",
       "    <tr>\n",
       "      <th>16</th>\n",
       "      <td>Munich</td>\n",
       "      <td>2</td>\n",
       "    </tr>\n",
       "    <tr>\n",
       "      <th>15</th>\n",
       "      <td>Milan</td>\n",
       "      <td>2</td>\n",
       "    </tr>\n",
       "    <tr>\n",
       "      <th>1</th>\n",
       "      <td>Athens</td>\n",
       "      <td>2</td>\n",
       "    </tr>\n",
       "    <tr>\n",
       "      <th>13</th>\n",
       "      <td>Lyon</td>\n",
       "      <td>2</td>\n",
       "    </tr>\n",
       "    <tr>\n",
       "      <th>14</th>\n",
       "      <td>Madrid</td>\n",
       "      <td>2</td>\n",
       "    </tr>\n",
       "    <tr>\n",
       "      <th>9</th>\n",
       "      <td>Eindhoven</td>\n",
       "      <td>2</td>\n",
       "    </tr>\n",
       "    <tr>\n",
       "      <th>8</th>\n",
       "      <td>Dijon</td>\n",
       "      <td>2</td>\n",
       "    </tr>\n",
       "    <tr>\n",
       "      <th>7</th>\n",
       "      <td>Copenhagen</td>\n",
       "      <td>2</td>\n",
       "    </tr>\n",
       "    <tr>\n",
       "      <th>5</th>\n",
       "      <td>Brussels</td>\n",
       "      <td>2</td>\n",
       "    </tr>\n",
       "    <tr>\n",
       "      <th>4</th>\n",
       "      <td>Berlin</td>\n",
       "      <td>2</td>\n",
       "    </tr>\n",
       "    <tr>\n",
       "      <th>3</th>\n",
       "      <td>Barcelona</td>\n",
       "      <td>2</td>\n",
       "    </tr>\n",
       "    <tr>\n",
       "      <th>11</th>\n",
       "      <td>Krakow</td>\n",
       "      <td>1</td>\n",
       "    </tr>\n",
       "    <tr>\n",
       "      <th>10</th>\n",
       "      <td>Iasi</td>\n",
       "      <td>1</td>\n",
       "    </tr>\n",
       "    <tr>\n",
       "      <th>17</th>\n",
       "      <td>Munster</td>\n",
       "      <td>1</td>\n",
       "    </tr>\n",
       "    <tr>\n",
       "      <th>6</th>\n",
       "      <td>Cologne Bonn</td>\n",
       "      <td>1</td>\n",
       "    </tr>\n",
       "    <tr>\n",
       "      <th>20</th>\n",
       "      <td>Palma de Mallorca</td>\n",
       "      <td>1</td>\n",
       "    </tr>\n",
       "    <tr>\n",
       "      <th>22</th>\n",
       "      <td>Pau</td>\n",
       "      <td>1</td>\n",
       "    </tr>\n",
       "    <tr>\n",
       "      <th>25</th>\n",
       "      <td>Verona</td>\n",
       "      <td>1</td>\n",
       "    </tr>\n",
       "    <tr>\n",
       "      <th>2</th>\n",
       "      <td>Banska Bystrica</td>\n",
       "      <td>1</td>\n",
       "    </tr>\n",
       "    <tr>\n",
       "      <th>27</th>\n",
       "      <td>Wroclaw</td>\n",
       "      <td>1</td>\n",
       "    </tr>\n",
       "  </tbody>\n",
       "</table>\n",
       "</div>"
      ],
      "text/plain": [
       "                 city  country\n",
       "0           Amsterdam        2\n",
       "12             Lisbon        2\n",
       "26             Warsaw        2\n",
       "24          Stuttgart        2\n",
       "23             Prague        2\n",
       "21              Paris        2\n",
       "19               Oslo        2\n",
       "18          Nuremberg        2\n",
       "16             Munich        2\n",
       "15              Milan        2\n",
       "1              Athens        2\n",
       "13               Lyon        2\n",
       "14             Madrid        2\n",
       "9           Eindhoven        2\n",
       "8               Dijon        2\n",
       "7          Copenhagen        2\n",
       "5            Brussels        2\n",
       "4              Berlin        2\n",
       "3           Barcelona        2\n",
       "11             Krakow        1\n",
       "10               Iasi        1\n",
       "17            Munster        1\n",
       "6        Cologne Bonn        1\n",
       "20  Palma de Mallorca        1\n",
       "22                Pau        1\n",
       "25             Verona        1\n",
       "2     Banska Bystrica        1\n",
       "27            Wroclaw        1"
      ]
     },
     "execution_count": 19,
     "metadata": {},
     "output_type": "execute_result"
    }
   ],
   "source": [
    "cities_country = df[df['changed_ind'] == 1]['city'].unique()\n",
    "cities_country_grouped = (\n",
    "    df[df['city'].isin(cities_country)]\n",
    "    .groupby('city', as_index = False)\n",
    "    .agg({'country': 'nunique'})\n",
    "    .sort_values(by='country', ascending=False)\n",
    ")\n",
    "cities_country_grouped"
   ]
  },
  {
   "cell_type": "code",
   "execution_count": 20,
   "id": "814cb1a9",
   "metadata": {},
   "outputs": [
    {
     "name": "stdout",
     "output_type": "stream",
     "text": [
      "количество городов, у которых можно пределить страну в датасете: 19\n",
      "количество городов, у которых нельзя пределить страну в датасете по альтернативным строкам: 9\n"
     ]
    }
   ],
   "source": [
    "print('количество городов, у которых можно пределить страну в датасете:', cities_country_grouped[cities_country_grouped['country'] == 2]['city'].count())\n",
    "print('количество городов, у которых нельзя пределить страну в датасете по альтернативным строкам:', cities_country_grouped[cities_country_grouped['country'] == 1]['city'].count())"
   ]
  },
  {
   "cell_type": "markdown",
   "id": "2f5a03eb",
   "metadata": {},
   "source": [
    "Итак, есть 19 городов, у которых в некоторых строках вместо страны указана агломерация или регион и у которых можно определить страну по датасету. У оставшихся 9 городов с такой проблемой определить страну простым способом нельзя (их всего 9 поэтому сделаем вручную для экономии времени)"
   ]
  },
  {
   "cell_type": "code",
   "execution_count": 21,
   "id": "d4c6389b",
   "metadata": {},
   "outputs": [],
   "source": [
    "# список городов для определения страны\n",
    "cities_list = cities_country_grouped[cities_country_grouped['country'] == 2]['city']"
   ]
  },
  {
   "cell_type": "code",
   "execution_count": 22,
   "id": "6b9e21fe",
   "metadata": {},
   "outputs": [
    {
     "data": {
      "text/plain": [
       "{'Brussels': 'Belgium',\n",
       " 'Prague': 'Czechia',\n",
       " 'Copenhagen': 'Denmark',\n",
       " 'Dijon': 'France',\n",
       " 'Lyon': 'France',\n",
       " 'Paris': 'France',\n",
       " 'Berlin': 'Germany',\n",
       " 'Munich': 'Germany',\n",
       " 'Nuremberg': 'Germany',\n",
       " 'Stuttgart': 'Germany',\n",
       " 'Athens': 'Greece',\n",
       " 'Milan': 'Italy',\n",
       " 'Amsterdam': 'Netherlands',\n",
       " 'Eindhoven': 'Netherlands',\n",
       " 'Oslo': 'Norway',\n",
       " 'Warsaw': 'Poland',\n",
       " 'Lisbon': 'Portugal',\n",
       " 'Barcelona': 'Spain',\n",
       " 'Madrid': 'Spain'}"
      ]
     },
     "execution_count": 22,
     "metadata": {},
     "output_type": "execute_result"
    }
   ],
   "source": [
    "# у 19 городов себерём страны и сделаем словарь\n",
    "country_city_grouped = (\n",
    "    df.loc[(df['city'].isin(cities_list)) & (df['indicator'] == 0)]\n",
    "    .groupby(['country', 'city'], as_index=False)\n",
    "    .agg({'location': 'nunique'})\n",
    ")\n",
    "\n",
    "dict_city_country ={}\n",
    "for i in list(country_city_grouped.index):\n",
    "    dict_city_country[country_city_grouped.loc[i, 'city']] = country_city_grouped.loc[i, 'country']\n",
    "dict_city_country"
   ]
  },
  {
   "cell_type": "code",
   "execution_count": 23,
   "id": "a9d2cb36",
   "metadata": {},
   "outputs": [
    {
     "data": {
      "text/plain": [
       "11               Krakow\n",
       "10                 Iasi\n",
       "17              Munster\n",
       "6          Cologne Bonn\n",
       "20    Palma de Mallorca\n",
       "22                  Pau\n",
       "25               Verona\n",
       "2       Banska Bystrica\n",
       "27              Wroclaw\n",
       "Name: city, dtype: object"
      ]
     },
     "execution_count": 23,
     "metadata": {},
     "output_type": "execute_result"
    }
   ],
   "source": [
    "# недостающие 9 добавим вручную (наверно можно было бы автоматизировать с помошю парсинга, в данном случае так быстрее)\n",
    "# повторно выведем эти 9 городов\n",
    "cities_country_grouped[cities_country_grouped['country'] == 1]['city']"
   ]
  },
  {
   "cell_type": "code",
   "execution_count": 24,
   "id": "3a22a04f",
   "metadata": {},
   "outputs": [
    {
     "data": {
      "text/plain": [
       "{'Brussels': 'Belgium',\n",
       " 'Prague': 'Czechia',\n",
       " 'Copenhagen': 'Denmark',\n",
       " 'Dijon': 'France',\n",
       " 'Lyon': 'France',\n",
       " 'Paris': 'France',\n",
       " 'Berlin': 'Germany',\n",
       " 'Munich': 'Germany',\n",
       " 'Nuremberg': 'Germany',\n",
       " 'Stuttgart': 'Germany',\n",
       " 'Athens': 'Greece',\n",
       " 'Milan': 'Italy',\n",
       " 'Amsterdam': 'Netherlands',\n",
       " 'Eindhoven': 'Netherlands',\n",
       " 'Oslo': 'Norway',\n",
       " 'Warsaw': 'Poland',\n",
       " 'Lisbon': 'Portugal',\n",
       " 'Barcelona': 'Spain',\n",
       " 'Madrid': 'Spain',\n",
       " 'Krakow': 'Poland',\n",
       " 'Iasi': 'Romania',\n",
       " 'Munster': 'Germany',\n",
       " 'Cologne Bonn': 'Germany',\n",
       " 'Palma de Mallorca': 'Spain',\n",
       " 'Pau': 'France',\n",
       " 'Verona': 'Italy',\n",
       " 'Banska Bystrica': 'Slovakia',\n",
       " 'Wroclaw': 'Poland'}"
      ]
     },
     "execution_count": 24,
     "metadata": {},
     "output_type": "execute_result"
    }
   ],
   "source": [
    "# дополняем словарь\n",
    "dict_city_country['Krakow'] = 'Poland'\n",
    "dict_city_country['Iasi'] = 'Romania'\n",
    "dict_city_country['Munster'] = 'Germany'\n",
    "dict_city_country['Cologne Bonn'] = 'Germany'\n",
    "dict_city_country['Palma de Mallorca'] = 'Spain'\n",
    "dict_city_country['Pau'] = 'France'\n",
    "dict_city_country['Verona'] = 'Italy'\n",
    "dict_city_country['Banska Bystrica'] = 'Slovakia'\n",
    "dict_city_country['Wroclaw'] = 'Poland'\n",
    "dict_city_country"
   ]
  },
  {
   "cell_type": "code",
   "execution_count": 25,
   "id": "256c3e38",
   "metadata": {},
   "outputs": [
    {
     "name": "stdout",
     "output_type": "stream",
     "text": [
      "30\n"
     ]
    },
    {
     "data": {
      "text/plain": [
       "array(['Switzerland', 'United Kingdom', 'France', 'Netherlands',\n",
       "       'Ireland', 'Poland', 'Hungary', 'Greece', 'Italy', 'Sweden',\n",
       "       'Lithuania', 'Belgium', 'Luxembourg', 'Germany', 'Portugal',\n",
       "       'Bulgaria', 'Spain', 'Czechia', 'Latvia', 'Estonia', 'Malta',\n",
       "       'Austria', 'Romania', 'Slovakia', 'Norway', 'Denmark', 'Finland',\n",
       "       'Rotterdam and The Hague', 'Monaco', 'Croatia'], dtype=object)"
      ]
     },
     "execution_count": 25,
     "metadata": {},
     "output_type": "execute_result"
    }
   ],
   "source": [
    "# теперь заменим название регионов и агломераций в столбце 'country' на коректные страны\n",
    "df['country'] = df.apply(lambda x: dict_city_country[x['city']] if (x['changed_ind'] == 1) else x['country'], axis = 1)\n",
    "print(df['country'].nunique())\n",
    "df['country'].unique()"
   ]
  },
  {
   "cell_type": "markdown",
   "id": "51d8ed2f",
   "metadata": {},
   "source": [
    "Итак, в столбце страна остались почти только страны, но есть странная запись 'Rotterdam and The Hague' - аэропорт Роттердама. Это тоже нужно исправить. "
   ]
  },
  {
   "cell_type": "code",
   "execution_count": 26,
   "id": "25075f8c",
   "metadata": {},
   "outputs": [],
   "source": [
    "# пока вручную.\n",
    "df['country'] = df['country'].replace('Rotterdam and The Hague', 'Netherlands')\n",
    "df['city'] = df['city'].replace('Rotterdam and The Hague', 'Rotterdam')\n"
   ]
  },
  {
   "cell_type": "markdown",
   "id": "c3120601",
   "metadata": {},
   "source": [
    "Исправлено. Итого у нас 29 стран Европы. Посмотрим, сколько в итоге стран."
   ]
  },
  {
   "cell_type": "code",
   "execution_count": 27,
   "id": "4598fc55",
   "metadata": {},
   "outputs": [
    {
     "name": "stdout",
     "output_type": "stream",
     "text": [
      "29\n"
     ]
    },
    {
     "data": {
      "text/plain": [
       "['Austria',\n",
       " 'Belgium',\n",
       " 'Bulgaria',\n",
       " 'Croatia',\n",
       " 'Czechia',\n",
       " 'Denmark',\n",
       " 'Estonia',\n",
       " 'Finland',\n",
       " 'France',\n",
       " 'Germany',\n",
       " 'Greece',\n",
       " 'Hungary',\n",
       " 'Ireland',\n",
       " 'Italy',\n",
       " 'Latvia',\n",
       " 'Lithuania',\n",
       " 'Luxembourg',\n",
       " 'Malta',\n",
       " 'Monaco',\n",
       " 'Netherlands',\n",
       " 'Norway',\n",
       " 'Poland',\n",
       " 'Portugal',\n",
       " 'Romania',\n",
       " 'Slovakia',\n",
       " 'Spain',\n",
       " 'Sweden',\n",
       " 'Switzerland',\n",
       " 'United Kingdom']"
      ]
     },
     "execution_count": 27,
     "metadata": {},
     "output_type": "execute_result"
    }
   ],
   "source": [
    "print(df['country'].nunique())\n",
    "sorted(df['country'].unique())"
   ]
  },
  {
   "cell_type": "markdown",
   "id": "2c8bfd80",
   "metadata": {},
   "source": [
    "Возвращаемся к проблеме разного написания городов.  \n",
    "Сначала попробуем обработать города, которые пишутся в коротком и полном варианте (пример: Франкфурт и Франкфурт-на-Майне).\n"
   ]
  },
  {
   "cell_type": "code",
   "execution_count": 28,
   "id": "dd8c64f4",
   "metadata": {},
   "outputs": [
    {
     "name": "stdout",
     "output_type": "stream",
     "text": [
      "['Cologne Bonn']\n",
      "13\n"
     ]
    },
    {
     "data": {
      "text/plain": [
       "{'Issy-les-Moulineaux': 'Moulineaux',\n",
       " 'County Dublin': 'Dublin',\n",
       " 'Dublin City': 'Dublin',\n",
       " 'County Cork': 'Cork',\n",
       " 'Nova Milanese': 'Milan',\n",
       " 'Cusano Milanino': 'Milan',\n",
       " 'San Donato Milanese': 'Milan',\n",
       " 'Novate Milanese': 'Milan',\n",
       " 'Carpiano': 'Carpi',\n",
       " 'Stockholm County': 'Stockholm',\n",
       " 'Ottignies-Louvain-la-Neuve': 'Louvain-la-Neuve',\n",
       " 'Frankfurt am Main': 'Frankfurt',\n",
       " 'Palma de Mallorca': 'Palma'}"
      ]
     },
     "execution_count": 28,
     "metadata": {},
     "output_type": "execute_result"
    }
   ],
   "source": [
    "#  пройдёмся по каждой стране, внутри страны составим список городов и сравним города друг сдругом на предмет вхождения подстроки в полное название\n",
    "\n",
    "# словарь для замены\n",
    "city_full_name_change = {}\n",
    "double_cities = [] # сюда положим агломерации, в которые входят несколько городов\n",
    "\n",
    "# ситуаци, когда агломерация вкллючает несколько крупных городов (Кельн-Бонн), трогать пока не будем.\n",
    "# будем записывать их отдельно\n",
    "for country in df['country'].unique():\n",
    "    cities = df[df['country'] == country]['city'].unique()\n",
    "    i = 0\n",
    "    verified_idx = []\n",
    "    while i < len(cities):\n",
    "        if cities[i] != country:\n",
    "            if i not in verified_idx:\n",
    "                j = 0\n",
    "                while j < len(cities):\n",
    "                    if j != i:\n",
    "                        if cities[i] in cities[j]:\n",
    "                            if j not in verified_idx:\n",
    "                                city_full_name_change[cities[j]] = cities[i]\n",
    "                                verified_idx.append(j)\n",
    "                            else:\n",
    "                                city_full_name_change.pop(cities[j])\n",
    "                                double_cities.append(cities[j]) \n",
    "                    j += 1\n",
    "        i += 1\n",
    "            \n",
    "print(double_cities)\n",
    "print(len(city_full_name_change))\n",
    "city_full_name_change"
   ]
  },
  {
   "cell_type": "markdown",
   "id": "26351bbd",
   "metadata": {},
   "source": [
    "Сбор полных и неполных названий прошёл не идеально:\n",
    "- Issy-les-Moulineaux на самом деле пригород Парижа, а Moulineaux находится в другом месте\n",
    "- Carpiano - пригород Милана, а Carpi - другой город.  \n",
    "\n",
    "Кроме того, есть локация 'Cologne Bonn', к которой относятся сразу два города в списке: Кёльн и Бонн.\n",
    "Посмотрим, сколько строк охватывают эти населённые пункты.\n"
   ]
  },
  {
   "cell_type": "code",
   "execution_count": 29,
   "id": "c1b15d27",
   "metadata": {},
   "outputs": [
    {
     "data": {
      "text/plain": [
       "22"
      ]
     },
     "execution_count": 29,
     "metadata": {},
     "output_type": "execute_result"
    }
   ],
   "source": [
    "len(df[df['city'].isin(list(city_full_name_change.keys()) + double_cities)])"
   ]
  },
  {
   "cell_type": "markdown",
   "id": "a9e4e3e7",
   "metadata": {},
   "source": [
    "всего 22 строки. Исходя из того, что в большинстве случаев указанные нас. пункты или локации привязаны к более крупным городам (по сути их ближайшие пригороды), то в масштабах целой Европы и небольшого количества охватываемых строк мы можем заменить их на эти города (предварительно вручную исправим ошибки). 'Cologne Bonn' ввиду неопределённости трогать не будем."
   ]
  },
  {
   "cell_type": "code",
   "execution_count": 30,
   "id": "cbdc4943",
   "metadata": {},
   "outputs": [
    {
     "data": {
      "text/plain": [
       "21"
      ]
     },
     "execution_count": 30,
     "metadata": {},
     "output_type": "execute_result"
    }
   ],
   "source": [
    "len(df[df['city'].isin(list(city_full_name_change.keys()))])"
   ]
  },
  {
   "cell_type": "markdown",
   "id": "19ca4845",
   "metadata": {},
   "source": [
    "Итого, можем обработать 21 строку."
   ]
  },
  {
   "cell_type": "code",
   "execution_count": 31,
   "id": "32a5ea29",
   "metadata": {},
   "outputs": [
    {
     "data": {
      "text/plain": [
       "0"
      ]
     },
     "execution_count": 31,
     "metadata": {},
     "output_type": "execute_result"
    }
   ],
   "source": [
    "city_full_name_change['Issy-les-Moulineaux'] = 'Paris'\n",
    "city_full_name_change['Carpiano'] = 'Milan'\n",
    "\n",
    "df['city'] = df['city'].apply(lambda x: city_full_name_change[x] if x in city_full_name_change.keys() else x)\n",
    "len(df[df['city'].isin(list(city_full_name_change.keys()))])"
   ]
  },
  {
   "cell_type": "markdown",
   "id": "d77601b6",
   "metadata": {},
   "source": [
    "Готово. Теперь похожим способом разберёмся с названиями на разных языках."
   ]
  },
  {
   "cell_type": "code",
   "execution_count": 32,
   "id": "53218ecc",
   "metadata": {},
   "outputs": [
    {
     "name": "stdout",
     "output_type": "stream",
     "text": [
      "13\n"
     ]
    },
    {
     "data": {
      "text/plain": [
       "{'Southampton': 'South Molton',\n",
       " 'Vannes': 'Nantes',\n",
       " 'Vitry-sur-Seine': 'Neuilly-sur-Seine',\n",
       " 'Rotterdam': 'Amsterdam',\n",
       " 'Krakow': 'Cracow',\n",
       " 'Wrocław': 'Wroclaw',\n",
       " 'Gessate': 'Cesate',\n",
       " 'Rosate': 'Cesate',\n",
       " 'Vanzago': 'Inzago',\n",
       " 'San Colombano al Lambro': 'San Zenone al Lambro',\n",
       " 'Münster': 'Munster',\n",
       " 'Lisboa': 'Lisbon',\n",
       " 'Kosice': 'Košice'}"
      ]
     },
     "execution_count": 32,
     "metadata": {},
     "output_type": "execute_result"
    }
   ],
   "source": [
    "#  сделаем следующим образом: в рамках страны сверим названия города с последуюшщими по расстоянию Левенштейна \n",
    "#  если отношение этого растояния к первому названию будет меньше 0.35, то заменим проверяемое на первое \n",
    "\n",
    "# словарь для замены\n",
    "city_change = {}\n",
    "\n",
    "# будем записывать их отдельно\n",
    "for country in df['country'].unique():\n",
    "    cities = df[df['country'] == country]['city'].unique()\n",
    "    i = 0\n",
    "    verified_idx = []\n",
    "    while i + 1 < len(cities):\n",
    "        if cities[i] != country:\n",
    "            if i not in verified_idx:\n",
    "                j = i + 1\n",
    "                while j < len(cities):\n",
    "                    lev_distance = lev(cities[i], cities[j])\n",
    "                    k = lev_distance / len(cities[i])\n",
    "                    if  k <= 0.35:\n",
    "                        if j not in verified_idx:\n",
    "                            city_change[cities[j]] = cities[i]\n",
    "                            verified_idx.append(j)\n",
    "                        else:\n",
    "                            if k < lev(city_change[cities[j]], cities[j]) / len(city_change[cities[j]]):\n",
    "                                city_change[cities[j]] = cities[i]\n",
    "                    j += 1\n",
    "        i += 1\n",
    "            \n",
    "print(len(city_change))\n",
    "city_change\n"
   ]
  },
  {
   "cell_type": "markdown",
   "id": "c6f54228",
   "metadata": {},
   "source": [
    "В сформированным грубым способом список городов, которые подобным образом написаны дважды на другом языке, попало 13 городов. Из них реальные пары - 5шт (Cracow, Wroclaw, Munster, Lisbon, Košice). Остальные - ошибка. Сделаем замену только по реальным."
   ]
  },
  {
   "cell_type": "code",
   "execution_count": 33,
   "id": "f8f4c069",
   "metadata": {},
   "outputs": [
    {
     "data": {
      "text/plain": [
       "7"
      ]
     },
     "execution_count": 33,
     "metadata": {},
     "output_type": "execute_result"
    }
   ],
   "source": [
    "for key in list(city_change.keys()):\n",
    "    if key not in ['Krakow', 'Wrocław', 'Münster', 'Lisboa', 'Kosice']:\n",
    "        city_change.pop(key)\n",
    "        \n",
    "len(df[df['city'].isin(list(city_change.keys()))])\n",
    "\n"
   ]
  },
  {
   "cell_type": "markdown",
   "id": "18b780c6",
   "metadata": {},
   "source": [
    "Так можно обработать ещё 7 строк."
   ]
  },
  {
   "cell_type": "code",
   "execution_count": 34,
   "id": "b03f0456",
   "metadata": {},
   "outputs": [
    {
     "data": {
      "text/plain": [
       "0"
      ]
     },
     "execution_count": 34,
     "metadata": {},
     "output_type": "execute_result"
    }
   ],
   "source": [
    "df['city'] = df['city'].apply(lambda x: city_change[x] if x in city_change.keys() else x)\n",
    "len(df[df['city'].isin(list(city_change.keys()))])\n"
   ]
  },
  {
   "cell_type": "markdown",
   "id": "fbab0864",
   "metadata": {},
   "source": [
    "Обработано.  \n",
    "У нас осталось проблема, когда в графе город указана страна. Посмотрим на эти случаи."
   ]
  },
  {
   "cell_type": "code",
   "execution_count": 35,
   "id": "bbf4f014",
   "metadata": {
    "scrolled": false
   },
   "outputs": [
    {
     "data": {
      "text/plain": [
       "53"
      ]
     },
     "execution_count": 35,
     "metadata": {},
     "output_type": "execute_result"
    }
   ],
   "source": [
    "# у нас есть поле индикатор на такой случай обновим его и выведем строки, где только страны.\n",
    "df['indicator'] = df.apply(lambda x: 1 if x['city'] == x['country'] else 0, axis=1)\n",
    "\n",
    "df[df['indicator'] == 1]['indicator'].sum()"
   ]
  },
  {
   "cell_type": "markdown",
   "id": "9fb6e673",
   "metadata": {},
   "source": [
    "53 строки - довольно много. Но сделать, что-то с ними нельзя. Посмотрим какие страны попали в этот список и сколько их"
   ]
  },
  {
   "cell_type": "code",
   "execution_count": 36,
   "id": "5fd732d6",
   "metadata": {},
   "outputs": [
    {
     "name": "stdout",
     "output_type": "stream",
     "text": [
      "16\n"
     ]
    },
    {
     "data": {
      "text/plain": [
       "array(['Italy', 'Luxembourg', 'Portugal', 'France', 'Bulgaria', 'Hungary',\n",
       "       'Poland', 'Germany', 'Denmark', 'Monaco', 'Spain', 'Finland',\n",
       "       'Romania', 'Netherlands', 'Ireland', 'Lithuania'], dtype=object)"
      ]
     },
     "execution_count": 36,
     "metadata": {},
     "output_type": "execute_result"
    }
   ],
   "source": [
    "print(df[df['indicator'] == 1]['country'].nunique())\n",
    "df[df['indicator'] == 1]['country'].unique()"
   ]
  },
  {
   "cell_type": "markdown",
   "id": "7a7a1343",
   "metadata": {},
   "source": [
    "Из указанного списка Luxembourg и Monaco по сути города-государства, т.е противоречий никаких нет. В остальных случаях предлагаю заменить в графе город на пометку \"город не указан\" (\"not specified\")"
   ]
  },
  {
   "cell_type": "code",
   "execution_count": 37,
   "id": "e61133fe",
   "metadata": {},
   "outputs": [
    {
     "data": {
      "text/plain": [
       "11"
      ]
     },
     "execution_count": 37,
     "metadata": {},
     "output_type": "execute_result"
    }
   ],
   "source": [
    "len(df[df['city'].isin(['Luxembourg', 'Monaco'])])"
   ]
  },
  {
   "cell_type": "markdown",
   "id": "46a1ba31",
   "metadata": {},
   "source": [
    "Т.е. быть затронуто 42 строки."
   ]
  },
  {
   "cell_type": "code",
   "execution_count": 38,
   "id": "f559f991",
   "metadata": {},
   "outputs": [
    {
     "name": "stdout",
     "output_type": "stream",
     "text": [
      "количество оставшихся строк, где \"страна = город\": 11\n",
      "количество строк с \"not specified\": 42\n"
     ]
    }
   ],
   "source": [
    "df['city'] = df.apply(\n",
    "    lambda x: 'not specified' if (x['city'] not in ['Luxembourg', 'Monaco'] and x['indicator'] == 1) else x['city'], axis=1\n",
    ")\n",
    "# обновим столбец с индикотором и посмотрим, сколько осталось строк, где страна совпадает с городом (должно быть 11)\n",
    "df['indicator'] = df.apply(lambda x: 1 if x['city'] == x['country'] else 0, axis=1)\n",
    "print('количество оставшихся строк, где \"страна = город\":', df[df['indicator'] == 1]['indicator'].sum())\n",
    "\n",
    "print('количество строк с \"not specified\":', df[df['city'] == \"not specified\"]['city'].count())\n",
    "\n"
   ]
  },
  {
   "cell_type": "markdown",
   "id": "8ceba9e7",
   "metadata": {},
   "source": [
    "42 строки обработано (без указания города). 11 оставлены как корректные."
   ]
  },
  {
   "cell_type": "code",
   "execution_count": 39,
   "id": "310c0490",
   "metadata": {},
   "outputs": [
    {
     "data": {
      "text/plain": [
       "375"
      ]
     },
     "execution_count": 39,
     "metadata": {},
     "output_type": "execute_result"
    }
   ],
   "source": [
    "df['city'].nunique()"
   ]
  },
  {
   "cell_type": "markdown",
   "id": "11876773",
   "metadata": {},
   "source": [
    "375 - итоговое количество уникальных записей в столбце `город`"
   ]
  },
  {
   "cell_type": "markdown",
   "id": "9d4a04ed",
   "metadata": {},
   "source": [
    "### Тип занятости (`employment_type`)\n",
    "Проверим какие есть значения в этой графе."
   ]
  },
  {
   "cell_type": "code",
   "execution_count": 40,
   "id": "4d498ef0",
   "metadata": {},
   "outputs": [
    {
     "data": {
      "text/plain": [
       "array(['On-site', 'Hybrid', 'not specified', 'Remote'], dtype=object)"
      ]
     },
     "execution_count": 40,
     "metadata": {},
     "output_type": "execute_result"
    }
   ],
   "source": [
    "df['employment_type'].unique()"
   ]
  },
  {
   "cell_type": "markdown",
   "id": "10c02983",
   "metadata": {},
   "source": [
    "4 варианта. Каких-то необычных нет. На всякий случай посмотрим на вариант 'not specified', т.е. тип занятости не указан."
   ]
  },
  {
   "cell_type": "code",
   "execution_count": 41,
   "id": "a77b82c0",
   "metadata": {},
   "outputs": [
    {
     "data": {
      "text/html": [
       "<div>\n",
       "<style scoped>\n",
       "    .dataframe tbody tr th:only-of-type {\n",
       "        vertical-align: middle;\n",
       "    }\n",
       "\n",
       "    .dataframe tbody tr th {\n",
       "        vertical-align: top;\n",
       "    }\n",
       "\n",
       "    .dataframe thead th {\n",
       "        text-align: right;\n",
       "    }\n",
       "</style>\n",
       "<table border=\"1\" class=\"dataframe\">\n",
       "  <thead>\n",
       "    <tr style=\"text-align: right;\">\n",
       "      <th></th>\n",
       "      <th>title</th>\n",
       "      <th>location</th>\n",
       "      <th>country</th>\n",
       "      <th>employment_type</th>\n",
       "      <th>company_name</th>\n",
       "      <th>employee_qty</th>\n",
       "      <th>company_field</th>\n",
       "      <th>skills</th>\n",
       "      <th>job_description</th>\n",
       "      <th>applicants</th>\n",
       "      <th>indicator</th>\n",
       "      <th>city</th>\n",
       "      <th>changed_ind</th>\n",
       "    </tr>\n",
       "  </thead>\n",
       "  <tbody>\n",
       "    <tr>\n",
       "      <th>14</th>\n",
       "      <td>data analyst</td>\n",
       "      <td>Craven Arms</td>\n",
       "      <td>United Kingdom</td>\n",
       "      <td>not specified</td>\n",
       "      <td>networx | Recruitment Software &amp; Services by IRIS</td>\n",
       "      <td>not specified</td>\n",
       "      <td>not specified</td>\n",
       "      <td>None</td>\n",
       "      <td>Are you passionat...</td>\n",
       "      <td>NaN</td>\n",
       "      <td>0</td>\n",
       "      <td>Craven Arms</td>\n",
       "      <td>0</td>\n",
       "    </tr>\n",
       "    <tr>\n",
       "      <th>66</th>\n",
       "      <td>data analyst</td>\n",
       "      <td>Epsom</td>\n",
       "      <td>United Kingdom</td>\n",
       "      <td>not specified</td>\n",
       "      <td>First Place Listings</td>\n",
       "      <td>1-10 employees</td>\n",
       "      <td>Technology, Information and Internet</td>\n",
       "      <td>None</td>\n",
       "      <td>This job is...</td>\n",
       "      <td>9.0</td>\n",
       "      <td>0</td>\n",
       "      <td>Epsom</td>\n",
       "      <td>0</td>\n",
       "    </tr>\n",
       "    <tr>\n",
       "      <th>67</th>\n",
       "      <td>data analyst   €60,  per hour   amsterdam based</td>\n",
       "      <td>Amsterdam</td>\n",
       "      <td>Netherlands</td>\n",
       "      <td>not specified</td>\n",
       "      <td>Computer Futures</td>\n",
       "      <td>501-1,000 employees</td>\n",
       "      <td>IT Services and IT Consulting</td>\n",
       "      <td>&lt;span class=\"visually-hidden\"&gt;&lt;!-- --&gt;Skills: ...</td>\n",
       "      <td>Data Analyst     A...</td>\n",
       "      <td>73.0</td>\n",
       "      <td>0</td>\n",
       "      <td>Amsterdam</td>\n",
       "      <td>0</td>\n",
       "    </tr>\n",
       "    <tr>\n",
       "      <th>92</th>\n",
       "      <td>data analyst (engineer)</td>\n",
       "      <td>Madrid</td>\n",
       "      <td>Spain</td>\n",
       "      <td>not specified</td>\n",
       "      <td>Revolut</td>\n",
       "      <td>1,001-5,000 employees</td>\n",
       "      <td>Financial Services</td>\n",
       "      <td>&lt;span class=\"visually-hidden\"&gt;&lt;!-- --&gt;Skills: ...</td>\n",
       "      <td>About Revolut   P...</td>\n",
       "      <td>NaN</td>\n",
       "      <td>0</td>\n",
       "      <td>Madrid</td>\n",
       "      <td>0</td>\n",
       "    </tr>\n",
       "    <tr>\n",
       "      <th>99</th>\n",
       "      <td>data analyst</td>\n",
       "      <td>Barcelona</td>\n",
       "      <td>Spain</td>\n",
       "      <td>not specified</td>\n",
       "      <td>Proton | Privacy by Default</td>\n",
       "      <td>201-500 employees</td>\n",
       "      <td>Technology, Information and Internet</td>\n",
       "      <td>&lt;span class=\"visually-hidden\"&gt;&lt;!-- --&gt;Skills: ...</td>\n",
       "      <td>A better internet,...</td>\n",
       "      <td>NaN</td>\n",
       "      <td>0</td>\n",
       "      <td>Barcelona</td>\n",
       "      <td>0</td>\n",
       "    </tr>\n",
       "    <tr>\n",
       "      <th>...</th>\n",
       "      <td>...</td>\n",
       "      <td>...</td>\n",
       "      <td>...</td>\n",
       "      <td>...</td>\n",
       "      <td>...</td>\n",
       "      <td>...</td>\n",
       "      <td>...</td>\n",
       "      <td>...</td>\n",
       "      <td>...</td>\n",
       "      <td>...</td>\n",
       "      <td>...</td>\n",
       "      <td>...</td>\n",
       "      <td>...</td>\n",
       "    </tr>\n",
       "    <tr>\n",
       "      <th>805</th>\n",
       "      <td>software engineer</td>\n",
       "      <td>Milan</td>\n",
       "      <td>Italy</td>\n",
       "      <td>not specified</td>\n",
       "      <td>Enel Group</td>\n",
       "      <td>10,001+ employees</td>\n",
       "      <td>Utilities</td>\n",
       "      <td>&lt;span class=\"visually-hidden\"&gt;&lt;!-- --&gt;Skills: ...</td>\n",
       "      <td>The team Technolog...</td>\n",
       "      <td>29.0</td>\n",
       "      <td>0</td>\n",
       "      <td>Milan</td>\n",
       "      <td>0</td>\n",
       "    </tr>\n",
       "    <tr>\n",
       "      <th>813</th>\n",
       "      <td>credit   data analyst (product)</td>\n",
       "      <td>Moravia-Silesia</td>\n",
       "      <td>Czechia</td>\n",
       "      <td>not specified</td>\n",
       "      <td>Revolut</td>\n",
       "      <td>1,001-5,000 employees</td>\n",
       "      <td>Financial Services</td>\n",
       "      <td>&lt;span class=\"visually-hidden\"&gt;&lt;!-- --&gt;Skills: ...</td>\n",
       "      <td>About Revolut   P...</td>\n",
       "      <td>27.0</td>\n",
       "      <td>0</td>\n",
       "      <td>Moravia-Silesia</td>\n",
       "      <td>0</td>\n",
       "    </tr>\n",
       "    <tr>\n",
       "      <th>821</th>\n",
       "      <td>analyst   application development analytics</td>\n",
       "      <td>Székesfehérvár</td>\n",
       "      <td>Hungary</td>\n",
       "      <td>not specified</td>\n",
       "      <td>HARMAN International</td>\n",
       "      <td>10,001+ employees</td>\n",
       "      <td>Computers and Electronics Manufacturing</td>\n",
       "      <td>&lt;span class=\"visually-hidden\"&gt;&lt;!-- --&gt;Skills: ...</td>\n",
       "      <td>What We Offer:   ...</td>\n",
       "      <td>22.0</td>\n",
       "      <td>0</td>\n",
       "      <td>Székesfehérvár</td>\n",
       "      <td>0</td>\n",
       "    </tr>\n",
       "    <tr>\n",
       "      <th>857</th>\n",
       "      <td>data analyst</td>\n",
       "      <td>Warsaw</td>\n",
       "      <td>Poland</td>\n",
       "      <td>not specified</td>\n",
       "      <td>JLL Technologies</td>\n",
       "      <td>1,001-5,000 employees</td>\n",
       "      <td>IT Services and IT Consulting</td>\n",
       "      <td>&lt;span class=\"visually-hidden\"&gt;&lt;!-- --&gt;Skills: ...</td>\n",
       "      <td>JLL Technologies i...</td>\n",
       "      <td>21.0</td>\n",
       "      <td>0</td>\n",
       "      <td>Warsaw</td>\n",
       "      <td>0</td>\n",
       "    </tr>\n",
       "    <tr>\n",
       "      <th>859</th>\n",
       "      <td>operational specialist</td>\n",
       "      <td>Belas</td>\n",
       "      <td>Portugal</td>\n",
       "      <td>not specified</td>\n",
       "      <td>Tesla</td>\n",
       "      <td>10,001+ employees</td>\n",
       "      <td>Motor Vehicle Manufacturing</td>\n",
       "      <td>&lt;span class=\"visually-hidden\"&gt;&lt;!-- --&gt;Skills: ...</td>\n",
       "      <td>What To Expect  A...</td>\n",
       "      <td>NaN</td>\n",
       "      <td>0</td>\n",
       "      <td>Belas</td>\n",
       "      <td>0</td>\n",
       "    </tr>\n",
       "  </tbody>\n",
       "</table>\n",
       "<p>67 rows × 13 columns</p>\n",
       "</div>"
      ],
      "text/plain": [
       "                                               title         location  \\\n",
       "14                                      data analyst      Craven Arms   \n",
       "66                                      data analyst            Epsom   \n",
       "67   data analyst   €60,  per hour   amsterdam based        Amsterdam   \n",
       "92                           data analyst (engineer)           Madrid   \n",
       "99                                      data analyst        Barcelona   \n",
       "..                                               ...              ...   \n",
       "805                                software engineer            Milan   \n",
       "813                  credit   data analyst (product)  Moravia-Silesia   \n",
       "821      analyst   application development analytics   Székesfehérvár   \n",
       "857                                     data analyst           Warsaw   \n",
       "859                           operational specialist            Belas   \n",
       "\n",
       "            country employment_type  \\\n",
       "14   United Kingdom   not specified   \n",
       "66   United Kingdom   not specified   \n",
       "67      Netherlands   not specified   \n",
       "92            Spain   not specified   \n",
       "99            Spain   not specified   \n",
       "..              ...             ...   \n",
       "805           Italy   not specified   \n",
       "813         Czechia   not specified   \n",
       "821         Hungary   not specified   \n",
       "857          Poland   not specified   \n",
       "859        Portugal   not specified   \n",
       "\n",
       "                                          company_name           employee_qty  \\\n",
       "14   networx | Recruitment Software & Services by IRIS          not specified   \n",
       "66                                First Place Listings         1-10 employees   \n",
       "67                                    Computer Futures    501-1,000 employees   \n",
       "92                                             Revolut  1,001-5,000 employees   \n",
       "99                         Proton | Privacy by Default      201-500 employees   \n",
       "..                                                 ...                    ...   \n",
       "805                                         Enel Group      10,001+ employees   \n",
       "813                                            Revolut  1,001-5,000 employees   \n",
       "821                               HARMAN International      10,001+ employees   \n",
       "857                                   JLL Technologies  1,001-5,000 employees   \n",
       "859                                              Tesla      10,001+ employees   \n",
       "\n",
       "                               company_field  \\\n",
       "14                             not specified   \n",
       "66      Technology, Information and Internet   \n",
       "67             IT Services and IT Consulting   \n",
       "92                        Financial Services   \n",
       "99      Technology, Information and Internet   \n",
       "..                                       ...   \n",
       "805                                Utilities   \n",
       "813                       Financial Services   \n",
       "821  Computers and Electronics Manufacturing   \n",
       "857            IT Services and IT Consulting   \n",
       "859              Motor Vehicle Manufacturing   \n",
       "\n",
       "                                                skills  \\\n",
       "14                                                None   \n",
       "66                                                None   \n",
       "67   <span class=\"visually-hidden\"><!-- -->Skills: ...   \n",
       "92   <span class=\"visually-hidden\"><!-- -->Skills: ...   \n",
       "99   <span class=\"visually-hidden\"><!-- -->Skills: ...   \n",
       "..                                                 ...   \n",
       "805  <span class=\"visually-hidden\"><!-- -->Skills: ...   \n",
       "813  <span class=\"visually-hidden\"><!-- -->Skills: ...   \n",
       "821  <span class=\"visually-hidden\"><!-- -->Skills: ...   \n",
       "857  <span class=\"visually-hidden\"><!-- -->Skills: ...   \n",
       "859  <span class=\"visually-hidden\"><!-- -->Skills: ...   \n",
       "\n",
       "                                       job_description  applicants  indicator  \\\n",
       "14                                Are you passionat...         NaN          0   \n",
       "66                                      This job is...         9.0          0   \n",
       "67                               Data Analyst     A...        73.0          0   \n",
       "92                                About Revolut   P...         NaN          0   \n",
       "99                               A better internet,...         NaN          0   \n",
       "..                                                 ...         ...        ...   \n",
       "805                              The team Technolog...        29.0          0   \n",
       "813                               About Revolut   P...        27.0          0   \n",
       "821                               What We Offer:   ...        22.0          0   \n",
       "857                              JLL Technologies i...        21.0          0   \n",
       "859                               What To Expect  A...         NaN          0   \n",
       "\n",
       "                city  changed_ind  \n",
       "14       Craven Arms            0  \n",
       "66             Epsom            0  \n",
       "67         Amsterdam            0  \n",
       "92            Madrid            0  \n",
       "99         Barcelona            0  \n",
       "..               ...          ...  \n",
       "805            Milan            0  \n",
       "813  Moravia-Silesia            0  \n",
       "821   Székesfehérvár            0  \n",
       "857           Warsaw            0  \n",
       "859            Belas            0  \n",
       "\n",
       "[67 rows x 13 columns]"
      ]
     },
     "execution_count": 41,
     "metadata": {},
     "output_type": "execute_result"
    }
   ],
   "source": [
    "df[df['employment_type'] == 'not specified']"
   ]
  },
  {
   "cell_type": "markdown",
   "id": "1f6ac872",
   "metadata": {},
   "source": [
    "Вроде ничего необычного. Таких записей 67шт. Достоверно определить какой тип занятости подразумевается у данной вакансии невозможно, т.к. даже в одной компании к разным должностям могут быть разные требования. Поэтому в этом случае ничего делать не будем."
   ]
  },
  {
   "cell_type": "markdown",
   "id": "c8625c58",
   "metadata": {},
   "source": [
    "### Название компании `company_name`\n",
    "Посмотрим, что тут можно проверить."
   ]
  },
  {
   "cell_type": "code",
   "execution_count": 42,
   "id": "09ab9482",
   "metadata": {},
   "outputs": [
    {
     "data": {
      "text/plain": [
       "2"
      ]
     },
     "execution_count": 42,
     "metadata": {},
     "output_type": "execute_result"
    }
   ],
   "source": [
    "df['company_name'].isna().sum()"
   ]
  },
  {
   "cell_type": "markdown",
   "id": "acc56319",
   "metadata": {},
   "source": [
    "Есть две компании, у которых не указаны названия. Выведем их."
   ]
  },
  {
   "cell_type": "code",
   "execution_count": 43,
   "id": "9d6a1d33",
   "metadata": {},
   "outputs": [
    {
     "data": {
      "text/html": [
       "<div>\n",
       "<style scoped>\n",
       "    .dataframe tbody tr th:only-of-type {\n",
       "        vertical-align: middle;\n",
       "    }\n",
       "\n",
       "    .dataframe tbody tr th {\n",
       "        vertical-align: top;\n",
       "    }\n",
       "\n",
       "    .dataframe thead th {\n",
       "        text-align: right;\n",
       "    }\n",
       "</style>\n",
       "<table border=\"1\" class=\"dataframe\">\n",
       "  <thead>\n",
       "    <tr style=\"text-align: right;\">\n",
       "      <th></th>\n",
       "      <th>title</th>\n",
       "      <th>location</th>\n",
       "      <th>country</th>\n",
       "      <th>employment_type</th>\n",
       "      <th>company_name</th>\n",
       "      <th>employee_qty</th>\n",
       "      <th>company_field</th>\n",
       "      <th>skills</th>\n",
       "      <th>job_description</th>\n",
       "      <th>applicants</th>\n",
       "      <th>indicator</th>\n",
       "      <th>city</th>\n",
       "      <th>changed_ind</th>\n",
       "    </tr>\n",
       "  </thead>\n",
       "  <tbody>\n",
       "    <tr>\n",
       "      <th>656</th>\n",
       "      <td>senior data engineer (f/m/x)</td>\n",
       "      <td>Ulm</td>\n",
       "      <td>Germany</td>\n",
       "      <td>On-site</td>\n",
       "      <td>NaN</td>\n",
       "      <td>201-500 employees</td>\n",
       "      <td>Software Development</td>\n",
       "      <td>&lt;span class=\"visually-hidden\"&gt;&lt;!-- --&gt;Skills: ...</td>\n",
       "      <td>Software in highl...</td>\n",
       "      <td>103.0</td>\n",
       "      <td>0</td>\n",
       "      <td>Ulm</td>\n",
       "      <td>0</td>\n",
       "    </tr>\n",
       "    <tr>\n",
       "      <th>681</th>\n",
       "      <td>data analyst (m/w/d)</td>\n",
       "      <td>Osnabrück</td>\n",
       "      <td>Germany</td>\n",
       "      <td>Hybrid</td>\n",
       "      <td>NaN</td>\n",
       "      <td>10,001+ employees</td>\n",
       "      <td>Mechanical Or Industrial Engineering</td>\n",
       "      <td>&lt;span class=\"visually-hidden\"&gt;&lt;!-- --&gt;Skills: ...</td>\n",
       "      <td>This job is...</td>\n",
       "      <td>2.0</td>\n",
       "      <td>0</td>\n",
       "      <td>Osnabrück</td>\n",
       "      <td>0</td>\n",
       "    </tr>\n",
       "  </tbody>\n",
       "</table>\n",
       "</div>"
      ],
      "text/plain": [
       "                            title   location  country employment_type  \\\n",
       "656  senior data engineer (f/m/x)        Ulm  Germany         On-site   \n",
       "681          data analyst (m/w/d)  Osnabrück  Germany          Hybrid   \n",
       "\n",
       "    company_name       employee_qty                         company_field  \\\n",
       "656          NaN  201-500 employees                  Software Development   \n",
       "681          NaN  10,001+ employees  Mechanical Or Industrial Engineering   \n",
       "\n",
       "                                                skills  \\\n",
       "656  <span class=\"visually-hidden\"><!-- -->Skills: ...   \n",
       "681  <span class=\"visually-hidden\"><!-- -->Skills: ...   \n",
       "\n",
       "                                       job_description  applicants  indicator  \\\n",
       "656                               Software in highl...       103.0          0   \n",
       "681                                     This job is...         2.0          0   \n",
       "\n",
       "          city  changed_ind  \n",
       "656        Ulm            0  \n",
       "681  Osnabrück            0  "
      ]
     },
     "execution_count": 43,
     "metadata": {},
     "output_type": "execute_result"
    }
   ],
   "source": [
    "df[df['company_name'].isna()]"
   ]
  },
  {
   "cell_type": "markdown",
   "id": "2331dbe9",
   "metadata": {},
   "source": [
    "По вакансиям по этим компаниям есть достаточно полные данные (обе из Германии, но разные города), поэтому, предлагается просто заменить пропуск на 'not specified'."
   ]
  },
  {
   "cell_type": "code",
   "execution_count": 44,
   "id": "d9046e39",
   "metadata": {},
   "outputs": [],
   "source": [
    "df['company_name'] = df['company_name'].fillna('not specified')"
   ]
  },
  {
   "cell_type": "code",
   "execution_count": 45,
   "id": "05922421",
   "metadata": {},
   "outputs": [
    {
     "data": {
      "text/plain": [
       "0"
      ]
     },
     "execution_count": 45,
     "metadata": {},
     "output_type": "execute_result"
    }
   ],
   "source": [
    "df['company_name'].isna().sum()"
   ]
  },
  {
   "cell_type": "markdown",
   "id": "6faec3e1",
   "metadata": {},
   "source": [
    "Посмотрим, сколько уникальных компаний в принципе есть в датасете."
   ]
  },
  {
   "cell_type": "code",
   "execution_count": 46,
   "id": "5a68e143",
   "metadata": {},
   "outputs": [
    {
     "data": {
      "text/plain": [
       "670"
      ]
     },
     "execution_count": 46,
     "metadata": {},
     "output_type": "execute_result"
    }
   ],
   "source": [
    "df['company_name'].nunique()"
   ]
  },
  {
   "cell_type": "code",
   "execution_count": 47,
   "id": "06ce3e5d",
   "metadata": {},
   "outputs": [
    {
     "data": {
      "text/plain": [
       "CPM Italy                                                44\n",
       "TELUS International                                      20\n",
       "Revolut                                                  12\n",
       "Agoda                                                     6\n",
       "TELUS International AI Data Solutions                     6\n",
       "                                                         ..\n",
       "HillFive                                                  1\n",
       "IT-Personalberatung Dr. Dienst & Wenzel GmbH & Co. KG     1\n",
       "iTrust Partnering                                         1\n",
       "Lupus alpha Asset Management AG                           1\n",
       "Infoport                                                  1\n",
       "Name: company_name, Length: 670, dtype: int64"
      ]
     },
     "execution_count": 47,
     "metadata": {},
     "output_type": "execute_result"
    }
   ],
   "source": [
    "df['company_name'].value_counts()"
   ]
  },
  {
   "cell_type": "code",
   "execution_count": 48,
   "id": "2ca2b550",
   "metadata": {},
   "outputs": [
    {
     "name": "stdout",
     "output_type": "stream",
     "text": [
      "более двух вакансий: 35\n",
      "до двух вакансий: 635\n"
     ]
    }
   ],
   "source": [
    "companies = (\n",
    "    df.groupby('company_name', as_index=False)\n",
    "    .agg({'title': 'count'})\n",
    "    .rename(columns={'title': 'vacancies'})\n",
    "    .sort_values('vacancies', ascending=False)\n",
    ")\n",
    "print('более двух вакансий:', companies[companies['vacancies'] > 2]['company_name'].count())\n",
    "print('до двух вакансий:', companies[companies['vacancies'] <= 2]['company_name'].count())"
   ]
  },
  {
   "cell_type": "markdown",
   "id": "b32db50e",
   "metadata": {},
   "source": [
    "669 известных компаний представлено в датасете (+ две или одна компания записана под 'not specified'). В большинстве своем компании разместили 1 или две вакансии (635 компаний). 35 компаний - от 3 и больше. Поиск неявных дубликатов осложняется тем, что компаний слишком много и среди вероятно могут быть компании просто с похожими названиями и разные дочерние структуры. Поэтому в плане дубликатов здесь делать ничего не будем - слишком легко ошибиться. Тем более название компании идёт от профиля компании в LinkedIn, поэтому появления конкретного дубликата маловероятно."
   ]
  },
  {
   "cell_type": "markdown",
   "id": "e53a8c68",
   "metadata": {},
   "source": [
    "### Количество сотрудников (`employee_qty`)\n",
    "Посмотрим, какие категории есть и сколько компаний не указало количество сотрудников."
   ]
  },
  {
   "cell_type": "code",
   "execution_count": 49,
   "id": "2606958e",
   "metadata": {},
   "outputs": [
    {
     "data": {
      "text/plain": [
       "array(['11-50 employees', 'not specified', '501-1,000 employees',\n",
       "       '1,001-5,000 employees', '51-200 employees', '10,001+ employees',\n",
       "       '1-10 employees', '201-500 employees', '5,001-10,000 employees',\n",
       "       'Retail Apparel and Fashion',\n",
       "       'See how you compare to 9 applicants. Try Premium for free',\n",
       "       'Svein Grande is hiring for this job',\n",
       "       'See how you compare to 19 applicants. Try Premium for free',\n",
       "       'See how you compare to 22 applicants. Try Premium for free',\n",
       "       'Romain GUIHENEUF is hiring for this job',\n",
       "       'See how you compare to 13 applicants. Try Premium for free',\n",
       "       'See recent hiring trends for Devonshire Hayes Recruitment Specialists Ltd. Try Premium for free',\n",
       "       'See how you compare to 10 applicants. Try Premium for free',\n",
       "       'See how you compare to 4 applicants. Try Premium for free'],\n",
       "      dtype=object)"
      ]
     },
     "execution_count": 49,
     "metadata": {},
     "output_type": "execute_result"
    }
   ],
   "source": [
    "df['employee_qty'].unique()"
   ]
  },
  {
   "cell_type": "code",
   "execution_count": 50,
   "id": "46d76a12",
   "metadata": {},
   "outputs": [
    {
     "data": {
      "text/plain": [
       "0"
      ]
     },
     "execution_count": 50,
     "metadata": {},
     "output_type": "execute_result"
    }
   ],
   "source": [
    "df['employee_qty'].isna().sum()"
   ]
  },
  {
   "cell_type": "markdown",
   "id": "341c35cd",
   "metadata": {},
   "source": [
    "Основные проблемы:\n",
    "- есть строки с 'not specified'\n",
    "- есть строки, где вместо количества сотрудников указана какая-то иная информация (количество заявителей, область деятельности компании и т.д.)\n",
    "\n",
    "Начнём со второго пункта. Там есть информация о других кандидатах на вакансию. Вероятно эта та информация, которая должно была попасть в графу 'applicants'. Выведем эти строки и только интересующие нас столбцы.\n"
   ]
  },
  {
   "cell_type": "code",
   "execution_count": 51,
   "id": "948e22f9",
   "metadata": {
    "scrolled": true
   },
   "outputs": [
    {
     "data": {
      "text/html": [
       "<div>\n",
       "<style scoped>\n",
       "    .dataframe tbody tr th:only-of-type {\n",
       "        vertical-align: middle;\n",
       "    }\n",
       "\n",
       "    .dataframe tbody tr th {\n",
       "        vertical-align: top;\n",
       "    }\n",
       "\n",
       "    .dataframe thead th {\n",
       "        text-align: right;\n",
       "    }\n",
       "</style>\n",
       "<table border=\"1\" class=\"dataframe\">\n",
       "  <thead>\n",
       "    <tr style=\"text-align: right;\">\n",
       "      <th></th>\n",
       "      <th>employee_qty</th>\n",
       "      <th>applicants</th>\n",
       "    </tr>\n",
       "  </thead>\n",
       "  <tbody>\n",
       "    <tr>\n",
       "      <th>285</th>\n",
       "      <td>See how you compare to 9 applicants. Try Premi...</td>\n",
       "      <td>9.0</td>\n",
       "    </tr>\n",
       "    <tr>\n",
       "      <th>335</th>\n",
       "      <td>See how you compare to 19 applicants. Try Prem...</td>\n",
       "      <td>19.0</td>\n",
       "    </tr>\n",
       "    <tr>\n",
       "      <th>360</th>\n",
       "      <td>See how you compare to 22 applicants. Try Prem...</td>\n",
       "      <td>22.0</td>\n",
       "    </tr>\n",
       "    <tr>\n",
       "      <th>583</th>\n",
       "      <td>See how you compare to 13 applicants. Try Prem...</td>\n",
       "      <td>13.0</td>\n",
       "    </tr>\n",
       "    <tr>\n",
       "      <th>673</th>\n",
       "      <td>See how you compare to 10 applicants. Try Prem...</td>\n",
       "      <td>10.0</td>\n",
       "    </tr>\n",
       "    <tr>\n",
       "      <th>876</th>\n",
       "      <td>See how you compare to 4 applicants. Try Premi...</td>\n",
       "      <td>4.0</td>\n",
       "    </tr>\n",
       "  </tbody>\n",
       "</table>\n",
       "</div>"
      ],
      "text/plain": [
       "                                          employee_qty  applicants\n",
       "285  See how you compare to 9 applicants. Try Premi...         9.0\n",
       "335  See how you compare to 19 applicants. Try Prem...        19.0\n",
       "360  See how you compare to 22 applicants. Try Prem...        22.0\n",
       "583  See how you compare to 13 applicants. Try Prem...        13.0\n",
       "673  See how you compare to 10 applicants. Try Prem...        10.0\n",
       "876  See how you compare to 4 applicants. Try Premi...         4.0"
      ]
     },
     "execution_count": 51,
     "metadata": {},
     "output_type": "execute_result"
    }
   ],
   "source": [
    "applicants = []\n",
    "for elem in df['employee_qty'].unique():\n",
    "    if 'applicants' in elem:\n",
    "        applicants.append(elem)\n",
    "df[df['employee_qty'].isin(applicants)][['employee_qty', 'applicants']]"
   ]
  },
  {
   "cell_type": "markdown",
   "id": "96be9a89",
   "metadata": {},
   "source": [
    "Всё верно - графа 'employee_qty' в этих строках оказалась заполнена неверно (эти строки можно также пометить как 'not specified').  \n",
    "Также есть строки с указанной сферой деятельности - выведем эти строки\n"
   ]
  },
  {
   "cell_type": "code",
   "execution_count": 52,
   "id": "34fa3461",
   "metadata": {},
   "outputs": [
    {
     "data": {
      "text/html": [
       "<div>\n",
       "<style scoped>\n",
       "    .dataframe tbody tr th:only-of-type {\n",
       "        vertical-align: middle;\n",
       "    }\n",
       "\n",
       "    .dataframe tbody tr th {\n",
       "        vertical-align: top;\n",
       "    }\n",
       "\n",
       "    .dataframe thead th {\n",
       "        text-align: right;\n",
       "    }\n",
       "</style>\n",
       "<table border=\"1\" class=\"dataframe\">\n",
       "  <thead>\n",
       "    <tr style=\"text-align: right;\">\n",
       "      <th></th>\n",
       "      <th>employee_qty</th>\n",
       "      <th>company_field</th>\n",
       "    </tr>\n",
       "  </thead>\n",
       "  <tbody>\n",
       "    <tr>\n",
       "      <th>220</th>\n",
       "      <td>Retail Apparel and Fashion</td>\n",
       "      <td>Retail Apparel and Fashion</td>\n",
       "    </tr>\n",
       "  </tbody>\n",
       "</table>\n",
       "</div>"
      ],
      "text/plain": [
       "                   employee_qty               company_field\n",
       "220  Retail Apparel and Fashion  Retail Apparel and Fashion"
      ]
     },
     "execution_count": 52,
     "metadata": {},
     "output_type": "execute_result"
    }
   ],
   "source": [
    "df[df['employee_qty'] == 'Retail Apparel and Fashion'][['employee_qty', 'company_field']]"
   ]
  },
  {
   "cell_type": "markdown",
   "id": "8ab2cc94",
   "metadata": {},
   "source": [
    "И снова - это просто ошибка (в 'company_field' информация полностью повторяется - тоже пометить 'not specified').\n",
    "\n",
    "Поправим столбец."
   ]
  },
  {
   "cell_type": "code",
   "execution_count": 53,
   "id": "de8c8cb1",
   "metadata": {},
   "outputs": [
    {
     "data": {
      "text/plain": [
       "array(['11-50 employees', 'not specified', '501-1,000 employees',\n",
       "       '1,001-5,000 employees', '51-200 employees', '10,001+ employees',\n",
       "       '1-10 employees', '201-500 employees', '5,001-10,000 employees'],\n",
       "      dtype=object)"
      ]
     },
     "execution_count": 53,
     "metadata": {},
     "output_type": "execute_result"
    }
   ],
   "source": [
    "def to_not_specified(cell):\n",
    "    if 'employees' in cell or 'not specified' in cell:\n",
    "        return cell\n",
    "    else:\n",
    "        return 'not specified'\n",
    "df['employee_qty'] = df['employee_qty'].apply(to_not_specified)\n",
    "df['employee_qty'].unique()"
   ]
  },
  {
   "cell_type": "markdown",
   "id": "1f46f649",
   "metadata": {},
   "source": [
    "Некорректное изменено. Теперь займёмся 'not specified'. Для начала посмотрим, сколько таких строк."
   ]
  },
  {
   "cell_type": "code",
   "execution_count": 54,
   "id": "67472975",
   "metadata": {},
   "outputs": [
    {
     "data": {
      "text/plain": [
       "27"
      ]
     },
     "execution_count": 54,
     "metadata": {},
     "output_type": "execute_result"
    }
   ],
   "source": [
    "df[df['employee_qty'] == 'not specified']['title'].count()"
   ]
  },
  {
   "cell_type": "markdown",
   "id": "63af3a70",
   "metadata": {},
   "source": [
    "Таких строк 27 - не то, чтобы очень много. Можно посмотреть, нет ли среди этих строк компаний, у которых в других вакансиях количество сотрудников указано."
   ]
  },
  {
   "cell_type": "code",
   "execution_count": 55,
   "id": "23fa6192",
   "metadata": {},
   "outputs": [
    {
     "data": {
      "text/plain": [
       "23"
      ]
     },
     "execution_count": 55,
     "metadata": {},
     "output_type": "execute_result"
    }
   ],
   "source": [
    "compaies = df[df['employee_qty'] == 'not specified']['company_name'].unique()\n",
    "len(compaies)"
   ]
  },
  {
   "cell_type": "markdown",
   "id": "53071c38",
   "metadata": {},
   "source": [
    "Таких компаний 23. Есть ли вакансии, где у них указан штат. "
   ]
  },
  {
   "cell_type": "code",
   "execution_count": 56,
   "id": "7e5e0ea0",
   "metadata": {},
   "outputs": [
    {
     "data": {
      "text/html": [
       "<div>\n",
       "<style scoped>\n",
       "    .dataframe tbody tr th:only-of-type {\n",
       "        vertical-align: middle;\n",
       "    }\n",
       "\n",
       "    .dataframe tbody tr th {\n",
       "        vertical-align: top;\n",
       "    }\n",
       "\n",
       "    .dataframe thead th {\n",
       "        text-align: right;\n",
       "    }\n",
       "</style>\n",
       "<table border=\"1\" class=\"dataframe\">\n",
       "  <thead>\n",
       "    <tr style=\"text-align: right;\">\n",
       "      <th></th>\n",
       "      <th>title</th>\n",
       "      <th>location</th>\n",
       "      <th>country</th>\n",
       "      <th>employment_type</th>\n",
       "      <th>company_name</th>\n",
       "      <th>employee_qty</th>\n",
       "      <th>company_field</th>\n",
       "      <th>skills</th>\n",
       "      <th>job_description</th>\n",
       "      <th>applicants</th>\n",
       "      <th>indicator</th>\n",
       "      <th>city</th>\n",
       "      <th>changed_ind</th>\n",
       "    </tr>\n",
       "  </thead>\n",
       "  <tbody>\n",
       "    <tr>\n",
       "      <th>0</th>\n",
       "      <td>data analyst</td>\n",
       "      <td>Basel</td>\n",
       "      <td>Switzerland</td>\n",
       "      <td>On-site</td>\n",
       "      <td>PharmiWeb.Jobs: Global Life Science Jobs</td>\n",
       "      <td>11-50 employees</td>\n",
       "      <td>Staffing and Recruiting</td>\n",
       "      <td>None</td>\n",
       "      <td>What You Will Achi...</td>\n",
       "      <td>47.0</td>\n",
       "      <td>0</td>\n",
       "      <td>Basel</td>\n",
       "      <td>0</td>\n",
       "    </tr>\n",
       "    <tr>\n",
       "      <th>20</th>\n",
       "      <td>data analyst (space &amp; planning)</td>\n",
       "      <td>South Molton</td>\n",
       "      <td>United Kingdom</td>\n",
       "      <td>On-site</td>\n",
       "      <td>networx | Recruitment Software &amp; Services by IRIS</td>\n",
       "      <td>51-200 employees</td>\n",
       "      <td>Staffing and Recruiting</td>\n",
       "      <td>None</td>\n",
       "      <td>Salary:  To be di...</td>\n",
       "      <td>13.0</td>\n",
       "      <td>0</td>\n",
       "      <td>South Molton</td>\n",
       "      <td>0</td>\n",
       "    </tr>\n",
       "    <tr>\n",
       "      <th>22</th>\n",
       "      <td>data analyst</td>\n",
       "      <td>Solihull</td>\n",
       "      <td>United Kingdom</td>\n",
       "      <td>On-site</td>\n",
       "      <td>Mexa Solutions</td>\n",
       "      <td>11-50 employees</td>\n",
       "      <td>Staffing and Recruiting</td>\n",
       "      <td>None</td>\n",
       "      <td>Hybrid - West Mi...</td>\n",
       "      <td>NaN</td>\n",
       "      <td>0</td>\n",
       "      <td>Solihull</td>\n",
       "      <td>0</td>\n",
       "    </tr>\n",
       "    <tr>\n",
       "      <th>23</th>\n",
       "      <td>data analyst ii</td>\n",
       "      <td>Dublin</td>\n",
       "      <td>Ireland</td>\n",
       "      <td>On-site</td>\n",
       "      <td>PharmiWeb.Jobs: Global Life Science Jobs</td>\n",
       "      <td>11-50 employees</td>\n",
       "      <td>Staffing and Recruiting</td>\n",
       "      <td>&lt;span class=\"visually-hidden\"&gt;&lt;!-- --&gt;Skills: ...</td>\n",
       "      <td>Title: Senior QA A...</td>\n",
       "      <td>30.0</td>\n",
       "      <td>0</td>\n",
       "      <td>Dublin</td>\n",
       "      <td>0</td>\n",
       "    </tr>\n",
       "  </tbody>\n",
       "</table>\n",
       "</div>"
      ],
      "text/plain": [
       "                              title      location         country  \\\n",
       "0                      data analyst         Basel     Switzerland   \n",
       "20  data analyst (space & planning)  South Molton  United Kingdom   \n",
       "22                     data analyst      Solihull  United Kingdom   \n",
       "23                  data analyst ii        Dublin         Ireland   \n",
       "\n",
       "   employment_type                                       company_name  \\\n",
       "0          On-site           PharmiWeb.Jobs: Global Life Science Jobs   \n",
       "20         On-site  networx | Recruitment Software & Services by IRIS   \n",
       "22         On-site                                     Mexa Solutions   \n",
       "23         On-site           PharmiWeb.Jobs: Global Life Science Jobs   \n",
       "\n",
       "        employee_qty            company_field  \\\n",
       "0    11-50 employees  Staffing and Recruiting   \n",
       "20  51-200 employees  Staffing and Recruiting   \n",
       "22   11-50 employees  Staffing and Recruiting   \n",
       "23   11-50 employees  Staffing and Recruiting   \n",
       "\n",
       "                                               skills  \\\n",
       "0                                                None   \n",
       "20                                               None   \n",
       "22                                               None   \n",
       "23  <span class=\"visually-hidden\"><!-- -->Skills: ...   \n",
       "\n",
       "                                      job_description  applicants  indicator  \\\n",
       "0                               What You Will Achi...        47.0          0   \n",
       "20                               Salary:  To be di...        13.0          0   \n",
       "22                                Hybrid - West Mi...         NaN          0   \n",
       "23                              Title: Senior QA A...        30.0          0   \n",
       "\n",
       "            city  changed_ind  \n",
       "0          Basel            0  \n",
       "20  South Molton            0  \n",
       "22      Solihull            0  \n",
       "23        Dublin            0  "
      ]
     },
     "execution_count": 56,
     "metadata": {},
     "output_type": "execute_result"
    }
   ],
   "source": [
    "df.loc[(df['company_name'].isin(compaies)) & (df['employee_qty'] != 'not specified')]"
   ]
  },
  {
   "cell_type": "markdown",
   "id": "cdb60b89",
   "metadata": {},
   "source": [
    "Отлично! есть несколько компаний, где в других случаях указано количество сотрудников. Т.е. часть строк, где не указано штат, можно поправить."
   ]
  },
  {
   "cell_type": "code",
   "execution_count": 57,
   "id": "8b5ff01e",
   "metadata": {},
   "outputs": [
    {
     "data": {
      "text/html": [
       "<div>\n",
       "<style scoped>\n",
       "    .dataframe tbody tr th:only-of-type {\n",
       "        vertical-align: middle;\n",
       "    }\n",
       "\n",
       "    .dataframe tbody tr th {\n",
       "        vertical-align: top;\n",
       "    }\n",
       "\n",
       "    .dataframe thead th {\n",
       "        text-align: right;\n",
       "    }\n",
       "</style>\n",
       "<table border=\"1\" class=\"dataframe\">\n",
       "  <thead>\n",
       "    <tr style=\"text-align: right;\">\n",
       "      <th></th>\n",
       "      <th>company_name</th>\n",
       "      <th>employee_qty</th>\n",
       "      <th>title</th>\n",
       "    </tr>\n",
       "  </thead>\n",
       "  <tbody>\n",
       "    <tr>\n",
       "      <th>0</th>\n",
       "      <td>Mexa Solutions</td>\n",
       "      <td>11-50 employees</td>\n",
       "      <td>1</td>\n",
       "    </tr>\n",
       "    <tr>\n",
       "      <th>1</th>\n",
       "      <td>PharmiWeb.Jobs: Global Life Science Jobs</td>\n",
       "      <td>11-50 employees</td>\n",
       "      <td>2</td>\n",
       "    </tr>\n",
       "    <tr>\n",
       "      <th>2</th>\n",
       "      <td>networx | Recruitment Software &amp; Services by IRIS</td>\n",
       "      <td>51-200 employees</td>\n",
       "      <td>1</td>\n",
       "    </tr>\n",
       "  </tbody>\n",
       "</table>\n",
       "</div>"
      ],
      "text/plain": [
       "                                        company_name      employee_qty  title\n",
       "0                                     Mexa Solutions   11-50 employees      1\n",
       "1           PharmiWeb.Jobs: Global Life Science Jobs   11-50 employees      2\n",
       "2  networx | Recruitment Software & Services by IRIS  51-200 employees      1"
      ]
     },
     "execution_count": 57,
     "metadata": {},
     "output_type": "execute_result"
    }
   ],
   "source": [
    "companies_staff = (\n",
    "    df.loc[(df['company_name'].isin(compaies)) & (df['employee_qty'] != 'not specified')]\n",
    "    .groupby(['company_name', 'employee_qty'], as_index=False)\n",
    "    .agg({'title': 'count'})\n",
    ")\n",
    "companies_staff"
   ]
  },
  {
   "cell_type": "code",
   "execution_count": 58,
   "id": "12605368",
   "metadata": {},
   "outputs": [],
   "source": [
    "# сделаем словарь  \"компания - штат\"\n",
    "staff_comp = {}\n",
    "for company, staff in zip(companies_staff['company_name'], companies_staff['employee_qty']):\n",
    "    staff_comp[company] = staff\n"
   ]
  },
  {
   "cell_type": "code",
   "execution_count": 59,
   "id": "ffb0d12f",
   "metadata": {},
   "outputs": [],
   "source": [
    "# в графе \"employee_qty\" заменим \"not specified\" на категорию кол-ва сотрудников, где это возможно.\n",
    "df['employee_qty'] = (\n",
    "    df.apply(lambda x:\n",
    "             staff_comp[x['company_name']] \n",
    "             if (x['employee_qty'] == 'not specified' and x['company_name'] in staff_comp.keys())\n",
    "             else x['employee_qty'],\n",
    "             axis = 1)\n",
    ")"
   ]
  },
  {
   "cell_type": "code",
   "execution_count": 60,
   "id": "afe9493a",
   "metadata": {},
   "outputs": [
    {
     "data": {
      "text/plain": [
       "23"
      ]
     },
     "execution_count": 60,
     "metadata": {},
     "output_type": "execute_result"
    }
   ],
   "source": [
    "df[df['employee_qty'] == 'not specified']['title'].count()"
   ]
  },
  {
   "cell_type": "markdown",
   "id": "b8dcd9e2",
   "metadata": {},
   "source": [
    "Таким образом удалось исправить 4 строки (не слишком густо, но хоть что-то)"
   ]
  },
  {
   "cell_type": "markdown",
   "id": "0023b220",
   "metadata": {},
   "source": [
    "### Стобец \"сфера деятельности\" (`company_field`)\n",
    "Проверим, есть ли в этом столбце какие-то ненормальные значения или пропуски"
   ]
  },
  {
   "cell_type": "code",
   "execution_count": 61,
   "id": "78d3b720",
   "metadata": {},
   "outputs": [],
   "source": [
    "# для начала переведём в нижний реестр\n",
    "df['company_field'] = df['company_field'].apply(lambda x: x.lower())"
   ]
  },
  {
   "cell_type": "code",
   "execution_count": 62,
   "id": "236d6060",
   "metadata": {},
   "outputs": [
    {
     "name": "stdout",
     "output_type": "stream",
     "text": [
      "122\n"
     ]
    },
    {
     "data": {
      "text/plain": [
       "['1,001-5,000 employees',\n",
       " '1-10 employees',\n",
       " '11-50 employees',\n",
       " '201-500 employees',\n",
       " '501-1,000 employees',\n",
       " '51-200 employees',\n",
       " 'advertising services',\n",
       " 'airlines and aviation',\n",
       " 'apparel & fashion',\n",
       " 'appliances, electrical, and electronics manufacturing',\n",
       " 'armed forces',\n",
       " 'automation machinery manufacturing',\n",
       " 'automotive',\n",
       " 'aviation and aerospace component manufacturing',\n",
       " 'banking',\n",
       " 'biotechnology research',\n",
       " 'book and periodical publishing',\n",
       " 'business consulting and services',\n",
       " 'chemical manufacturing',\n",
       " 'computer and network security',\n",
       " 'computer games',\n",
       " 'computers and electronics manufacturing',\n",
       " 'construction',\n",
       " 'consumer goods',\n",
       " 'consumer services',\n",
       " 'cosmetics',\n",
       " 'dairy product manufacturing',\n",
       " 'defense & space',\n",
       " 'defense and space manufacturing',\n",
       " 'education administration programs',\n",
       " 'entertainment providers',\n",
       " 'environmental services',\n",
       " 'farming',\n",
       " 'financial services',\n",
       " 'food & beverages',\n",
       " 'food and beverage manufacturing',\n",
       " 'food and beverage services',\n",
       " 'food production',\n",
       " 'gambling facilities and casinos',\n",
       " 'glass, ceramics and concrete manufacturing',\n",
       " 'government administration',\n",
       " 'higher education',\n",
       " 'hospitality',\n",
       " 'hospitals and health care',\n",
       " 'human resources',\n",
       " 'human resources services',\n",
       " 'individual and family services',\n",
       " 'industrial machinery manufacturing',\n",
       " 'information services',\n",
       " 'information technology & services',\n",
       " 'insurance',\n",
       " 'international affairs',\n",
       " 'international trade and development',\n",
       " 'internet marketplace platforms',\n",
       " 'internet publishing',\n",
       " 'investment banking',\n",
       " 'investment management',\n",
       " 'it services and it consulting',\n",
       " 'law enforcement',\n",
       " 'law practice',\n",
       " 'leisure, travel & tourism',\n",
       " 'machinery manufacturing',\n",
       " 'manufacturing',\n",
       " 'market research',\n",
       " 'mechanical or industrial engineering',\n",
       " 'medical equipment manufacturing',\n",
       " 'mental health care',\n",
       " 'motor vehicle manufacturing',\n",
       " 'motor vehicle parts manufacturing',\n",
       " 'musicians',\n",
       " 'newspaper publishing',\n",
       " 'non-profit organizations',\n",
       " 'not specified',\n",
       " 'oil and gas',\n",
       " 'outsourcing and offshoring consulting',\n",
       " 'packaging and containers manufacturing',\n",
       " 'performing arts',\n",
       " 'personal care product manufacturing',\n",
       " 'pharmaceutical manufacturing',\n",
       " 'philanthropic fundraising services',\n",
       " 'primary metal manufacturing',\n",
       " 'printing services',\n",
       " 'professional services',\n",
       " 'public relations and communications services',\n",
       " 'railroad equipment manufacturing',\n",
       " 'real estate',\n",
       " 'renewable energy power generation',\n",
       " 'renewable energy semiconductor manufacturing',\n",
       " 'research',\n",
       " 'research services',\n",
       " 'restaurants',\n",
       " 'retail',\n",
       " 'retail apparel and fashion',\n",
       " 'retail groceries',\n",
       " 'retail health and personal care products',\n",
       " 'retail luxury goods and jewelry',\n",
       " 'retail office equipment',\n",
       " 'romain guiheneuf is hiring for this job',\n",
       " 'see how you compare to 10 applicants. try premium for free',\n",
       " 'see how you compare to 13 applicants. try premium for free',\n",
       " 'see how you compare to 19 applicants. try premium for free',\n",
       " 'see how you compare to 22 applicants. try premium for free',\n",
       " 'see how you compare to 4 applicants. try premium for free',\n",
       " 'see how you compare to 9 applicants. try premium for free',\n",
       " 'see recent hiring trends for devonshire hayes recruitment specialists ltd. try premium for free',\n",
       " 'semiconductor manufacturing',\n",
       " 'software development',\n",
       " 'spectator sports',\n",
       " 'sporting goods manufacturing',\n",
       " 'staffing and recruiting',\n",
       " 'svein grande is hiring for this job',\n",
       " 'technology, information and internet',\n",
       " 'telecommunications',\n",
       " 'translation and localization',\n",
       " 'transportation, logistics, supply chain and storage',\n",
       " 'travel arrangements',\n",
       " 'truck transportation',\n",
       " 'utilities',\n",
       " 'wellness and fitness services',\n",
       " 'wholesale',\n",
       " 'wholesale building materials',\n",
       " 'wind electric power generation']"
      ]
     },
     "execution_count": 62,
     "metadata": {},
     "output_type": "execute_result"
    }
   ],
   "source": [
    "print(df['company_field'].nunique())\n",
    "fields = sorted(df['company_field'].unique())\n",
    "fields"
   ]
  },
  {
   "cell_type": "markdown",
   "id": "890ebe13",
   "metadata": {},
   "source": [
    "И снова есть фразы, которые попали сюда ошибочно (о колистве сотрудников или количестве соискателей). Проверим их."
   ]
  },
  {
   "cell_type": "code",
   "execution_count": 63,
   "id": "bebc6121",
   "metadata": {},
   "outputs": [
    {
     "data": {
      "text/html": [
       "<div>\n",
       "<style scoped>\n",
       "    .dataframe tbody tr th:only-of-type {\n",
       "        vertical-align: middle;\n",
       "    }\n",
       "\n",
       "    .dataframe tbody tr th {\n",
       "        vertical-align: top;\n",
       "    }\n",
       "\n",
       "    .dataframe thead th {\n",
       "        text-align: right;\n",
       "    }\n",
       "</style>\n",
       "<table border=\"1\" class=\"dataframe\">\n",
       "  <thead>\n",
       "    <tr style=\"text-align: right;\">\n",
       "      <th></th>\n",
       "      <th>company_field</th>\n",
       "      <th>applicants</th>\n",
       "    </tr>\n",
       "  </thead>\n",
       "  <tbody>\n",
       "    <tr>\n",
       "      <th>285</th>\n",
       "      <td>see how you compare to 9 applicants. try premi...</td>\n",
       "      <td>9.0</td>\n",
       "    </tr>\n",
       "    <tr>\n",
       "      <th>335</th>\n",
       "      <td>see how you compare to 19 applicants. try prem...</td>\n",
       "      <td>19.0</td>\n",
       "    </tr>\n",
       "    <tr>\n",
       "      <th>360</th>\n",
       "      <td>see how you compare to 22 applicants. try prem...</td>\n",
       "      <td>22.0</td>\n",
       "    </tr>\n",
       "    <tr>\n",
       "      <th>583</th>\n",
       "      <td>see how you compare to 13 applicants. try prem...</td>\n",
       "      <td>13.0</td>\n",
       "    </tr>\n",
       "    <tr>\n",
       "      <th>673</th>\n",
       "      <td>see how you compare to 10 applicants. try prem...</td>\n",
       "      <td>10.0</td>\n",
       "    </tr>\n",
       "    <tr>\n",
       "      <th>876</th>\n",
       "      <td>see how you compare to 4 applicants. try premi...</td>\n",
       "      <td>4.0</td>\n",
       "    </tr>\n",
       "  </tbody>\n",
       "</table>\n",
       "</div>"
      ],
      "text/plain": [
       "                                         company_field  applicants\n",
       "285  see how you compare to 9 applicants. try premi...         9.0\n",
       "335  see how you compare to 19 applicants. try prem...        19.0\n",
       "360  see how you compare to 22 applicants. try prem...        22.0\n",
       "583  see how you compare to 13 applicants. try prem...        13.0\n",
       "673  see how you compare to 10 applicants. try prem...        10.0\n",
       "876  see how you compare to 4 applicants. try premi...         4.0"
      ]
     },
     "execution_count": 63,
     "metadata": {},
     "output_type": "execute_result"
    }
   ],
   "source": [
    "#  по соискателям\n",
    "applicants = []\n",
    "for elem in df['company_field'].unique():\n",
    "    if 'applicants' in elem:\n",
    "        applicants.append(elem)\n",
    "df[df['company_field'].isin(applicants)][['company_field', 'applicants']]"
   ]
  },
  {
   "cell_type": "markdown",
   "id": "fb090638",
   "metadata": {},
   "source": [
    "Информация дублируется."
   ]
  },
  {
   "cell_type": "code",
   "execution_count": 64,
   "id": "4de52d7e",
   "metadata": {
    "scrolled": true
   },
   "outputs": [
    {
     "data": {
      "text/html": [
       "<div>\n",
       "<style scoped>\n",
       "    .dataframe tbody tr th:only-of-type {\n",
       "        vertical-align: middle;\n",
       "    }\n",
       "\n",
       "    .dataframe tbody tr th {\n",
       "        vertical-align: top;\n",
       "    }\n",
       "\n",
       "    .dataframe thead th {\n",
       "        text-align: right;\n",
       "    }\n",
       "</style>\n",
       "<table border=\"1\" class=\"dataframe\">\n",
       "  <thead>\n",
       "    <tr style=\"text-align: right;\">\n",
       "      <th></th>\n",
       "      <th>company_field</th>\n",
       "      <th>employee_qty</th>\n",
       "    </tr>\n",
       "  </thead>\n",
       "  <tbody>\n",
       "    <tr>\n",
       "      <th>34</th>\n",
       "      <td>51-200 employees</td>\n",
       "      <td>51-200 employees</td>\n",
       "    </tr>\n",
       "    <tr>\n",
       "      <th>44</th>\n",
       "      <td>11-50 employees</td>\n",
       "      <td>11-50 employees</td>\n",
       "    </tr>\n",
       "    <tr>\n",
       "      <th>49</th>\n",
       "      <td>11-50 employees</td>\n",
       "      <td>11-50 employees</td>\n",
       "    </tr>\n",
       "    <tr>\n",
       "      <th>58</th>\n",
       "      <td>11-50 employees</td>\n",
       "      <td>11-50 employees</td>\n",
       "    </tr>\n",
       "    <tr>\n",
       "      <th>61</th>\n",
       "      <td>11-50 employees</td>\n",
       "      <td>11-50 employees</td>\n",
       "    </tr>\n",
       "    <tr>\n",
       "      <th>137</th>\n",
       "      <td>51-200 employees</td>\n",
       "      <td>51-200 employees</td>\n",
       "    </tr>\n",
       "    <tr>\n",
       "      <th>258</th>\n",
       "      <td>201-500 employees</td>\n",
       "      <td>201-500 employees</td>\n",
       "    </tr>\n",
       "    <tr>\n",
       "      <th>282</th>\n",
       "      <td>201-500 employees</td>\n",
       "      <td>201-500 employees</td>\n",
       "    </tr>\n",
       "    <tr>\n",
       "      <th>311</th>\n",
       "      <td>51-200 employees</td>\n",
       "      <td>51-200 employees</td>\n",
       "    </tr>\n",
       "    <tr>\n",
       "      <th>321</th>\n",
       "      <td>11-50 employees</td>\n",
       "      <td>11-50 employees</td>\n",
       "    </tr>\n",
       "    <tr>\n",
       "      <th>354</th>\n",
       "      <td>51-200 employees</td>\n",
       "      <td>51-200 employees</td>\n",
       "    </tr>\n",
       "    <tr>\n",
       "      <th>355</th>\n",
       "      <td>501-1,000 employees</td>\n",
       "      <td>501-1,000 employees</td>\n",
       "    </tr>\n",
       "    <tr>\n",
       "      <th>356</th>\n",
       "      <td>1,001-5,000 employees</td>\n",
       "      <td>1,001-5,000 employees</td>\n",
       "    </tr>\n",
       "    <tr>\n",
       "      <th>375</th>\n",
       "      <td>11-50 employees</td>\n",
       "      <td>11-50 employees</td>\n",
       "    </tr>\n",
       "    <tr>\n",
       "      <th>376</th>\n",
       "      <td>201-500 employees</td>\n",
       "      <td>201-500 employees</td>\n",
       "    </tr>\n",
       "    <tr>\n",
       "      <th>377</th>\n",
       "      <td>51-200 employees</td>\n",
       "      <td>51-200 employees</td>\n",
       "    </tr>\n",
       "    <tr>\n",
       "      <th>379</th>\n",
       "      <td>51-200 employees</td>\n",
       "      <td>51-200 employees</td>\n",
       "    </tr>\n",
       "    <tr>\n",
       "      <th>380</th>\n",
       "      <td>201-500 employees</td>\n",
       "      <td>201-500 employees</td>\n",
       "    </tr>\n",
       "    <tr>\n",
       "      <th>381</th>\n",
       "      <td>201-500 employees</td>\n",
       "      <td>201-500 employees</td>\n",
       "    </tr>\n",
       "    <tr>\n",
       "      <th>382</th>\n",
       "      <td>51-200 employees</td>\n",
       "      <td>51-200 employees</td>\n",
       "    </tr>\n",
       "    <tr>\n",
       "      <th>383</th>\n",
       "      <td>201-500 employees</td>\n",
       "      <td>201-500 employees</td>\n",
       "    </tr>\n",
       "    <tr>\n",
       "      <th>385</th>\n",
       "      <td>51-200 employees</td>\n",
       "      <td>51-200 employees</td>\n",
       "    </tr>\n",
       "    <tr>\n",
       "      <th>386</th>\n",
       "      <td>51-200 employees</td>\n",
       "      <td>51-200 employees</td>\n",
       "    </tr>\n",
       "    <tr>\n",
       "      <th>387</th>\n",
       "      <td>1,001-5,000 employees</td>\n",
       "      <td>1,001-5,000 employees</td>\n",
       "    </tr>\n",
       "    <tr>\n",
       "      <th>388</th>\n",
       "      <td>11-50 employees</td>\n",
       "      <td>11-50 employees</td>\n",
       "    </tr>\n",
       "    <tr>\n",
       "      <th>389</th>\n",
       "      <td>501-1,000 employees</td>\n",
       "      <td>501-1,000 employees</td>\n",
       "    </tr>\n",
       "    <tr>\n",
       "      <th>391</th>\n",
       "      <td>201-500 employees</td>\n",
       "      <td>201-500 employees</td>\n",
       "    </tr>\n",
       "    <tr>\n",
       "      <th>392</th>\n",
       "      <td>201-500 employees</td>\n",
       "      <td>201-500 employees</td>\n",
       "    </tr>\n",
       "    <tr>\n",
       "      <th>393</th>\n",
       "      <td>51-200 employees</td>\n",
       "      <td>51-200 employees</td>\n",
       "    </tr>\n",
       "    <tr>\n",
       "      <th>394</th>\n",
       "      <td>1-10 employees</td>\n",
       "      <td>1-10 employees</td>\n",
       "    </tr>\n",
       "    <tr>\n",
       "      <th>399</th>\n",
       "      <td>11-50 employees</td>\n",
       "      <td>11-50 employees</td>\n",
       "    </tr>\n",
       "    <tr>\n",
       "      <th>400</th>\n",
       "      <td>51-200 employees</td>\n",
       "      <td>51-200 employees</td>\n",
       "    </tr>\n",
       "    <tr>\n",
       "      <th>401</th>\n",
       "      <td>51-200 employees</td>\n",
       "      <td>51-200 employees</td>\n",
       "    </tr>\n",
       "    <tr>\n",
       "      <th>410</th>\n",
       "      <td>1,001-5,000 employees</td>\n",
       "      <td>1,001-5,000 employees</td>\n",
       "    </tr>\n",
       "    <tr>\n",
       "      <th>411</th>\n",
       "      <td>1-10 employees</td>\n",
       "      <td>1-10 employees</td>\n",
       "    </tr>\n",
       "    <tr>\n",
       "      <th>417</th>\n",
       "      <td>1-10 employees</td>\n",
       "      <td>1-10 employees</td>\n",
       "    </tr>\n",
       "    <tr>\n",
       "      <th>421</th>\n",
       "      <td>11-50 employees</td>\n",
       "      <td>11-50 employees</td>\n",
       "    </tr>\n",
       "    <tr>\n",
       "      <th>434</th>\n",
       "      <td>1-10 employees</td>\n",
       "      <td>1-10 employees</td>\n",
       "    </tr>\n",
       "    <tr>\n",
       "      <th>435</th>\n",
       "      <td>51-200 employees</td>\n",
       "      <td>51-200 employees</td>\n",
       "    </tr>\n",
       "    <tr>\n",
       "      <th>485</th>\n",
       "      <td>11-50 employees</td>\n",
       "      <td>11-50 employees</td>\n",
       "    </tr>\n",
       "    <tr>\n",
       "      <th>525</th>\n",
       "      <td>51-200 employees</td>\n",
       "      <td>51-200 employees</td>\n",
       "    </tr>\n",
       "    <tr>\n",
       "      <th>531</th>\n",
       "      <td>11-50 employees</td>\n",
       "      <td>11-50 employees</td>\n",
       "    </tr>\n",
       "    <tr>\n",
       "      <th>549</th>\n",
       "      <td>51-200 employees</td>\n",
       "      <td>51-200 employees</td>\n",
       "    </tr>\n",
       "    <tr>\n",
       "      <th>560</th>\n",
       "      <td>1-10 employees</td>\n",
       "      <td>1-10 employees</td>\n",
       "    </tr>\n",
       "    <tr>\n",
       "      <th>566</th>\n",
       "      <td>1-10 employees</td>\n",
       "      <td>1-10 employees</td>\n",
       "    </tr>\n",
       "    <tr>\n",
       "      <th>599</th>\n",
       "      <td>51-200 employees</td>\n",
       "      <td>51-200 employees</td>\n",
       "    </tr>\n",
       "    <tr>\n",
       "      <th>628</th>\n",
       "      <td>1,001-5,000 employees</td>\n",
       "      <td>1,001-5,000 employees</td>\n",
       "    </tr>\n",
       "    <tr>\n",
       "      <th>692</th>\n",
       "      <td>11-50 employees</td>\n",
       "      <td>11-50 employees</td>\n",
       "    </tr>\n",
       "    <tr>\n",
       "      <th>693</th>\n",
       "      <td>201-500 employees</td>\n",
       "      <td>201-500 employees</td>\n",
       "    </tr>\n",
       "    <tr>\n",
       "      <th>717</th>\n",
       "      <td>51-200 employees</td>\n",
       "      <td>51-200 employees</td>\n",
       "    </tr>\n",
       "    <tr>\n",
       "      <th>725</th>\n",
       "      <td>51-200 employees</td>\n",
       "      <td>51-200 employees</td>\n",
       "    </tr>\n",
       "    <tr>\n",
       "      <th>762</th>\n",
       "      <td>11-50 employees</td>\n",
       "      <td>11-50 employees</td>\n",
       "    </tr>\n",
       "    <tr>\n",
       "      <th>791</th>\n",
       "      <td>11-50 employees</td>\n",
       "      <td>11-50 employees</td>\n",
       "    </tr>\n",
       "    <tr>\n",
       "      <th>863</th>\n",
       "      <td>11-50 employees</td>\n",
       "      <td>11-50 employees</td>\n",
       "    </tr>\n",
       "    <tr>\n",
       "      <th>865</th>\n",
       "      <td>51-200 employees</td>\n",
       "      <td>51-200 employees</td>\n",
       "    </tr>\n",
       "    <tr>\n",
       "      <th>869</th>\n",
       "      <td>11-50 employees</td>\n",
       "      <td>11-50 employees</td>\n",
       "    </tr>\n",
       "    <tr>\n",
       "      <th>885</th>\n",
       "      <td>51-200 employees</td>\n",
       "      <td>51-200 employees</td>\n",
       "    </tr>\n",
       "  </tbody>\n",
       "</table>\n",
       "</div>"
      ],
      "text/plain": [
       "             company_field           employee_qty\n",
       "34        51-200 employees       51-200 employees\n",
       "44         11-50 employees        11-50 employees\n",
       "49         11-50 employees        11-50 employees\n",
       "58         11-50 employees        11-50 employees\n",
       "61         11-50 employees        11-50 employees\n",
       "137       51-200 employees       51-200 employees\n",
       "258      201-500 employees      201-500 employees\n",
       "282      201-500 employees      201-500 employees\n",
       "311       51-200 employees       51-200 employees\n",
       "321        11-50 employees        11-50 employees\n",
       "354       51-200 employees       51-200 employees\n",
       "355    501-1,000 employees    501-1,000 employees\n",
       "356  1,001-5,000 employees  1,001-5,000 employees\n",
       "375        11-50 employees        11-50 employees\n",
       "376      201-500 employees      201-500 employees\n",
       "377       51-200 employees       51-200 employees\n",
       "379       51-200 employees       51-200 employees\n",
       "380      201-500 employees      201-500 employees\n",
       "381      201-500 employees      201-500 employees\n",
       "382       51-200 employees       51-200 employees\n",
       "383      201-500 employees      201-500 employees\n",
       "385       51-200 employees       51-200 employees\n",
       "386       51-200 employees       51-200 employees\n",
       "387  1,001-5,000 employees  1,001-5,000 employees\n",
       "388        11-50 employees        11-50 employees\n",
       "389    501-1,000 employees    501-1,000 employees\n",
       "391      201-500 employees      201-500 employees\n",
       "392      201-500 employees      201-500 employees\n",
       "393       51-200 employees       51-200 employees\n",
       "394         1-10 employees         1-10 employees\n",
       "399        11-50 employees        11-50 employees\n",
       "400       51-200 employees       51-200 employees\n",
       "401       51-200 employees       51-200 employees\n",
       "410  1,001-5,000 employees  1,001-5,000 employees\n",
       "411         1-10 employees         1-10 employees\n",
       "417         1-10 employees         1-10 employees\n",
       "421        11-50 employees        11-50 employees\n",
       "434         1-10 employees         1-10 employees\n",
       "435       51-200 employees       51-200 employees\n",
       "485        11-50 employees        11-50 employees\n",
       "525       51-200 employees       51-200 employees\n",
       "531        11-50 employees        11-50 employees\n",
       "549       51-200 employees       51-200 employees\n",
       "560         1-10 employees         1-10 employees\n",
       "566         1-10 employees         1-10 employees\n",
       "599       51-200 employees       51-200 employees\n",
       "628  1,001-5,000 employees  1,001-5,000 employees\n",
       "692        11-50 employees        11-50 employees\n",
       "693      201-500 employees      201-500 employees\n",
       "717       51-200 employees       51-200 employees\n",
       "725       51-200 employees       51-200 employees\n",
       "762        11-50 employees        11-50 employees\n",
       "791        11-50 employees        11-50 employees\n",
       "863        11-50 employees        11-50 employees\n",
       "865       51-200 employees       51-200 employees\n",
       "869        11-50 employees        11-50 employees\n",
       "885       51-200 employees       51-200 employees"
      ]
     },
     "execution_count": 64,
     "metadata": {},
     "output_type": "execute_result"
    }
   ],
   "source": [
    "# по количесвту сотрудников\n",
    "employees = []\n",
    "for elem in df['company_field'].unique():\n",
    "    if 'employees' in elem:\n",
    "        employees.append(elem)\n",
    "df[df['company_field'].isin(employees)][['company_field', 'employee_qty']]"
   ]
  },
  {
   "cell_type": "markdown",
   "id": "889ca1e9",
   "metadata": {},
   "source": [
    "И здесь дублируется. \n",
    "\n",
    "В графе \"company_field\" эти значения (а также строкис информацией о том, кто нанимает) можно заменить на 'not specified'"
   ]
  },
  {
   "cell_type": "code",
   "execution_count": 65,
   "id": "1aeaf8ee",
   "metadata": {},
   "outputs": [],
   "source": [
    "errors = []\n",
    "for elem in df['company_field'].unique():\n",
    "    if 'hiring for this job' in elem:\n",
    "        errors.append(elem)\n",
    "errors += applicants\n",
    "errors += employees\n",
    "\n",
    "\n",
    "df['company_field'] = df['company_field'].apply(lambda x: 'not specified' if x in errors else x)"
   ]
  },
  {
   "cell_type": "code",
   "execution_count": 66,
   "id": "f0e5093f",
   "metadata": {},
   "outputs": [
    {
     "name": "stdout",
     "output_type": "stream",
     "text": [
      "108\n"
     ]
    }
   ],
   "source": [
    "print(df['company_field'].nunique())"
   ]
  },
  {
   "cell_type": "markdown",
   "id": "4ed2ec95",
   "metadata": {},
   "source": [
    "Осталось 108 уникальных значений. Лишние убраны.  Дальше можно сделать также, как и в предыдущем пункте - проверить пропуски по компаниям."
   ]
  },
  {
   "cell_type": "code",
   "execution_count": 67,
   "id": "3a981ef1",
   "metadata": {},
   "outputs": [
    {
     "data": {
      "text/plain": [
       "82"
      ]
     },
     "execution_count": 67,
     "metadata": {},
     "output_type": "execute_result"
    }
   ],
   "source": [
    "df[df['company_field'] == 'not specified']['title'].count()"
   ]
  },
  {
   "cell_type": "markdown",
   "id": "8c68a431",
   "metadata": {},
   "source": [
    "82 строки с пропусками."
   ]
  },
  {
   "cell_type": "code",
   "execution_count": 68,
   "id": "66e27f0b",
   "metadata": {},
   "outputs": [
    {
     "data": {
      "text/plain": [
       "78"
      ]
     },
     "execution_count": 68,
     "metadata": {},
     "output_type": "execute_result"
    }
   ],
   "source": [
    "compaies = df[df['company_field'] == 'not specified']['company_name'].unique()\n",
    "len(compaies)"
   ]
  },
  {
   "cell_type": "markdown",
   "id": "cacbe2ff",
   "metadata": {},
   "source": [
    "Охватывают 78 компаний"
   ]
  },
  {
   "cell_type": "code",
   "execution_count": 69,
   "id": "5abe8c2a",
   "metadata": {},
   "outputs": [
    {
     "data": {
      "text/html": [
       "<div>\n",
       "<style scoped>\n",
       "    .dataframe tbody tr th:only-of-type {\n",
       "        vertical-align: middle;\n",
       "    }\n",
       "\n",
       "    .dataframe tbody tr th {\n",
       "        vertical-align: top;\n",
       "    }\n",
       "\n",
       "    .dataframe thead th {\n",
       "        text-align: right;\n",
       "    }\n",
       "</style>\n",
       "<table border=\"1\" class=\"dataframe\">\n",
       "  <thead>\n",
       "    <tr style=\"text-align: right;\">\n",
       "      <th></th>\n",
       "      <th>company_name</th>\n",
       "      <th>company_field</th>\n",
       "    </tr>\n",
       "  </thead>\n",
       "  <tbody>\n",
       "    <tr>\n",
       "      <th>0</th>\n",
       "      <td>Mexa Solutions</td>\n",
       "      <td>1</td>\n",
       "    </tr>\n",
       "    <tr>\n",
       "      <th>1</th>\n",
       "      <td>Peroptyx</td>\n",
       "      <td>1</td>\n",
       "    </tr>\n",
       "    <tr>\n",
       "      <th>2</th>\n",
       "      <td>PharmiWeb.Jobs: Global Life Science Jobs</td>\n",
       "      <td>1</td>\n",
       "    </tr>\n",
       "    <tr>\n",
       "      <th>3</th>\n",
       "      <td>networx | Recruitment Software &amp; Services by IRIS</td>\n",
       "      <td>1</td>\n",
       "    </tr>\n",
       "  </tbody>\n",
       "</table>\n",
       "</div>"
      ],
      "text/plain": [
       "                                        company_name  company_field\n",
       "0                                     Mexa Solutions              1\n",
       "1                                           Peroptyx              1\n",
       "2           PharmiWeb.Jobs: Global Life Science Jobs              1\n",
       "3  networx | Recruitment Software & Services by IRIS              1"
      ]
     },
     "execution_count": 69,
     "metadata": {},
     "output_type": "execute_result"
    }
   ],
   "source": [
    "(\n",
    "    df.loc[(df['company_name'].isin(compaies)) & (df['company_field'] != 'not specified')]\n",
    "    .groupby(['company_name'], as_index=False)\n",
    "    .agg({'company_field': 'nunique'}).sort_values('company_field', ascending=False)\n",
    ")"
   ]
  },
  {
   "cell_type": "markdown",
   "id": "8d0c284e",
   "metadata": {},
   "source": [
    "есть 4 компании из тех, у кого в некоторых строках отстутствует информация о сфере деятельности, но есть в других, и при этом сфера деятельности для каждой компании одна."
   ]
  },
  {
   "cell_type": "code",
   "execution_count": 70,
   "id": "b859d245",
   "metadata": {},
   "outputs": [
    {
     "data": {
      "text/html": [
       "<div>\n",
       "<style scoped>\n",
       "    .dataframe tbody tr th:only-of-type {\n",
       "        vertical-align: middle;\n",
       "    }\n",
       "\n",
       "    .dataframe tbody tr th {\n",
       "        vertical-align: top;\n",
       "    }\n",
       "\n",
       "    .dataframe thead th {\n",
       "        text-align: right;\n",
       "    }\n",
       "</style>\n",
       "<table border=\"1\" class=\"dataframe\">\n",
       "  <thead>\n",
       "    <tr style=\"text-align: right;\">\n",
       "      <th></th>\n",
       "      <th>company_name</th>\n",
       "      <th>company_field</th>\n",
       "      <th>title</th>\n",
       "    </tr>\n",
       "  </thead>\n",
       "  <tbody>\n",
       "    <tr>\n",
       "      <th>0</th>\n",
       "      <td>Mexa Solutions</td>\n",
       "      <td>staffing and recruiting</td>\n",
       "      <td>1</td>\n",
       "    </tr>\n",
       "    <tr>\n",
       "      <th>1</th>\n",
       "      <td>Peroptyx</td>\n",
       "      <td>it services and it consulting</td>\n",
       "      <td>1</td>\n",
       "    </tr>\n",
       "    <tr>\n",
       "      <th>2</th>\n",
       "      <td>PharmiWeb.Jobs: Global Life Science Jobs</td>\n",
       "      <td>staffing and recruiting</td>\n",
       "      <td>2</td>\n",
       "    </tr>\n",
       "    <tr>\n",
       "      <th>3</th>\n",
       "      <td>networx | Recruitment Software &amp; Services by IRIS</td>\n",
       "      <td>staffing and recruiting</td>\n",
       "      <td>1</td>\n",
       "    </tr>\n",
       "  </tbody>\n",
       "</table>\n",
       "</div>"
      ],
      "text/plain": [
       "                                        company_name  \\\n",
       "0                                     Mexa Solutions   \n",
       "1                                           Peroptyx   \n",
       "2           PharmiWeb.Jobs: Global Life Science Jobs   \n",
       "3  networx | Recruitment Software & Services by IRIS   \n",
       "\n",
       "                   company_field  title  \n",
       "0        staffing and recruiting      1  \n",
       "1  it services and it consulting      1  \n",
       "2        staffing and recruiting      2  \n",
       "3        staffing and recruiting      1  "
      ]
     },
     "execution_count": 70,
     "metadata": {},
     "output_type": "execute_result"
    }
   ],
   "source": [
    "companies_not_field= (\n",
    "    df.loc[(df['company_name'].isin(compaies)) & (df['company_field'] != 'not specified')]\n",
    "    .groupby(['company_name', 'company_field'], as_index=False)\n",
    "    .agg({'title': 'count'})\n",
    ")\n",
    "companies_not_field"
   ]
  },
  {
   "cell_type": "code",
   "execution_count": 71,
   "id": "2b378c5d",
   "metadata": {},
   "outputs": [],
   "source": [
    "# сделаем словарь  \"компания - область деятельности\"\n",
    "fields_comp = {}\n",
    "for company, fields in zip(companies_not_field['company_name'], companies_not_field['company_field']):\n",
    "    fields_comp[company] = fields\n"
   ]
  },
  {
   "cell_type": "code",
   "execution_count": 72,
   "id": "3a43748d",
   "metadata": {},
   "outputs": [],
   "source": [
    "# в графе \"company_field\" заменим \"not specified\" на сферу деятельности, где это возможно.\n",
    "df['company_field'] = (\n",
    "    df.apply(lambda x:\n",
    "             fields_comp[x['company_name']] \n",
    "             if (x['company_field'] == 'not specified' and x['company_name'] in fields_comp.keys())\n",
    "             else x['company_field'],\n",
    "             axis = 1)\n",
    ")"
   ]
  },
  {
   "cell_type": "code",
   "execution_count": 73,
   "id": "0261f389",
   "metadata": {},
   "outputs": [
    {
     "data": {
      "text/plain": [
       "77"
      ]
     },
     "execution_count": 73,
     "metadata": {},
     "output_type": "execute_result"
    }
   ],
   "source": [
    "# проверяем, сколько осталось пропусков (было 82)\n",
    "df[df['company_field'] == 'not specified']['title'].count()"
   ]
  },
  {
   "cell_type": "markdown",
   "id": "00a64c3d",
   "metadata": {},
   "source": [
    "Итак, удалось убрать 5 пропусков. Можно было бы попробовать выудить из описания к вакансии, но там отдельные слова могут быть вырваны из контекста в процессе поиска, в результате чего сфера деятельности будет определена некорректно. Поэтому больше ничего делать здесь не будем."
   ]
  },
  {
   "cell_type": "markdown",
   "id": "ca6f8609",
   "metadata": {},
   "source": [
    "Проверим ещё раз на полные дубликаты"
   ]
  },
  {
   "cell_type": "code",
   "execution_count": 74,
   "id": "c1805a93",
   "metadata": {
    "scrolled": true
   },
   "outputs": [
    {
     "data": {
      "text/plain": [
       "0"
      ]
     },
     "execution_count": 74,
     "metadata": {},
     "output_type": "execute_result"
    }
   ],
   "source": [
    "df.duplicated().sum()"
   ]
  },
  {
   "cell_type": "markdown",
   "id": "f59e1fd8",
   "metadata": {},
   "source": [
    "Полных дубликатов нет."
   ]
  },
  {
   "cell_type": "markdown",
   "id": "9b1f4e7e",
   "metadata": {},
   "source": [
    "### Столбцы `skills` и `job_description`\n",
    "По сути, эти столбцы нужны нам, чтобы по каждой вакансии собрать хард-скиллы.  "
   ]
  },
  {
   "cell_type": "code",
   "execution_count": 75,
   "id": "7b646f48",
   "metadata": {},
   "outputs": [],
   "source": [
    "# предоставленный список скиллов\n",
    "skills = [\n",
    "    'a/b testing', 'ab testing', 'actian', 'adobe analytics', 'adobe audience manager',\n",
    "    'adobe experience platform', 'adobe launch', 'adobe target', 'ai', 'airflow',\n",
    "    'alooma', 'alteryx', 'amazon machine learning', 'amazon web services', 'aml',\n",
    "    'amplitude', 'ansible', 'apache camel', 'apache nifi', 'apache spark',\n",
    "    'api', 'asana', 'auth0', 'aws', 'aws glue', 'azure', 'azure data factory',\n",
    "    'basecamp', 'bash', 'beats', 'big query', 'bigquery', 'birst', 'bitbucket',\n",
    "    'blendo', 'bootstrap', 'business objects bi', 'c#', 'c++', 'caffe', 'cassandra',\n",
    "    'cdata sync', 'chronograf', 'ci/cd', 'cicd', 'clickhouse', 'cloudera', 'cluvio',\n",
    "    'cntk', 'cognos', 'composer', 'computer vision', 'conda', 'confluence',\n",
    "    'couchbase', 'css', 'd3.js', 'dash', 'dashboard', 'data factory', 'data fusion',\n",
    "    'data mining', 'data studio', 'data warehouse', 'databricks', 'dataddo',\n",
    "    'dataflow', 'datahub', 'dataiku', 'datastage', 'dbconvert', 'dbeaver', 'dbt',\n",
    "    'deep learning', 'dl/ml', 'docker', 'domo', 'dune', 'dv360', 'dynamodb',\n",
    "    'elasticsearch', 'elt', 'erwin', 'etl', 'etleap', 'excel', 'facebook business manager',\n",
    "    'fivetran', 'fuzzy', 'ga360', 'gcp', 'gensim', 'ggplot', 'git', 'github', 'gitlab',\n",
    "    'google ads', 'google analytics', 'google cloud platform', 'google data flow',\n",
    "    'google optimize', 'google sheets', 'google tag manager', 'google workspace',\n",
    "    'grafana', 'hadoop', 'hana', 'hanagrafana', 'hbase', 'hdfs', 'hevo data', 'hightouch',\n",
    "    'hive', 'hivedatabricks', 'html', 'hubspot', 'ibm coremetrics', 'inetsoft',\n",
    "    'influxdb', 'informatica', 'integrate.io', 'iri voracity', 'izenda', 'java',\n",
    "    'java script', 'javascript', 'jenkins', 'jira', 'jmp', 'julia', 'jupyter',\n",
    "    'k2view', 'kafka', 'kantar', 'kapacitor', 'keras', 'kibana', 'kubernetes',\n",
    "    'lambda', 'linux', 'logstash', 'looker', 'lstm', 'luidgi', 'matillion', 'matlab',\n",
    "    'matplotlib', 'mendix', 'metabase', 'microsoft sql', 'microsoft sql server',\n",
    "    'microstrategy', 'miro', 'mixpanel', 'ml', 'ml flow', 'mlflow', 'mongodb', 'mxnet',\n",
    "    'mysql', 'natural nanguage processing', 'neo4j', 'nlp', 'nltk', 'nosql', 'numpy',\n",
    "    'oauth', 'octave', 'omniture', 'omnituregitlab', 'openshift', 'openstack',\n",
    "    'optimizely', 'oracle', 'oracle business intelligence', 'oracle data integrator',\n",
    "    'pandas', 'panorama', 'pentaho', 'plotly', 'postgre', 'postgresql', 'posthog',\n",
    "    'power amc', 'power bi', 'power point', 'powerbi', 'powerpivot', 'powerpoint',\n",
    "    'powerquery', 'pyspark', 'python', 'pytorch', 'pytorchhevo data', 'qlik',\n",
    "    'qlik sense', 'qlikview', 'querysurge', 'r', 'raphtory', 'rapidminer', 'redash',\n",
    "    'redis', 'redshift', 'retool', 'rivery', 'rust', 's3', 'sa360', 'salesforce', 'sap',\n",
    "    'sap business objects', 'sas', 'sas visual analytics', 'scala', 'scikit-learn',\n",
    "    'scipy', 'seaborn', 'segment', 'selenium', 'sem rush', 'semrush', 'shell', 'shiny',\n",
    "    'singer', 'sisense', 'skyvia', 'snowflake', 'spacy', 'spark', 'sparkml', 'splunk',\n",
    "    'spotfire', 'spreadsheet', 'spss', 'sql', 'ssis', 'sssr', 'stambia', 'statistics',\n",
    "    'statsbot', 'stitch', 'streamlit', 'streamsets', 'svn', 't-sql', 'tableau', 'talend',\n",
    "    'targit', 'tealium', 'telegraf', 'tensorflow', 'terraapi', 'terraform', 'theano',\n",
    "    'thoughtspot', 'timeseries', 'trello', 'unix', 'vba', 'vtom', 'webfocus', 'wfh',\n",
    "    'xplenty', 'xtract.io', 'yellowfin'\n",
    "]"
   ]
  },
  {
   "cell_type": "code",
   "execution_count": 76,
   "id": "9850d2fb",
   "metadata": {},
   "outputs": [],
   "source": [
    "# функция для сбора скиллов (выложенный в чате мастерской).\n",
    "def skills_finder(row, skill_list=skills):\n",
    "    matched_skills_list=[]\n",
    "    for i in skill_list:\n",
    "        if i == 'c++':\n",
    "            if re.search('\\Wc\\+\\+\\W', row['job_description'].lower()):\n",
    "                matched_skills_list.append(i)\n",
    "            elif re.search('\\Wc\\+\\+\\W', row['skills'].lower()):\n",
    "                matched_skills_list.append(i)                \n",
    "        else:\n",
    "            pattern = (\n",
    "                r'(\\b|\\W)'\n",
    "                + re.escape(i)\n",
    "                + r'(\\b|\\W)'\n",
    "                +'|'\n",
    "                + r'(\\b|\\W)'\n",
    "                +re.escape(i.replace(' ', ''))\n",
    "                + r'(\\b|\\W)'\n",
    "            )\n",
    "            if re.search(pattern, row['job_description'].lower()):\n",
    "                matched_skills_list.append(i)\n",
    "            elif re.search(pattern, row['skills'].lower()):\n",
    "                matched_skills_list.append(i)        \n",
    "    return matched_skills_list"
   ]
  },
  {
   "cell_type": "code",
   "execution_count": 77,
   "id": "082c9954",
   "metadata": {},
   "outputs": [],
   "source": [
    "df['hard_skills'] = df.apply(skills_finder, axis=1)"
   ]
  },
  {
   "cell_type": "code",
   "execution_count": 78,
   "id": "3997a3be",
   "metadata": {},
   "outputs": [
    {
     "data": {
      "text/plain": [
       "0    [data mining, excel, sap, sas, spss, sql, stat...\n",
       "1                                                   []\n",
       "2                                                [wfh]\n",
       "3                                              [excel]\n",
       "4    [aws, data warehouse, etl, gcp, oracle, oracle...\n",
       "Name: hard_skills, dtype: object"
      ]
     },
     "execution_count": 78,
     "metadata": {},
     "output_type": "execute_result"
    }
   ],
   "source": [
    "df['hard_skills'].head()"
   ]
  },
  {
   "cell_type": "markdown",
   "id": "9502d56a",
   "metadata": {},
   "source": [
    "Первая часть обработки скиллов сделана. Пока этого достаточно. Остальное сделаем отдельно во-второй части работы подготовки к визуализации."
   ]
  },
  {
   "cell_type": "markdown",
   "id": "9f65cdb8",
   "metadata": {},
   "source": [
    "###  Столбец `applicants` - количество кандидатов на вакансию.\n",
    "Здесь были пропуски. Посмотрим, можно ли что-то с ними сделать."
   ]
  },
  {
   "cell_type": "code",
   "execution_count": 79,
   "id": "b640a943",
   "metadata": {},
   "outputs": [
    {
     "data": {
      "text/plain": [
       "159"
      ]
     },
     "execution_count": 79,
     "metadata": {},
     "output_type": "execute_result"
    }
   ],
   "source": [
    "df['applicants'].isna().sum()"
   ]
  },
  {
   "cell_type": "markdown",
   "id": "73d35ca7",
   "metadata": {},
   "source": [
    "159 пропусков - довольно много.  Ранее при проверке других столбцов эта информация могла попасть туда, но в тех случаях в данном столбце пропусков не было. У нас на этот счёт остались не проверены столбцы `skills` и `job_description` - посмотрим их."
   ]
  },
  {
   "cell_type": "code",
   "execution_count": 80,
   "id": "74d25a29",
   "metadata": {},
   "outputs": [
    {
     "data": {
      "text/plain": [
       "0"
      ]
     },
     "execution_count": 80,
     "metadata": {},
     "output_type": "execute_result"
    }
   ],
   "source": [
    "counter = 0\n",
    "\n",
    "for elem in df['skills'].unique():\n",
    "    if 'applicant' in elem:\n",
    "        counter += 1\n",
    "counter"
   ]
  },
  {
   "cell_type": "markdown",
   "id": "5f775634",
   "metadata": {},
   "source": [
    "в столбце `skills` таких данных нет."
   ]
  },
  {
   "cell_type": "code",
   "execution_count": 81,
   "id": "31ce4851",
   "metadata": {},
   "outputs": [
    {
     "data": {
      "text/plain": [
       "0"
      ]
     },
     "execution_count": 81,
     "metadata": {},
     "output_type": "execute_result"
    }
   ],
   "source": [
    "counter = 0\n",
    "for elem in df['job_description'].unique():\n",
    "    pattern= (\n",
    "        r'(\\d+\\s)'\n",
    "        + 'applicant'\n",
    "    )\n",
    "    if re.search(pattern, elem.lower()):\n",
    "        counter += 1\n",
    "counter"
   ]
  },
  {
   "cell_type": "markdown",
   "id": "d62545d0",
   "metadata": {},
   "source": [
    "И в столбце с описанием вакансии количества кандидатов нет.   \n",
    "Больше эту информацию взять неоткуда, заполнять какими-то средними можно было бы, но скорее некорректно, т.к. это может зависеть от многих факторов. Поэтому этот столбец оставляем без изменений.\n"
   ]
  },
  {
   "cell_type": "markdown",
   "id": "b72c872e",
   "metadata": {},
   "source": [
    "## Дополнительная подготовка к визуализации"
   ]
  },
  {
   "cell_type": "markdown",
   "id": "525322af",
   "metadata": {},
   "source": [
    "**Релевантные вакансии**\n",
    "Нас интересуют только дата-аналитики и Bi-аналитики. КРоме того, нам нужны джуны, т.е. нужно отсеять senior и middle\n",
    "Наименования вакансий написаны на разных языках, поэтому для проверки нам понадобится дополнительный датасет с переводом интересующих нас должностей на различные языки."
   ]
  },
  {
   "cell_type": "code",
   "execution_count": 82,
   "id": "fe3b2b31",
   "metadata": {},
   "outputs": [],
   "source": [
    "# датасет с переводами был отдельно подготовлен в гугл-таблицах (там есть встроеная функция для перевода)\n",
    "# коды языков взяты из интернета\n",
    "try:\n",
    "    data_analyst = pd.read_excel('https://drive.google.com/uc?export=download&id=1F9hM6azZrXjyNl23RrF_P9tKkt-2ILjq', sheet_name='data_analyst')\n",
    "    analyst = pd.read_excel('https://drive.google.com/uc?export=download&id=1F9hM6azZrXjyNl23RrF_P9tKkt-2ILjq', sheet_name='analyst')\n",
    "    BI = pd.read_excel('https://drive.google.com/uc?export=download&id=1F9hM6azZrXjyNl23RrF_P9tKkt-2ILjq', sheet_name='BI')\n",
    "    data = pd.read_excel('https://drive.google.com/uc?export=download&id=1F9hM6azZrXjyNl23RrF_P9tKkt-2ILjq', sheet_name='data')\n",
    "    middle_senior = pd.read_excel('https://drive.google.com/uc?export=download&id=1F9hM6azZrXjyNl23RrF_P9tKkt-2ILjq', sheet_name='middle_senior')\n",
    "\n",
    "except:\n",
    "# ссылка на гугл диск - https://docs.google.com/spreadsheets/d/1F9hM6azZrXjyNl23RrF_P9tKkt-2ILjq/edit?usp=drive_link&ouid=100434527249103277012&rtpof=true&sd=true\n",
    "    data_analyst = pd.read_excel('translate.xlsx', sheet_name='data_analyst')\n",
    "    analyst = pd.read_excel('translate.xlsx', sheet_name='analyst')\n",
    "    data = pd.read_excel('translate.xlsx', sheet_name='data')\n",
    "    middle_senior = pd.read_excel('translate.xlsx', sheet_name='middle_senior')\n"
   ]
  },
  {
   "cell_type": "code",
   "execution_count": 83,
   "id": "dc530271",
   "metadata": {},
   "outputs": [
    {
     "data": {
      "text/html": [
       "<div>\n",
       "<style scoped>\n",
       "    .dataframe tbody tr th:only-of-type {\n",
       "        vertical-align: middle;\n",
       "    }\n",
       "\n",
       "    .dataframe tbody tr th {\n",
       "        vertical-align: top;\n",
       "    }\n",
       "\n",
       "    .dataframe thead th {\n",
       "        text-align: right;\n",
       "    }\n",
       "</style>\n",
       "<table border=\"1\" class=\"dataframe\">\n",
       "  <thead>\n",
       "    <tr style=\"text-align: right;\">\n",
       "      <th></th>\n",
       "      <th>basic word</th>\n",
       "      <th>start_language</th>\n",
       "      <th>target_language</th>\n",
       "      <th>result</th>\n",
       "    </tr>\n",
       "  </thead>\n",
       "  <tbody>\n",
       "    <tr>\n",
       "      <th>0</th>\n",
       "      <td>data analyst</td>\n",
       "      <td>en</td>\n",
       "      <td>en</td>\n",
       "      <td>data analyst</td>\n",
       "    </tr>\n",
       "    <tr>\n",
       "      <th>1</th>\n",
       "      <td>data analyst</td>\n",
       "      <td>en</td>\n",
       "      <td>af</td>\n",
       "      <td>data -ontleder</td>\n",
       "    </tr>\n",
       "    <tr>\n",
       "      <th>2</th>\n",
       "      <td>data analyst</td>\n",
       "      <td>en</td>\n",
       "      <td>am</td>\n",
       "      <td>የውሂብ ተንታኝ</td>\n",
       "    </tr>\n",
       "    <tr>\n",
       "      <th>3</th>\n",
       "      <td>data analyst</td>\n",
       "      <td>en</td>\n",
       "      <td>ar</td>\n",
       "      <td>محلل البيانات</td>\n",
       "    </tr>\n",
       "    <tr>\n",
       "      <th>4</th>\n",
       "      <td>data analyst</td>\n",
       "      <td>en</td>\n",
       "      <td>az</td>\n",
       "      <td>Məlumat analitiki</td>\n",
       "    </tr>\n",
       "  </tbody>\n",
       "</table>\n",
       "</div>"
      ],
      "text/plain": [
       "     basic word start_language target_language             result\n",
       "0  data analyst             en              en       data analyst\n",
       "1  data analyst             en              af     data -ontleder\n",
       "2  data analyst             en              am          የውሂብ ተንታኝ\n",
       "3  data analyst             en              ar      محلل البيانات\n",
       "4  data analyst             en              az  Məlumat analitiki"
      ]
     },
     "metadata": {},
     "output_type": "display_data"
    },
    {
     "data": {
      "text/html": [
       "<div>\n",
       "<style scoped>\n",
       "    .dataframe tbody tr th:only-of-type {\n",
       "        vertical-align: middle;\n",
       "    }\n",
       "\n",
       "    .dataframe tbody tr th {\n",
       "        vertical-align: top;\n",
       "    }\n",
       "\n",
       "    .dataframe thead th {\n",
       "        text-align: right;\n",
       "    }\n",
       "</style>\n",
       "<table border=\"1\" class=\"dataframe\">\n",
       "  <thead>\n",
       "    <tr style=\"text-align: right;\">\n",
       "      <th></th>\n",
       "      <th>basic word</th>\n",
       "      <th>start_language</th>\n",
       "      <th>target_language</th>\n",
       "      <th>result</th>\n",
       "    </tr>\n",
       "  </thead>\n",
       "  <tbody>\n",
       "    <tr>\n",
       "      <th>0</th>\n",
       "      <td>analyst</td>\n",
       "      <td>en</td>\n",
       "      <td>en</td>\n",
       "      <td>analyst</td>\n",
       "    </tr>\n",
       "    <tr>\n",
       "      <th>1</th>\n",
       "      <td>analyst</td>\n",
       "      <td>en</td>\n",
       "      <td>af</td>\n",
       "      <td>ontleder</td>\n",
       "    </tr>\n",
       "    <tr>\n",
       "      <th>2</th>\n",
       "      <td>analyst</td>\n",
       "      <td>en</td>\n",
       "      <td>am</td>\n",
       "      <td>ተንታኝ</td>\n",
       "    </tr>\n",
       "    <tr>\n",
       "      <th>3</th>\n",
       "      <td>analyst</td>\n",
       "      <td>en</td>\n",
       "      <td>ar</td>\n",
       "      <td>المحلل</td>\n",
       "    </tr>\n",
       "    <tr>\n",
       "      <th>4</th>\n",
       "      <td>analyst</td>\n",
       "      <td>en</td>\n",
       "      <td>az</td>\n",
       "      <td>analitik</td>\n",
       "    </tr>\n",
       "  </tbody>\n",
       "</table>\n",
       "</div>"
      ],
      "text/plain": [
       "  basic word start_language target_language    result\n",
       "0    analyst             en              en   analyst\n",
       "1    analyst             en              af  ontleder\n",
       "2    analyst             en              am      ተንታኝ\n",
       "3    analyst             en              ar    المحلل\n",
       "4    analyst             en              az  analitik"
      ]
     },
     "metadata": {},
     "output_type": "display_data"
    },
    {
     "data": {
      "text/html": [
       "<div>\n",
       "<style scoped>\n",
       "    .dataframe tbody tr th:only-of-type {\n",
       "        vertical-align: middle;\n",
       "    }\n",
       "\n",
       "    .dataframe tbody tr th {\n",
       "        vertical-align: top;\n",
       "    }\n",
       "\n",
       "    .dataframe thead th {\n",
       "        text-align: right;\n",
       "    }\n",
       "</style>\n",
       "<table border=\"1\" class=\"dataframe\">\n",
       "  <thead>\n",
       "    <tr style=\"text-align: right;\">\n",
       "      <th></th>\n",
       "      <th>basic word</th>\n",
       "      <th>start_language</th>\n",
       "      <th>target_language</th>\n",
       "      <th>result</th>\n",
       "    </tr>\n",
       "  </thead>\n",
       "  <tbody>\n",
       "    <tr>\n",
       "      <th>0</th>\n",
       "      <td>Business intelligence</td>\n",
       "      <td>en</td>\n",
       "      <td>en</td>\n",
       "      <td>Business intelligence</td>\n",
       "    </tr>\n",
       "    <tr>\n",
       "      <th>1</th>\n",
       "      <td>Business intelligence</td>\n",
       "      <td>en</td>\n",
       "      <td>af</td>\n",
       "      <td>Sake-intelligensie</td>\n",
       "    </tr>\n",
       "    <tr>\n",
       "      <th>2</th>\n",
       "      <td>Business intelligence</td>\n",
       "      <td>en</td>\n",
       "      <td>am</td>\n",
       "      <td>የንግድ ሥራ ብልህነት</td>\n",
       "    </tr>\n",
       "    <tr>\n",
       "      <th>3</th>\n",
       "      <td>Business intelligence</td>\n",
       "      <td>en</td>\n",
       "      <td>ar</td>\n",
       "      <td>ذكاء الأعمال</td>\n",
       "    </tr>\n",
       "    <tr>\n",
       "      <th>4</th>\n",
       "      <td>Business intelligence</td>\n",
       "      <td>en</td>\n",
       "      <td>az</td>\n",
       "      <td>İşgüzar</td>\n",
       "    </tr>\n",
       "  </tbody>\n",
       "</table>\n",
       "</div>"
      ],
      "text/plain": [
       "               basic word start_language target_language  \\\n",
       "0  Business intelligence              en              en   \n",
       "1  Business intelligence              en              af   \n",
       "2  Business intelligence              en              am   \n",
       "3  Business intelligence              en              ar   \n",
       "4  Business intelligence              en              az   \n",
       "\n",
       "                   result  \n",
       "0  Business intelligence   \n",
       "1      Sake-intelligensie  \n",
       "2           የንግድ ሥራ ብልህነት  \n",
       "3            ذكاء الأعمال  \n",
       "4                 İşgüzar  "
      ]
     },
     "metadata": {},
     "output_type": "display_data"
    },
    {
     "data": {
      "text/html": [
       "<div>\n",
       "<style scoped>\n",
       "    .dataframe tbody tr th:only-of-type {\n",
       "        vertical-align: middle;\n",
       "    }\n",
       "\n",
       "    .dataframe tbody tr th {\n",
       "        vertical-align: top;\n",
       "    }\n",
       "\n",
       "    .dataframe thead th {\n",
       "        text-align: right;\n",
       "    }\n",
       "</style>\n",
       "<table border=\"1\" class=\"dataframe\">\n",
       "  <thead>\n",
       "    <tr style=\"text-align: right;\">\n",
       "      <th></th>\n",
       "      <th>basic word</th>\n",
       "      <th>start_language</th>\n",
       "      <th>target_language</th>\n",
       "      <th>result</th>\n",
       "    </tr>\n",
       "  </thead>\n",
       "  <tbody>\n",
       "    <tr>\n",
       "      <th>0</th>\n",
       "      <td>data</td>\n",
       "      <td>en</td>\n",
       "      <td>en</td>\n",
       "      <td>data</td>\n",
       "    </tr>\n",
       "    <tr>\n",
       "      <th>1</th>\n",
       "      <td>data</td>\n",
       "      <td>en</td>\n",
       "      <td>af</td>\n",
       "      <td>data</td>\n",
       "    </tr>\n",
       "    <tr>\n",
       "      <th>2</th>\n",
       "      <td>data</td>\n",
       "      <td>en</td>\n",
       "      <td>am</td>\n",
       "      <td>ውሂብ</td>\n",
       "    </tr>\n",
       "    <tr>\n",
       "      <th>3</th>\n",
       "      <td>data</td>\n",
       "      <td>en</td>\n",
       "      <td>ar</td>\n",
       "      <td>بيانات</td>\n",
       "    </tr>\n",
       "    <tr>\n",
       "      <th>4</th>\n",
       "      <td>data</td>\n",
       "      <td>en</td>\n",
       "      <td>az</td>\n",
       "      <td>məlumat</td>\n",
       "    </tr>\n",
       "  </tbody>\n",
       "</table>\n",
       "</div>"
      ],
      "text/plain": [
       "  basic word start_language target_language   result\n",
       "0       data             en              en     data\n",
       "1       data             en              af     data\n",
       "2       data             en              am      ውሂብ\n",
       "3       data             en              ar   بيانات\n",
       "4       data             en              az  məlumat"
      ]
     },
     "metadata": {},
     "output_type": "display_data"
    },
    {
     "data": {
      "text/html": [
       "<div>\n",
       "<style scoped>\n",
       "    .dataframe tbody tr th:only-of-type {\n",
       "        vertical-align: middle;\n",
       "    }\n",
       "\n",
       "    .dataframe tbody tr th {\n",
       "        vertical-align: top;\n",
       "    }\n",
       "\n",
       "    .dataframe thead th {\n",
       "        text-align: right;\n",
       "    }\n",
       "</style>\n",
       "<table border=\"1\" class=\"dataframe\">\n",
       "  <thead>\n",
       "    <tr style=\"text-align: right;\">\n",
       "      <th></th>\n",
       "      <th>basic word</th>\n",
       "      <th>start_language</th>\n",
       "      <th>target_language</th>\n",
       "      <th>result</th>\n",
       "    </tr>\n",
       "  </thead>\n",
       "  <tbody>\n",
       "    <tr>\n",
       "      <th>0</th>\n",
       "      <td>senior</td>\n",
       "      <td>en</td>\n",
       "      <td>en</td>\n",
       "      <td>senior</td>\n",
       "    </tr>\n",
       "    <tr>\n",
       "      <th>1</th>\n",
       "      <td>senior</td>\n",
       "      <td>en</td>\n",
       "      <td>af</td>\n",
       "      <td>senior</td>\n",
       "    </tr>\n",
       "    <tr>\n",
       "      <th>2</th>\n",
       "      <td>senior</td>\n",
       "      <td>en</td>\n",
       "      <td>am</td>\n",
       "      <td>አዛውንት</td>\n",
       "    </tr>\n",
       "    <tr>\n",
       "      <th>3</th>\n",
       "      <td>senior</td>\n",
       "      <td>en</td>\n",
       "      <td>ar</td>\n",
       "      <td>كبير</td>\n",
       "    </tr>\n",
       "    <tr>\n",
       "      <th>4</th>\n",
       "      <td>senior</td>\n",
       "      <td>en</td>\n",
       "      <td>az</td>\n",
       "      <td>böyük</td>\n",
       "    </tr>\n",
       "  </tbody>\n",
       "</table>\n",
       "</div>"
      ],
      "text/plain": [
       "  basic word start_language target_language  result\n",
       "0     senior             en              en  senior\n",
       "1     senior             en              af  senior\n",
       "2     senior             en              am   አዛውንት\n",
       "3     senior             en              ar    كبير\n",
       "4     senior             en              az   böyük"
      ]
     },
     "metadata": {},
     "output_type": "display_data"
    }
   ],
   "source": [
    "display(data_analyst.head())\n",
    "display(analyst.head())\n",
    "display(BI.head())\n",
    "display(data.head())\n",
    "display(middle_senior.head())"
   ]
  },
  {
   "cell_type": "code",
   "execution_count": 84,
   "id": "fab99392",
   "metadata": {},
   "outputs": [],
   "source": [
    "data_analyst['result'] = data_analyst['result'].apply(lambda x: x.lower())\n",
    "analyst['result'] = analyst['result'].apply(lambda x: x.lower())\n",
    "BI['result'] = BI['result'].apply(lambda x: x.lower())\n",
    "data['result'] = data['result'].apply(lambda x: x.lower())\n",
    "middle_senior['result'] = middle_senior['result'].apply(lambda x: x.lower())"
   ]
  },
  {
   "cell_type": "code",
   "execution_count": 85,
   "id": "566c6d80",
   "metadata": {},
   "outputs": [],
   "source": [
    "# списки (их нужно ещё чуть-чуть почистить и скорректировать)\n",
    "# кое-что пришлось длавлять вручную\n",
    "data_analyst_list = data_analyst['result'].to_list()\n",
    "data_analyst_list += ['data analist', 'analyste des donnees', 'datový analytik']\n",
    "analyst_list = analyst['result'].to_list()\n",
    "analyst_list += ['analist', 'analysis', 'analytik', 'analytic']\n",
    "BI_list = BI['result'].to_list()\n",
    "data_list = data['result'].to_list()\n",
    "data_list.append('donnees')\n",
    "middle_senior_list = []\n",
    "for elem in middle_senior['result'].to_list():\n",
    "    if len(elem) > 4:\n",
    "        middle_senior_list.append(elem)\n",
    "\n"
   ]
  },
  {
   "cell_type": "markdown",
   "id": "b0c5ff92",
   "metadata": {},
   "source": [
    "Проверим в каждой вакансии наличие какого-либо из вариантов."
   ]
  },
  {
   "cell_type": "code",
   "execution_count": 86,
   "id": "9f1566e5",
   "metadata": {},
   "outputs": [],
   "source": [
    "# #  доп. столбец\n",
    "# #  cначала оставим только джунов\n",
    "def relevant_junior(cell, control_list=middle_senior_list):\n",
    "    if 'junior' in cell:\n",
    "        return 1\n",
    "    else:\n",
    "        i = 0\n",
    "        result = 1\n",
    "        while i < len(control_list):\n",
    "            if control_list[i] in cell:\n",
    "                result = 0\n",
    "                i = len(control_list)\n",
    "            else:\n",
    "                i += 1\n",
    "        return result\n",
    "\n",
    "df['relevant_jun'] = df['title'].apply(relevant_junior)"
   ]
  },
  {
   "cell_type": "code",
   "execution_count": 87,
   "id": "b6df267d",
   "metadata": {},
   "outputs": [
    {
     "data": {
      "text/plain": [
       "29"
      ]
     },
     "execution_count": 87,
     "metadata": {},
     "output_type": "execute_result"
    }
   ],
   "source": [
    "df[df['relevant_jun'] != 1]['title'].count()"
   ]
  },
  {
   "cell_type": "markdown",
   "id": "9ac5c2cf",
   "metadata": {},
   "source": [
    "29 вакансий не попадающих в junior"
   ]
  },
  {
   "cell_type": "code",
   "execution_count": 88,
   "id": "5bc880d9",
   "metadata": {
    "scrolled": false
   },
   "outputs": [
    {
     "data": {
      "text/html": [
       "<div>\n",
       "<style scoped>\n",
       "    .dataframe tbody tr th:only-of-type {\n",
       "        vertical-align: middle;\n",
       "    }\n",
       "\n",
       "    .dataframe tbody tr th {\n",
       "        vertical-align: top;\n",
       "    }\n",
       "\n",
       "    .dataframe thead th {\n",
       "        text-align: right;\n",
       "    }\n",
       "</style>\n",
       "<table border=\"1\" class=\"dataframe\">\n",
       "  <thead>\n",
       "    <tr style=\"text-align: right;\">\n",
       "      <th></th>\n",
       "      <th>title</th>\n",
       "      <th>location</th>\n",
       "      <th>country</th>\n",
       "      <th>employment_type</th>\n",
       "      <th>company_name</th>\n",
       "      <th>employee_qty</th>\n",
       "      <th>company_field</th>\n",
       "      <th>skills</th>\n",
       "      <th>job_description</th>\n",
       "      <th>applicants</th>\n",
       "      <th>indicator</th>\n",
       "      <th>city</th>\n",
       "      <th>changed_ind</th>\n",
       "      <th>hard_skills</th>\n",
       "      <th>relevant_jun</th>\n",
       "      <th>relevant_da</th>\n",
       "    </tr>\n",
       "  </thead>\n",
       "  <tbody>\n",
       "    <tr>\n",
       "      <th>0</th>\n",
       "      <td>data analyst</td>\n",
       "      <td>Basel</td>\n",
       "      <td>Switzerland</td>\n",
       "      <td>On-site</td>\n",
       "      <td>PharmiWeb.Jobs: Global Life Science Jobs</td>\n",
       "      <td>11-50 employees</td>\n",
       "      <td>staffing and recruiting</td>\n",
       "      <td>None</td>\n",
       "      <td>What You Will Achi...</td>\n",
       "      <td>47.0</td>\n",
       "      <td>0</td>\n",
       "      <td>Basel</td>\n",
       "      <td>0</td>\n",
       "      <td>[data mining, excel, sap, sas, spss, sql, stat...</td>\n",
       "      <td>1</td>\n",
       "      <td>1</td>\n",
       "    </tr>\n",
       "    <tr>\n",
       "      <th>1</th>\n",
       "      <td>data analyst   logistics</td>\n",
       "      <td>Coventry</td>\n",
       "      <td>United Kingdom</td>\n",
       "      <td>On-site</td>\n",
       "      <td>Resolute Recruitment</td>\n",
       "      <td>not specified</td>\n",
       "      <td>not specified</td>\n",
       "      <td>None</td>\n",
       "      <td></td>\n",
       "      <td>NaN</td>\n",
       "      <td>0</td>\n",
       "      <td>Coventry</td>\n",
       "      <td>0</td>\n",
       "      <td>[]</td>\n",
       "      <td>1</td>\n",
       "      <td>1</td>\n",
       "    </tr>\n",
       "    <tr>\n",
       "      <th>2</th>\n",
       "      <td>data analyst   logistics</td>\n",
       "      <td>Coventry</td>\n",
       "      <td>United Kingdom</td>\n",
       "      <td>On-site</td>\n",
       "      <td>Resolute Recruitment</td>\n",
       "      <td>not specified</td>\n",
       "      <td>not specified</td>\n",
       "      <td>None</td>\n",
       "      <td>Data Analyst - Lo...</td>\n",
       "      <td>NaN</td>\n",
       "      <td>0</td>\n",
       "      <td>Coventry</td>\n",
       "      <td>0</td>\n",
       "      <td>[wfh]</td>\n",
       "      <td>1</td>\n",
       "      <td>1</td>\n",
       "    </tr>\n",
       "    <tr>\n",
       "      <th>3</th>\n",
       "      <td>data analyst (space &amp; planning)</td>\n",
       "      <td>South Molton</td>\n",
       "      <td>United Kingdom</td>\n",
       "      <td>On-site</td>\n",
       "      <td>Mole Valley Farmers</td>\n",
       "      <td>not specified</td>\n",
       "      <td>not specified</td>\n",
       "      <td>None</td>\n",
       "      <td>Salary:     To b...</td>\n",
       "      <td>NaN</td>\n",
       "      <td>0</td>\n",
       "      <td>South Molton</td>\n",
       "      <td>0</td>\n",
       "      <td>[excel]</td>\n",
       "      <td>1</td>\n",
       "      <td>1</td>\n",
       "    </tr>\n",
       "    <tr>\n",
       "      <th>4</th>\n",
       "      <td>data analyst</td>\n",
       "      <td>Lugano</td>\n",
       "      <td>Switzerland</td>\n",
       "      <td>On-site</td>\n",
       "      <td>FORFIRM</td>\n",
       "      <td>not specified</td>\n",
       "      <td>not specified</td>\n",
       "      <td>None</td>\n",
       "      <td>FORFIRM     is p...</td>\n",
       "      <td>NaN</td>\n",
       "      <td>0</td>\n",
       "      <td>Lugano</td>\n",
       "      <td>0</td>\n",
       "      <td>[aws, data warehouse, etl, gcp, oracle, oracle...</td>\n",
       "      <td>1</td>\n",
       "      <td>1</td>\n",
       "    </tr>\n",
       "    <tr>\n",
       "      <th>5</th>\n",
       "      <td>data analyst   logistics</td>\n",
       "      <td>Southampton</td>\n",
       "      <td>United Kingdom</td>\n",
       "      <td>On-site</td>\n",
       "      <td>Butler, Bridge &amp; May</td>\n",
       "      <td>not specified</td>\n",
       "      <td>not specified</td>\n",
       "      <td>None</td>\n",
       "      <td>Location: Southam...</td>\n",
       "      <td>NaN</td>\n",
       "      <td>0</td>\n",
       "      <td>Southampton</td>\n",
       "      <td>0</td>\n",
       "      <td>[excel, power bi, powerbi, sap]</td>\n",
       "      <td>1</td>\n",
       "      <td>1</td>\n",
       "    </tr>\n",
       "    <tr>\n",
       "      <th>6</th>\n",
       "      <td>data analyst</td>\n",
       "      <td>Leeds</td>\n",
       "      <td>United Kingdom</td>\n",
       "      <td>On-site</td>\n",
       "      <td>Maria Mallaband Care Group Ltd</td>\n",
       "      <td>not specified</td>\n",
       "      <td>not specified</td>\n",
       "      <td>None</td>\n",
       "      <td>We’re Maria Malla...</td>\n",
       "      <td>NaN</td>\n",
       "      <td>0</td>\n",
       "      <td>Leeds</td>\n",
       "      <td>0</td>\n",
       "      <td>[excel, power bi]</td>\n",
       "      <td>1</td>\n",
       "      <td>1</td>\n",
       "    </tr>\n",
       "    <tr>\n",
       "      <th>7</th>\n",
       "      <td>data analyst</td>\n",
       "      <td>Nuneaton</td>\n",
       "      <td>United Kingdom</td>\n",
       "      <td>Hybrid</td>\n",
       "      <td>Kelly Group</td>\n",
       "      <td>not specified</td>\n",
       "      <td>not specified</td>\n",
       "      <td>None</td>\n",
       "      <td>Kelly Group are s...</td>\n",
       "      <td>NaN</td>\n",
       "      <td>0</td>\n",
       "      <td>Nuneaton</td>\n",
       "      <td>0</td>\n",
       "      <td>[data mining, excel]</td>\n",
       "      <td>1</td>\n",
       "      <td>1</td>\n",
       "    </tr>\n",
       "    <tr>\n",
       "      <th>8</th>\n",
       "      <td>data analyst</td>\n",
       "      <td>Paris</td>\n",
       "      <td>France</td>\n",
       "      <td>On-site</td>\n",
       "      <td>eXalt</td>\n",
       "      <td>501-1,000 employees</td>\n",
       "      <td>it services and it consulting</td>\n",
       "      <td>&lt;span class=\"visually-hidden\"&gt;&lt;!-- --&gt;Skills: ...</td>\n",
       "      <td>Qui sont-ils ?   ...</td>\n",
       "      <td>140.0</td>\n",
       "      <td>0</td>\n",
       "      <td>Paris</td>\n",
       "      <td>0</td>\n",
       "      <td>[dataiku, nosql, power bi, powerbi, qlikview, ...</td>\n",
       "      <td>1</td>\n",
       "      <td>1</td>\n",
       "    </tr>\n",
       "    <tr>\n",
       "      <th>9</th>\n",
       "      <td>data analyst   hybrid working</td>\n",
       "      <td>Cambridge</td>\n",
       "      <td>United Kingdom</td>\n",
       "      <td>On-site</td>\n",
       "      <td>Blue Arrow</td>\n",
       "      <td>not specified</td>\n",
       "      <td>not specified</td>\n",
       "      <td>None</td>\n",
       "      <td>Data Analyst    ...</td>\n",
       "      <td>NaN</td>\n",
       "      <td>0</td>\n",
       "      <td>Cambridge</td>\n",
       "      <td>0</td>\n",
       "      <td>[]</td>\n",
       "      <td>1</td>\n",
       "      <td>1</td>\n",
       "    </tr>\n",
       "  </tbody>\n",
       "</table>\n",
       "</div>"
      ],
      "text/plain": [
       "                             title      location         country  \\\n",
       "0                     data analyst         Basel     Switzerland   \n",
       "1         data analyst   logistics      Coventry  United Kingdom   \n",
       "2         data analyst   logistics      Coventry  United Kingdom   \n",
       "3  data analyst (space & planning)  South Molton  United Kingdom   \n",
       "4                     data analyst        Lugano     Switzerland   \n",
       "5         data analyst   logistics   Southampton  United Kingdom   \n",
       "6                     data analyst         Leeds  United Kingdom   \n",
       "7                     data analyst      Nuneaton  United Kingdom   \n",
       "8                     data analyst         Paris          France   \n",
       "9    data analyst   hybrid working     Cambridge  United Kingdom   \n",
       "\n",
       "  employment_type                              company_name  \\\n",
       "0         On-site  PharmiWeb.Jobs: Global Life Science Jobs   \n",
       "1         On-site                      Resolute Recruitment   \n",
       "2         On-site                      Resolute Recruitment   \n",
       "3         On-site                       Mole Valley Farmers   \n",
       "4         On-site                                   FORFIRM   \n",
       "5         On-site                      Butler, Bridge & May   \n",
       "6         On-site            Maria Mallaband Care Group Ltd   \n",
       "7          Hybrid                               Kelly Group   \n",
       "8         On-site                                     eXalt   \n",
       "9         On-site                                Blue Arrow   \n",
       "\n",
       "          employee_qty                  company_field  \\\n",
       "0      11-50 employees        staffing and recruiting   \n",
       "1        not specified                  not specified   \n",
       "2        not specified                  not specified   \n",
       "3        not specified                  not specified   \n",
       "4        not specified                  not specified   \n",
       "5        not specified                  not specified   \n",
       "6        not specified                  not specified   \n",
       "7        not specified                  not specified   \n",
       "8  501-1,000 employees  it services and it consulting   \n",
       "9        not specified                  not specified   \n",
       "\n",
       "                                              skills  \\\n",
       "0                                               None   \n",
       "1                                               None   \n",
       "2                                               None   \n",
       "3                                               None   \n",
       "4                                               None   \n",
       "5                                               None   \n",
       "6                                               None   \n",
       "7                                               None   \n",
       "8  <span class=\"visually-hidden\"><!-- -->Skills: ...   \n",
       "9                                               None   \n",
       "\n",
       "                                     job_description  applicants  indicator  \\\n",
       "0                              What You Will Achi...        47.0          0   \n",
       "1                                                            NaN          0   \n",
       "2                               Data Analyst - Lo...         NaN          0   \n",
       "3                                Salary:     To b...         NaN          0   \n",
       "4                                FORFIRM     is p...         NaN          0   \n",
       "5                               Location: Southam...         NaN          0   \n",
       "6                               We’re Maria Malla...         NaN          0   \n",
       "7                               Kelly Group are s...         NaN          0   \n",
       "8                               Qui sont-ils ?   ...       140.0          0   \n",
       "9                                Data Analyst    ...         NaN          0   \n",
       "\n",
       "           city  changed_ind  \\\n",
       "0         Basel            0   \n",
       "1      Coventry            0   \n",
       "2      Coventry            0   \n",
       "3  South Molton            0   \n",
       "4        Lugano            0   \n",
       "5   Southampton            0   \n",
       "6         Leeds            0   \n",
       "7      Nuneaton            0   \n",
       "8         Paris            0   \n",
       "9     Cambridge            0   \n",
       "\n",
       "                                         hard_skills  relevant_jun  \\\n",
       "0  [data mining, excel, sap, sas, spss, sql, stat...             1   \n",
       "1                                                 []             1   \n",
       "2                                              [wfh]             1   \n",
       "3                                            [excel]             1   \n",
       "4  [aws, data warehouse, etl, gcp, oracle, oracle...             1   \n",
       "5                    [excel, power bi, powerbi, sap]             1   \n",
       "6                                  [excel, power bi]             1   \n",
       "7                               [data mining, excel]             1   \n",
       "8  [dataiku, nosql, power bi, powerbi, qlikview, ...             1   \n",
       "9                                                 []             1   \n",
       "\n",
       "   relevant_da  \n",
       "0            1  \n",
       "1            1  \n",
       "2            1  \n",
       "3            1  \n",
       "4            1  \n",
       "5            1  \n",
       "6            1  \n",
       "7            1  \n",
       "8            1  \n",
       "9            1  "
      ]
     },
     "execution_count": 88,
     "metadata": {},
     "output_type": "execute_result"
    }
   ],
   "source": [
    "# провверяем \"data analyst\" на разных языках\n",
    "\n",
    "def relevant_da(row, control_list=data_analyst_list):\n",
    "    if row['relevant_jun'] == 0:\n",
    "        return 0\n",
    "    else:\n",
    "        i = 0\n",
    "        result = 0\n",
    "        while i < len(control_list):\n",
    "            if control_list[i] in row['title']:\n",
    "                result = 1\n",
    "                i = len(control_list)\n",
    "            else:\n",
    "                i += 1\n",
    "    return result\n",
    "\n",
    "df['relevant_da'] = df.apply(relevant_da, axis=1)\n",
    "\n",
    "df[df['relevant_da'] == 1].head(10)"
   ]
  },
  {
   "cell_type": "code",
   "execution_count": 89,
   "id": "4932e9bc",
   "metadata": {},
   "outputs": [
    {
     "data": {
      "text/plain": [
       "428"
      ]
     },
     "execution_count": 89,
     "metadata": {},
     "output_type": "execute_result"
    }
   ],
   "source": [
    "df['relevant_da'].sum()"
   ]
  },
  {
   "cell_type": "code",
   "execution_count": 90,
   "id": "22723fc1",
   "metadata": {},
   "outputs": [],
   "source": [
    "# теперь посмотрим более сложные варианты, где есть analyst, data, bi в различных комбинациях\n",
    "\n",
    "def final_relevant(row, analyst=analyst_list, data=data_list, bi = BI_list):\n",
    "    if row['relevant_da'] == 0 and row['relevant_jun'] == 1:\n",
    "        i = 0\n",
    "        result = 0\n",
    "        while i < len(analyst):\n",
    "            if analyst[i] in row['title']:\n",
    "                pattern = (\n",
    "                    r'(\\b|\\W|\\s|\\_)'\n",
    "                    + 'bi'\n",
    "                    + r'(\\b|\\W|\\s|\\_)'\n",
    "                )\n",
    "                if re.search(pattern, row['title']):\n",
    "                    result = 1\n",
    "                else:                        \n",
    "                    j = 0\n",
    "                    while j < len(data):\n",
    "                        if data[j] in row['title']:\n",
    "                            result = 1\n",
    "                        else:\n",
    "                            k = 0\n",
    "                            while k < len(bi):\n",
    "                                if bi[k] in row['title']:\n",
    "                                    result = 1\n",
    "                                    k = len(bi)\n",
    "                                else:\n",
    "                                    k += 1\n",
    "                        if result == 1:\n",
    "                            j = len(data)\n",
    "                        else:\n",
    "                            j += 1\n",
    "                if result == 1:\n",
    "                    i = len(analyst)\n",
    "                else:\n",
    "                    i += 1\n",
    "            else:\n",
    "                i += 1\n",
    "        return result\n",
    "    else:\n",
    "        return row['relevant_da']\n",
    "    \n"
   ]
  },
  {
   "cell_type": "code",
   "execution_count": 91,
   "id": "1e0805db",
   "metadata": {},
   "outputs": [],
   "source": [
    "df['relevant'] = df.apply(final_relevant, axis=1)"
   ]
  },
  {
   "cell_type": "code",
   "execution_count": 92,
   "id": "b0947977",
   "metadata": {},
   "outputs": [
    {
     "data": {
      "text/plain": [
       "488"
      ]
     },
     "execution_count": 92,
     "metadata": {},
     "output_type": "execute_result"
    }
   ],
   "source": [
    "df['relevant'].sum()"
   ]
  },
  {
   "cell_type": "code",
   "execution_count": 93,
   "id": "3251eca7",
   "metadata": {},
   "outputs": [
    {
     "data": {
      "text/html": [
       "<div>\n",
       "<style scoped>\n",
       "    .dataframe tbody tr th:only-of-type {\n",
       "        vertical-align: middle;\n",
       "    }\n",
       "\n",
       "    .dataframe tbody tr th {\n",
       "        vertical-align: top;\n",
       "    }\n",
       "\n",
       "    .dataframe thead th {\n",
       "        text-align: right;\n",
       "    }\n",
       "</style>\n",
       "<table border=\"1\" class=\"dataframe\">\n",
       "  <thead>\n",
       "    <tr style=\"text-align: right;\">\n",
       "      <th></th>\n",
       "      <th>title</th>\n",
       "      <th>location</th>\n",
       "      <th>country</th>\n",
       "      <th>employment_type</th>\n",
       "      <th>company_name</th>\n",
       "      <th>employee_qty</th>\n",
       "      <th>company_field</th>\n",
       "      <th>skills</th>\n",
       "      <th>job_description</th>\n",
       "      <th>applicants</th>\n",
       "      <th>indicator</th>\n",
       "      <th>city</th>\n",
       "      <th>changed_ind</th>\n",
       "      <th>hard_skills</th>\n",
       "      <th>relevant_jun</th>\n",
       "      <th>relevant_da</th>\n",
       "      <th>relevant</th>\n",
       "    </tr>\n",
       "  </thead>\n",
       "  <tbody>\n",
       "    <tr>\n",
       "      <th>0</th>\n",
       "      <td>data analyst</td>\n",
       "      <td>Basel</td>\n",
       "      <td>Switzerland</td>\n",
       "      <td>On-site</td>\n",
       "      <td>PharmiWeb.Jobs: Global Life Science Jobs</td>\n",
       "      <td>11-50 employees</td>\n",
       "      <td>staffing and recruiting</td>\n",
       "      <td>None</td>\n",
       "      <td>What You Will Achi...</td>\n",
       "      <td>47.0</td>\n",
       "      <td>0</td>\n",
       "      <td>Basel</td>\n",
       "      <td>0</td>\n",
       "      <td>[data mining, excel, sap, sas, spss, sql, stat...</td>\n",
       "      <td>1</td>\n",
       "      <td>1</td>\n",
       "      <td>1</td>\n",
       "    </tr>\n",
       "    <tr>\n",
       "      <th>1</th>\n",
       "      <td>data analyst   logistics</td>\n",
       "      <td>Coventry</td>\n",
       "      <td>United Kingdom</td>\n",
       "      <td>On-site</td>\n",
       "      <td>Resolute Recruitment</td>\n",
       "      <td>not specified</td>\n",
       "      <td>not specified</td>\n",
       "      <td>None</td>\n",
       "      <td></td>\n",
       "      <td>NaN</td>\n",
       "      <td>0</td>\n",
       "      <td>Coventry</td>\n",
       "      <td>0</td>\n",
       "      <td>[]</td>\n",
       "      <td>1</td>\n",
       "      <td>1</td>\n",
       "      <td>1</td>\n",
       "    </tr>\n",
       "    <tr>\n",
       "      <th>2</th>\n",
       "      <td>data analyst   logistics</td>\n",
       "      <td>Coventry</td>\n",
       "      <td>United Kingdom</td>\n",
       "      <td>On-site</td>\n",
       "      <td>Resolute Recruitment</td>\n",
       "      <td>not specified</td>\n",
       "      <td>not specified</td>\n",
       "      <td>None</td>\n",
       "      <td>Data Analyst - Lo...</td>\n",
       "      <td>NaN</td>\n",
       "      <td>0</td>\n",
       "      <td>Coventry</td>\n",
       "      <td>0</td>\n",
       "      <td>[wfh]</td>\n",
       "      <td>1</td>\n",
       "      <td>1</td>\n",
       "      <td>1</td>\n",
       "    </tr>\n",
       "    <tr>\n",
       "      <th>3</th>\n",
       "      <td>data analyst (space &amp; planning)</td>\n",
       "      <td>South Molton</td>\n",
       "      <td>United Kingdom</td>\n",
       "      <td>On-site</td>\n",
       "      <td>Mole Valley Farmers</td>\n",
       "      <td>not specified</td>\n",
       "      <td>not specified</td>\n",
       "      <td>None</td>\n",
       "      <td>Salary:     To b...</td>\n",
       "      <td>NaN</td>\n",
       "      <td>0</td>\n",
       "      <td>South Molton</td>\n",
       "      <td>0</td>\n",
       "      <td>[excel]</td>\n",
       "      <td>1</td>\n",
       "      <td>1</td>\n",
       "      <td>1</td>\n",
       "    </tr>\n",
       "    <tr>\n",
       "      <th>4</th>\n",
       "      <td>data analyst</td>\n",
       "      <td>Lugano</td>\n",
       "      <td>Switzerland</td>\n",
       "      <td>On-site</td>\n",
       "      <td>FORFIRM</td>\n",
       "      <td>not specified</td>\n",
       "      <td>not specified</td>\n",
       "      <td>None</td>\n",
       "      <td>FORFIRM     is p...</td>\n",
       "      <td>NaN</td>\n",
       "      <td>0</td>\n",
       "      <td>Lugano</td>\n",
       "      <td>0</td>\n",
       "      <td>[aws, data warehouse, etl, gcp, oracle, oracle...</td>\n",
       "      <td>1</td>\n",
       "      <td>1</td>\n",
       "      <td>1</td>\n",
       "    </tr>\n",
       "  </tbody>\n",
       "</table>\n",
       "</div>"
      ],
      "text/plain": [
       "                             title      location         country  \\\n",
       "0                     data analyst         Basel     Switzerland   \n",
       "1         data analyst   logistics      Coventry  United Kingdom   \n",
       "2         data analyst   logistics      Coventry  United Kingdom   \n",
       "3  data analyst (space & planning)  South Molton  United Kingdom   \n",
       "4                     data analyst        Lugano     Switzerland   \n",
       "\n",
       "  employment_type                              company_name     employee_qty  \\\n",
       "0         On-site  PharmiWeb.Jobs: Global Life Science Jobs  11-50 employees   \n",
       "1         On-site                      Resolute Recruitment    not specified   \n",
       "2         On-site                      Resolute Recruitment    not specified   \n",
       "3         On-site                       Mole Valley Farmers    not specified   \n",
       "4         On-site                                   FORFIRM    not specified   \n",
       "\n",
       "             company_field skills  \\\n",
       "0  staffing and recruiting   None   \n",
       "1            not specified   None   \n",
       "2            not specified   None   \n",
       "3            not specified   None   \n",
       "4            not specified   None   \n",
       "\n",
       "                                     job_description  applicants  indicator  \\\n",
       "0                              What You Will Achi...        47.0          0   \n",
       "1                                                            NaN          0   \n",
       "2                               Data Analyst - Lo...         NaN          0   \n",
       "3                                Salary:     To b...         NaN          0   \n",
       "4                                FORFIRM     is p...         NaN          0   \n",
       "\n",
       "           city  changed_ind  \\\n",
       "0         Basel            0   \n",
       "1      Coventry            0   \n",
       "2      Coventry            0   \n",
       "3  South Molton            0   \n",
       "4        Lugano            0   \n",
       "\n",
       "                                         hard_skills  relevant_jun  \\\n",
       "0  [data mining, excel, sap, sas, spss, sql, stat...             1   \n",
       "1                                                 []             1   \n",
       "2                                              [wfh]             1   \n",
       "3                                            [excel]             1   \n",
       "4  [aws, data warehouse, etl, gcp, oracle, oracle...             1   \n",
       "\n",
       "   relevant_da  relevant  \n",
       "0            1         1  \n",
       "1            1         1  \n",
       "2            1         1  \n",
       "3            1         1  \n",
       "4            1         1  "
      ]
     },
     "execution_count": 93,
     "metadata": {},
     "output_type": "execute_result"
    }
   ],
   "source": [
    "df.head()"
   ]
  },
  {
   "cell_type": "markdown",
   "id": "5b0baa92",
   "metadata": {},
   "source": [
    "Итого, после фильтра осталось 488 подходящих вакансий.  "
   ]
  },
  {
   "cell_type": "markdown",
   "id": "9180b74b",
   "metadata": {},
   "source": [
    "**Финальные датасеты для основной визуализации**  \n",
    "Выделим только необходимые вакансии в отдельный датасет. Оставим только необходимые нам для визуализации столбцы: `title`, `country`, `city`, `company_name`, `employment_type`, `employee_qty`, `company_field`. Хард-скиллы будем добавлять в отдельный датасет, т.к. там после explode будут дублироваться строки по другим столбцам."
   ]
  },
  {
   "cell_type": "code",
   "execution_count": 94,
   "id": "9c6b6780",
   "metadata": {},
   "outputs": [
    {
     "data": {
      "text/html": [
       "<div>\n",
       "<style scoped>\n",
       "    .dataframe tbody tr th:only-of-type {\n",
       "        vertical-align: middle;\n",
       "    }\n",
       "\n",
       "    .dataframe tbody tr th {\n",
       "        vertical-align: top;\n",
       "    }\n",
       "\n",
       "    .dataframe thead th {\n",
       "        text-align: right;\n",
       "    }\n",
       "</style>\n",
       "<table border=\"1\" class=\"dataframe\">\n",
       "  <thead>\n",
       "    <tr style=\"text-align: right;\">\n",
       "      <th></th>\n",
       "      <th>title</th>\n",
       "      <th>country</th>\n",
       "      <th>city</th>\n",
       "      <th>company_name</th>\n",
       "      <th>employment_type</th>\n",
       "      <th>employee_qty</th>\n",
       "      <th>company_field</th>\n",
       "    </tr>\n",
       "  </thead>\n",
       "  <tbody>\n",
       "    <tr>\n",
       "      <th>0</th>\n",
       "      <td>data analyst</td>\n",
       "      <td>Switzerland</td>\n",
       "      <td>Basel</td>\n",
       "      <td>PharmiWeb.Jobs: Global Life Science Jobs</td>\n",
       "      <td>On-site</td>\n",
       "      <td>11-50 employees</td>\n",
       "      <td>staffing and recruiting</td>\n",
       "    </tr>\n",
       "    <tr>\n",
       "      <th>1</th>\n",
       "      <td>data analyst   logistics</td>\n",
       "      <td>United Kingdom</td>\n",
       "      <td>Coventry</td>\n",
       "      <td>Resolute Recruitment</td>\n",
       "      <td>On-site</td>\n",
       "      <td>not specified</td>\n",
       "      <td>not specified</td>\n",
       "    </tr>\n",
       "    <tr>\n",
       "      <th>2</th>\n",
       "      <td>data analyst   logistics</td>\n",
       "      <td>United Kingdom</td>\n",
       "      <td>Coventry</td>\n",
       "      <td>Resolute Recruitment</td>\n",
       "      <td>On-site</td>\n",
       "      <td>not specified</td>\n",
       "      <td>not specified</td>\n",
       "    </tr>\n",
       "    <tr>\n",
       "      <th>3</th>\n",
       "      <td>data analyst (space &amp; planning)</td>\n",
       "      <td>United Kingdom</td>\n",
       "      <td>South Molton</td>\n",
       "      <td>Mole Valley Farmers</td>\n",
       "      <td>On-site</td>\n",
       "      <td>not specified</td>\n",
       "      <td>not specified</td>\n",
       "    </tr>\n",
       "    <tr>\n",
       "      <th>4</th>\n",
       "      <td>data analyst</td>\n",
       "      <td>Switzerland</td>\n",
       "      <td>Lugano</td>\n",
       "      <td>FORFIRM</td>\n",
       "      <td>On-site</td>\n",
       "      <td>not specified</td>\n",
       "      <td>not specified</td>\n",
       "    </tr>\n",
       "  </tbody>\n",
       "</table>\n",
       "</div>"
      ],
      "text/plain": [
       "                             title         country          city  \\\n",
       "0                     data analyst     Switzerland         Basel   \n",
       "1         data analyst   logistics  United Kingdom      Coventry   \n",
       "2         data analyst   logistics  United Kingdom      Coventry   \n",
       "3  data analyst (space & planning)  United Kingdom  South Molton   \n",
       "4                     data analyst     Switzerland        Lugano   \n",
       "\n",
       "                               company_name employment_type     employee_qty  \\\n",
       "0  PharmiWeb.Jobs: Global Life Science Jobs         On-site  11-50 employees   \n",
       "1                      Resolute Recruitment         On-site    not specified   \n",
       "2                      Resolute Recruitment         On-site    not specified   \n",
       "3                       Mole Valley Farmers         On-site    not specified   \n",
       "4                                   FORFIRM         On-site    not specified   \n",
       "\n",
       "             company_field  \n",
       "0  staffing and recruiting  \n",
       "1            not specified  \n",
       "2            not specified  \n",
       "3            not specified  \n",
       "4            not specified  "
      ]
     },
     "execution_count": 94,
     "metadata": {},
     "output_type": "execute_result"
    }
   ],
   "source": [
    "final_vacancies = df[df['relevant'] == 1][['title', 'country', 'city', 'company_name', 'employment_type', 'employee_qty', 'company_field']].reset_index(drop=True)\n",
    "final_vacancies.head()"
   ]
  },
  {
   "cell_type": "code",
   "execution_count": 95,
   "id": "2c8662c3",
   "metadata": {},
   "outputs": [],
   "source": [
    "# выгрузим файл в csv\n",
    "final_vacancies.to_csv('final_vacancies.csv', index_label = 'vacancy_id')"
   ]
  },
  {
   "cell_type": "markdown",
   "id": "4cea4603",
   "metadata": {},
   "source": [
    "Теперь сделаем датасет для хард скиллов (нам оттуда понадобятся только сами скиллы и наименования вакансий для счёта строк, где встречаются скиллы)"
   ]
  },
  {
   "cell_type": "code",
   "execution_count": 96,
   "id": "93adccec",
   "metadata": {},
   "outputs": [],
   "source": [
    "vacancies_skills = df[df['relevant'] == 1][['title', 'hard_skills']].reset_index(drop=True)"
   ]
  },
  {
   "cell_type": "code",
   "execution_count": 97,
   "id": "1bdf6201",
   "metadata": {},
   "outputs": [],
   "source": [
    "vacancies_skills = vacancies_skills.explode('hard_skills')"
   ]
  },
  {
   "cell_type": "code",
   "execution_count": 98,
   "id": "e7105d39",
   "metadata": {},
   "outputs": [
    {
     "data": {
      "text/html": [
       "<div>\n",
       "<style scoped>\n",
       "    .dataframe tbody tr th:only-of-type {\n",
       "        vertical-align: middle;\n",
       "    }\n",
       "\n",
       "    .dataframe tbody tr th {\n",
       "        vertical-align: top;\n",
       "    }\n",
       "\n",
       "    .dataframe thead th {\n",
       "        text-align: right;\n",
       "    }\n",
       "</style>\n",
       "<table border=\"1\" class=\"dataframe\">\n",
       "  <thead>\n",
       "    <tr style=\"text-align: right;\">\n",
       "      <th></th>\n",
       "      <th>title</th>\n",
       "      <th>hard_skills</th>\n",
       "    </tr>\n",
       "  </thead>\n",
       "  <tbody>\n",
       "    <tr>\n",
       "      <th>0</th>\n",
       "      <td>data analyst</td>\n",
       "      <td>data mining</td>\n",
       "    </tr>\n",
       "    <tr>\n",
       "      <th>0</th>\n",
       "      <td>data analyst</td>\n",
       "      <td>excel</td>\n",
       "    </tr>\n",
       "    <tr>\n",
       "      <th>0</th>\n",
       "      <td>data analyst</td>\n",
       "      <td>sap</td>\n",
       "    </tr>\n",
       "    <tr>\n",
       "      <th>0</th>\n",
       "      <td>data analyst</td>\n",
       "      <td>sas</td>\n",
       "    </tr>\n",
       "    <tr>\n",
       "      <th>0</th>\n",
       "      <td>data analyst</td>\n",
       "      <td>spss</td>\n",
       "    </tr>\n",
       "    <tr>\n",
       "      <th>...</th>\n",
       "      <td>...</td>\n",
       "      <td>...</td>\n",
       "    </tr>\n",
       "    <tr>\n",
       "      <th>486</th>\n",
       "      <td>stage | data analyst</td>\n",
       "      <td>ai</td>\n",
       "    </tr>\n",
       "    <tr>\n",
       "      <th>486</th>\n",
       "      <td>stage | data analyst</td>\n",
       "      <td>excel</td>\n",
       "    </tr>\n",
       "    <tr>\n",
       "      <th>486</th>\n",
       "      <td>stage | data analyst</td>\n",
       "      <td>power point</td>\n",
       "    </tr>\n",
       "    <tr>\n",
       "      <th>486</th>\n",
       "      <td>stage | data analyst</td>\n",
       "      <td>powerpoint</td>\n",
       "    </tr>\n",
       "    <tr>\n",
       "      <th>487</th>\n",
       "      <td>analista de datos bi</td>\n",
       "      <td>power bi</td>\n",
       "    </tr>\n",
       "  </tbody>\n",
       "</table>\n",
       "<p>2273 rows × 2 columns</p>\n",
       "</div>"
      ],
      "text/plain": [
       "                    title  hard_skills\n",
       "0            data analyst  data mining\n",
       "0            data analyst        excel\n",
       "0            data analyst          sap\n",
       "0            data analyst          sas\n",
       "0            data analyst         spss\n",
       "..                    ...          ...\n",
       "486  stage | data analyst           ai\n",
       "486  stage | data analyst        excel\n",
       "486  stage | data analyst  power point\n",
       "486  stage | data analyst   powerpoint\n",
       "487  analista de datos bi     power bi\n",
       "\n",
       "[2273 rows x 2 columns]"
      ]
     },
     "execution_count": 98,
     "metadata": {},
     "output_type": "execute_result"
    }
   ],
   "source": [
    "vacancies_skills"
   ]
  },
  {
   "cell_type": "markdown",
   "id": "89c9ccd4",
   "metadata": {},
   "source": [
    "На текущем этапе нужно дополнительно обработать столбец hard_skills от неявных дубликатов (здесь одни и теже названия встречаются с пробелами, без или с другими символами). Проще всего можно это исправить удалив все пробелы, дефисы и знаки \"слэш\". Смотреться будет некарсиво, но максимально быстро и эффективно. Но предварительно проверим нет ли пропусков."
   ]
  },
  {
   "cell_type": "code",
   "execution_count": 99,
   "id": "39b84cf7",
   "metadata": {},
   "outputs": [
    {
     "data": {
      "text/plain": [
       "32"
      ]
     },
     "execution_count": 99,
     "metadata": {},
     "output_type": "execute_result"
    }
   ],
   "source": [
    "vacancies_skills['hard_skills'].isna().sum()"
   ]
  },
  {
   "cell_type": "markdown",
   "id": "31e39697",
   "metadata": {},
   "source": [
    "Пропуски предлагаю заменить на 'unknown'"
   ]
  },
  {
   "cell_type": "code",
   "execution_count": 100,
   "id": "294717be",
   "metadata": {},
   "outputs": [
    {
     "data": {
      "text/plain": [
       "0"
      ]
     },
     "execution_count": 100,
     "metadata": {},
     "output_type": "execute_result"
    }
   ],
   "source": [
    "vacancies_skills['hard_skills'] = vacancies_skills['hard_skills'].fillna('unknown')\n",
    "vacancies_skills['hard_skills'].isna().sum()"
   ]
  },
  {
   "cell_type": "markdown",
   "id": "7e7da9d9",
   "metadata": {},
   "source": [
    "Теперь дубликаты"
   ]
  },
  {
   "cell_type": "code",
   "execution_count": 101,
   "id": "dd80e74d",
   "metadata": {
    "scrolled": true
   },
   "outputs": [
    {
     "data": {
      "text/plain": [
       "151"
      ]
     },
     "execution_count": 101,
     "metadata": {},
     "output_type": "execute_result"
    }
   ],
   "source": [
    "vacancies_skills['hard_skills'].nunique()"
   ]
  },
  {
   "cell_type": "code",
   "execution_count": 102,
   "id": "b0b5814b",
   "metadata": {},
   "outputs": [],
   "source": [
    "# заменим \"/\", \".\", \"-\" и пробелы.\n",
    "vacancies_skills['hard_skills'] = vacancies_skills['hard_skills'].apply(lambda x: x.replace('/', ''))\n",
    "vacancies_skills['hard_skills'] = vacancies_skills['hard_skills'].apply(lambda x: x.replace('-', ''))\n",
    "vacancies_skills['hard_skills'] = vacancies_skills['hard_skills'].apply(lambda x: x.replace('.', ''))\n",
    "vacancies_skills['hard_skills'] = vacancies_skills['hard_skills'].apply(lambda x: x.replace(' ', ''))"
   ]
  },
  {
   "cell_type": "code",
   "execution_count": 103,
   "id": "cbc85e1e",
   "metadata": {
    "scrolled": true
   },
   "outputs": [
    {
     "data": {
      "text/plain": [
       "147"
      ]
     },
     "execution_count": 103,
     "metadata": {},
     "output_type": "execute_result"
    }
   ],
   "source": [
    "vacancies_skills['hard_skills'].nunique()"
   ]
  },
  {
   "cell_type": "markdown",
   "id": "47961d2c",
   "metadata": {},
   "source": [
    "Таким образом, количество всех скиллов снизилось с 151 до 147.  \n",
    "Далее сохраним в csv"
   ]
  },
  {
   "cell_type": "code",
   "execution_count": 104,
   "id": "368355b9",
   "metadata": {},
   "outputs": [],
   "source": [
    "#  сохраним в csv\n",
    "vacancies_skills.to_csv('vacancies_skills.csv', index_label = 'vacancy_id')"
   ]
  },
  {
   "cell_type": "markdown",
   "id": "41831f73",
   "metadata": {},
   "source": [
    "## Визуализации\n",
    "собран дашборд в Tableau\n",
    "https://public.tableau.com/app/profile/marat.pshikhachev/viz/linkedIn_dashboard/Dashboard_LinkedIn?publish=yes"
   ]
  },
  {
   "cell_type": "markdown",
   "id": "fe754b3e",
   "metadata": {},
   "source": [
    "## Итого\n",
    "- На вход было получен датасет, который содержит 10 столбцов (наименование вакансий, локация, страна, тип занятости, название компании, количество сотрудников, сфера деятельности, скиллы, описание вакансии, количество кандидатов)\n",
    "- было обнаружено 112 полных дубликатов – все удалены\n",
    "- в столбце с вакансиями всё переведено в нижний регистр, для упрощения отбора.\n",
    "- столбцы `location` и `country` обработаны на предмет неявных дубликатов. В результате: из 72 записей исходных стран получилось 29 корректных, а из 428 записей уникальных локаций – 375 записей уникальных городов\n",
    "  - в графе тип занятости есть 67 строк, где не указан тип занятости. Обработать данную ситуацию невозможно – оставлено как есть\n",
    "- в столбце ` company_name` обнаружено 2 компании без названий – заменено на “ not specified”.\n",
    "- в столбце с информацией о количестве сотрудников удалена лишняя информация, а также в 4 строках заполнены пропуски по информации с других строк тех же компаний.\n",
    "- в столбце ` company_field` проведена аналогичная операция (удалено 5 пропусков)\n",
    "- из столбцов “skills”` и “job_description” выделены хард-скиллы в отдельный столбец “hard_skills”\n",
    "- в столбце “applicants” обнаружено 159 пропусков оставлены без изменений.\n",
    "\n",
    "- отобраны только релевантные вакансии (data analyst и BI analyst, в обоих случаях junior) – получилось 488 строк\n",
    "- по итогу сформированы два датасета: `final_vacancies` и `vacancies_skills` (выгружены в формате CSV). В датасете `vacancies_skills` скиллы дополнительно обработаны от дубликатов (итоговое общее количество скиллов в датасете 147).\n",
    "- сделан дашборд\n"
   ]
  },
  {
   "cell_type": "code",
   "execution_count": null,
   "id": "c1ec8581",
   "metadata": {},
   "outputs": [],
   "source": []
  }
 ],
 "metadata": {
  "kernelspec": {
   "display_name": "Python 3 (ipykernel)",
   "language": "python",
   "name": "python3"
  },
  "language_info": {
   "codemirror_mode": {
    "name": "ipython",
    "version": 3
   },
   "file_extension": ".py",
   "mimetype": "text/x-python",
   "name": "python",
   "nbconvert_exporter": "python",
   "pygments_lexer": "ipython3",
   "version": "3.9.13"
  }
 },
 "nbformat": 4,
 "nbformat_minor": 5
}
